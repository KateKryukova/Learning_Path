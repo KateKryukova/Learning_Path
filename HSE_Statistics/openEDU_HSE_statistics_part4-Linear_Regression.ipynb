{
 "cells": [
  {
   "cell_type": "code",
   "execution_count": 91,
   "id": "b14017e3",
   "metadata": {},
   "outputs": [],
   "source": [
    "import pandas as pd\n",
    "import numpy as np\n",
    "import seaborn as sns\n",
    "import statsmodels.api as sm\n",
    "import matplotlib.pyplot as plt\n",
    "import scipy.stats"
   ]
  },
  {
   "cell_type": "code",
   "execution_count": 92,
   "id": "13a7f996",
   "metadata": {},
   "outputs": [
    {
     "data": {
      "text/html": [
       "<div>\n",
       "<style scoped>\n",
       "    .dataframe tbody tr th:only-of-type {\n",
       "        vertical-align: middle;\n",
       "    }\n",
       "\n",
       "    .dataframe tbody tr th {\n",
       "        vertical-align: top;\n",
       "    }\n",
       "\n",
       "    .dataframe thead th {\n",
       "        text-align: right;\n",
       "    }\n",
       "</style>\n",
       "<table border=\"1\" class=\"dataframe\">\n",
       "  <thead>\n",
       "    <tr style=\"text-align: right;\">\n",
       "      <th></th>\n",
       "      <th>competitorname</th>\n",
       "      <th>chocolate</th>\n",
       "      <th>fruity</th>\n",
       "      <th>caramel</th>\n",
       "      <th>peanutyalmondy</th>\n",
       "      <th>nougat</th>\n",
       "      <th>crispedricewafer</th>\n",
       "      <th>hard</th>\n",
       "      <th>bar</th>\n",
       "      <th>pluribus</th>\n",
       "      <th>sugarpercent</th>\n",
       "      <th>pricepercent</th>\n",
       "      <th>winpercent</th>\n",
       "    </tr>\n",
       "  </thead>\n",
       "  <tbody>\n",
       "    <tr>\n",
       "      <th>0</th>\n",
       "      <td>100 Grand</td>\n",
       "      <td>1</td>\n",
       "      <td>0</td>\n",
       "      <td>1</td>\n",
       "      <td>0</td>\n",
       "      <td>0</td>\n",
       "      <td>1</td>\n",
       "      <td>0</td>\n",
       "      <td>1</td>\n",
       "      <td>0</td>\n",
       "      <td>0.732</td>\n",
       "      <td>0.860</td>\n",
       "      <td>66.971725</td>\n",
       "    </tr>\n",
       "    <tr>\n",
       "      <th>1</th>\n",
       "      <td>3 Musketeers</td>\n",
       "      <td>1</td>\n",
       "      <td>0</td>\n",
       "      <td>0</td>\n",
       "      <td>0</td>\n",
       "      <td>1</td>\n",
       "      <td>0</td>\n",
       "      <td>0</td>\n",
       "      <td>1</td>\n",
       "      <td>0</td>\n",
       "      <td>0.604</td>\n",
       "      <td>0.511</td>\n",
       "      <td>67.602936</td>\n",
       "    </tr>\n",
       "    <tr>\n",
       "      <th>2</th>\n",
       "      <td>One dime</td>\n",
       "      <td>0</td>\n",
       "      <td>0</td>\n",
       "      <td>0</td>\n",
       "      <td>0</td>\n",
       "      <td>0</td>\n",
       "      <td>0</td>\n",
       "      <td>0</td>\n",
       "      <td>0</td>\n",
       "      <td>0</td>\n",
       "      <td>0.011</td>\n",
       "      <td>0.116</td>\n",
       "      <td>32.261086</td>\n",
       "    </tr>\n",
       "    <tr>\n",
       "      <th>3</th>\n",
       "      <td>One quarter</td>\n",
       "      <td>0</td>\n",
       "      <td>0</td>\n",
       "      <td>0</td>\n",
       "      <td>0</td>\n",
       "      <td>0</td>\n",
       "      <td>0</td>\n",
       "      <td>0</td>\n",
       "      <td>0</td>\n",
       "      <td>0</td>\n",
       "      <td>0.011</td>\n",
       "      <td>0.511</td>\n",
       "      <td>46.116505</td>\n",
       "    </tr>\n",
       "    <tr>\n",
       "      <th>4</th>\n",
       "      <td>Air Heads</td>\n",
       "      <td>0</td>\n",
       "      <td>1</td>\n",
       "      <td>0</td>\n",
       "      <td>0</td>\n",
       "      <td>0</td>\n",
       "      <td>0</td>\n",
       "      <td>0</td>\n",
       "      <td>0</td>\n",
       "      <td>0</td>\n",
       "      <td>0.906</td>\n",
       "      <td>0.511</td>\n",
       "      <td>52.341465</td>\n",
       "    </tr>\n",
       "  </tbody>\n",
       "</table>\n",
       "</div>"
      ],
      "text/plain": [
       "  competitorname  chocolate  fruity  caramel  peanutyalmondy  nougat  \\\n",
       "0      100 Grand          1       0        1               0       0   \n",
       "1   3 Musketeers          1       0        0               0       1   \n",
       "2       One dime          0       0        0               0       0   \n",
       "3    One quarter          0       0        0               0       0   \n",
       "4      Air Heads          0       1        0               0       0   \n",
       "\n",
       "   crispedricewafer  hard  bar  pluribus  sugarpercent  pricepercent  \\\n",
       "0                 1     0    1         0         0.732         0.860   \n",
       "1                 0     0    1         0         0.604         0.511   \n",
       "2                 0     0    0         0         0.011         0.116   \n",
       "3                 0     0    0         0         0.011         0.511   \n",
       "4                 0     0    0         0         0.906         0.511   \n",
       "\n",
       "   winpercent  \n",
       "0   66.971725  \n",
       "1   67.602936  \n",
       "2   32.261086  \n",
       "3   46.116505  \n",
       "4   52.341465  "
      ]
     },
     "execution_count": 92,
     "metadata": {},
     "output_type": "execute_result"
    }
   ],
   "source": [
    "df = pd.read_csv('https://courses.openedu.ru/assets/courseware/v1/954a8fb7692301e276996935d4a8267b/asset-v1:hse+STATDA+2021+type@asset+block/CandyData.csv')\n",
    "df.head()"
   ]
  },
  {
   "cell_type": "markdown",
   "id": "78d16d10",
   "metadata": {},
   "source": [
    "<b>Описание данных</b>\n",
    "<br>– chocolate/fruity/caramel/peanutalmondy/nougat/crispedricewafer — содержит ли конфета шоколад/фруктовый ароматизатор/карамель/арахис/нугу/воздушный рис (1 – да/ 0 – нет)\n",
    "<br>– hard — конфета твердая (1 – да/ 0 – нет)\n",
    "<br>– bar — конфета похожа на батончик (1 – да/ 0 – нет)\n",
    "<br>– pluribus — в упаковке одна конфета или несколько (1 – несколько/ 0 – одна)\n",
    "<br>– sugarpercent — процент сахара в конфете\n",
    "<br>– pricepercent — цена конфеты\n",
    "<br>– winpercent — рейтинг конфеты"
   ]
  },
  {
   "cell_type": "markdown",
   "id": "78fd09f4",
   "metadata": {},
   "source": [
    "1. Выберите переменные sugarpercent, pricepercent и winpercent. Проверьте предпосылку о мультиколлинеарности"
   ]
  },
  {
   "cell_type": "code",
   "execution_count": 93,
   "id": "63a9fbd9",
   "metadata": {
    "scrolled": true
   },
   "outputs": [
    {
     "data": {
      "text/plain": [
       "<Axes: >"
      ]
     },
     "execution_count": 93,
     "metadata": {},
     "output_type": "execute_result"
    },
    {
     "data": {
      "image/png": "[encoded data removed]",
      "text/plain": [
       "<Figure size 500x400 with 2 Axes>"
      ]
     },
     "metadata": {},
     "output_type": "display_data"
    }
   ],
   "source": [
    "plt.figure(figsize=(5,4))\n",
    "sns.heatmap(df[['sugarpercent', 'pricepercent', 'winpercent']].corr(), annot=True, cmap=\"Blues\")"
   ]
  },
  {
   "cell_type": "markdown",
   "id": "eb436b60",
   "metadata": {},
   "source": [
    "2. Постройте линейную модель, где зависимой переменной выступает winpercent, а независимой – sugarpercent. Укажите, верно ли следующее утверждение: на уровне значимости 0.05 процент сахара в конфете статистически значимо влияет на рейтинг конфеты."
   ]
  },
  {
   "cell_type": "code",
   "execution_count": 94,
   "id": "9daf8c23",
   "metadata": {},
   "outputs": [
    {
     "data": {
      "text/plain": [
       "LinregressResult(slope=11.923863286810722, intercept=44.60944180753465, rvalue=0.22915065712800645, pvalue=0.034897896761698376, stderr=5.5596076890773345, intercept_stderr=3.0860859920175674)"
      ]
     },
     "execution_count": 94,
     "metadata": {},
     "output_type": "execute_result"
    }
   ],
   "source": [
    "X = df['sugarpercent']\n",
    "y = df['winpercent']\n",
    "scipy.stats.linregress(X, y)"
   ]
  },
  {
   "cell_type": "code",
   "execution_count": 95,
   "id": "12910561",
   "metadata": {},
   "outputs": [
    {
     "data": {
      "text/plain": [
       "0.052510023662197175"
      ]
     },
     "execution_count": 95,
     "metadata": {},
     "output_type": "execute_result"
    }
   ],
   "source": [
    "0.22915065712800645 ** 2"
   ]
  },
  {
   "cell_type": "markdown",
   "id": "f2221341",
   "metadata": {},
   "source": [
    "3. Постройте линейную модель, где зависимой переменной выступает winpercent, а независимыми – sugarpercent и pricepercent. Чему будет равно значение оценки коэффициента при цене конфеты? Введите ответ в виде десятичной дроби, округлите до двух знаков после запятой; если значение отрицательное, не забудьте указать минус перед числом."
   ]
  },
  {
   "cell_type": "code",
   "execution_count": 96,
   "id": "956a6c1a",
   "metadata": {},
   "outputs": [
    {
     "data": {
      "text/html": [
       "<table class=\"simpletable\">\n",
       "<caption>OLS Regression Results</caption>\n",
       "<tr>\n",
       "  <th>Dep. Variable:</th>       <td>winpercent</td>    <th>  R-squared:         </th> <td>   0.134</td>\n",
       "</tr>\n",
       "<tr>\n",
       "  <th>Model:</th>                   <td>OLS</td>       <th>  Adj. R-squared:    </th> <td>   0.113</td>\n",
       "</tr>\n",
       "<tr>\n",
       "  <th>Method:</th>             <td>Least Squares</td>  <th>  F-statistic:       </th> <td>   6.353</td>\n",
       "</tr>\n",
       "<tr>\n",
       "  <th>Date:</th>             <td>Wed, 26 Jul 2023</td> <th>  Prob (F-statistic):</th>  <td>0.00272</td>\n",
       "</tr>\n",
       "<tr>\n",
       "  <th>Time:</th>                 <td>15:27:20</td>     <th>  Log-Likelihood:    </th> <td> -342.53</td>\n",
       "</tr>\n",
       "<tr>\n",
       "  <th>No. Observations:</th>      <td>    85</td>      <th>  AIC:               </th> <td>   691.1</td>\n",
       "</tr>\n",
       "<tr>\n",
       "  <th>Df Residuals:</th>          <td>    82</td>      <th>  BIC:               </th> <td>   698.4</td>\n",
       "</tr>\n",
       "<tr>\n",
       "  <th>Df Model:</th>              <td>     2</td>      <th>                     </th>     <td> </td>   \n",
       "</tr>\n",
       "<tr>\n",
       "  <th>Covariance Type:</th>      <td>nonrobust</td>    <th>                     </th>     <td> </td>   \n",
       "</tr>\n",
       "</table>\n",
       "<table class=\"simpletable\">\n",
       "<tr>\n",
       "        <td></td>          <th>coef</th>     <th>std err</th>      <th>t</th>      <th>P>|t|</th>  <th>[0.025</th>    <th>0.975]</th>  \n",
       "</tr>\n",
       "<tr>\n",
       "  <th>const</th>        <td>   39.7867</td> <td>    3.438</td> <td>   11.574</td> <td> 0.000</td> <td>   32.948</td> <td>   46.625</td>\n",
       "</tr>\n",
       "<tr>\n",
       "  <th>sugarpercent</th> <td>    6.7311</td> <td>    5.664</td> <td>    1.188</td> <td> 0.238</td> <td>   -4.536</td> <td>   17.998</td>\n",
       "</tr>\n",
       "<tr>\n",
       "  <th>pricepercent</th> <td>   15.5865</td> <td>    5.605</td> <td>    2.781</td> <td> 0.007</td> <td>    4.436</td> <td>   26.737</td>\n",
       "</tr>\n",
       "</table>\n",
       "<table class=\"simpletable\">\n",
       "<tr>\n",
       "  <th>Omnibus:</th>       <td> 0.572</td> <th>  Durbin-Watson:     </th> <td>   1.424</td>\n",
       "</tr>\n",
       "<tr>\n",
       "  <th>Prob(Omnibus):</th> <td> 0.751</td> <th>  Jarque-Bera (JB):  </th> <td>   0.467</td>\n",
       "</tr>\n",
       "<tr>\n",
       "  <th>Skew:</th>          <td> 0.180</td> <th>  Prob(JB):          </th> <td>   0.792</td>\n",
       "</tr>\n",
       "<tr>\n",
       "  <th>Kurtosis:</th>      <td> 2.946</td> <th>  Cond. No.          </th> <td>    5.27</td>\n",
       "</tr>\n",
       "</table><br/><br/>Notes:<br/>[1] Standard Errors assume that the covariance matrix of the errors is correctly specified."
      ],
      "text/latex": [
       "\\begin{center}\n",
       "\\begin{tabular}{lclc}\n",
       "\\toprule\n",
       "\\textbf{Dep. Variable:}    &    winpercent    & \\textbf{  R-squared:         } &     0.134   \\\\\n",
       "\\textbf{Model:}            &       OLS        & \\textbf{  Adj. R-squared:    } &     0.113   \\\\\n",
       "\\textbf{Method:}           &  Least Squares   & \\textbf{  F-statistic:       } &     6.353   \\\\\n",
       "\\textbf{Date:}             & Wed, 26 Jul 2023 & \\textbf{  Prob (F-statistic):} &  0.00272    \\\\\n",
       "\\textbf{Time:}             &     15:27:20     & \\textbf{  Log-Likelihood:    } &   -342.53   \\\\\n",
       "\\textbf{No. Observations:} &          85      & \\textbf{  AIC:               } &     691.1   \\\\\n",
       "\\textbf{Df Residuals:}     &          82      & \\textbf{  BIC:               } &     698.4   \\\\\n",
       "\\textbf{Df Model:}         &           2      & \\textbf{                     } &             \\\\\n",
       "\\textbf{Covariance Type:}  &    nonrobust     & \\textbf{                     } &             \\\\\n",
       "\\bottomrule\n",
       "\\end{tabular}\n",
       "\\begin{tabular}{lcccccc}\n",
       "                      & \\textbf{coef} & \\textbf{std err} & \\textbf{t} & \\textbf{P$> |$t$|$} & \\textbf{[0.025} & \\textbf{0.975]}  \\\\\n",
       "\\midrule\n",
       "\\textbf{const}        &      39.7867  &        3.438     &    11.574  &         0.000        &       32.948    &       46.625     \\\\\n",
       "\\textbf{sugarpercent} &       6.7311  &        5.664     &     1.188  &         0.238        &       -4.536    &       17.998     \\\\\n",
       "\\textbf{pricepercent} &      15.5865  &        5.605     &     2.781  &         0.007        &        4.436    &       26.737     \\\\\n",
       "\\bottomrule\n",
       "\\end{tabular}\n",
       "\\begin{tabular}{lclc}\n",
       "\\textbf{Omnibus:}       &  0.572 & \\textbf{  Durbin-Watson:     } &    1.424  \\\\\n",
       "\\textbf{Prob(Omnibus):} &  0.751 & \\textbf{  Jarque-Bera (JB):  } &    0.467  \\\\\n",
       "\\textbf{Skew:}          &  0.180 & \\textbf{  Prob(JB):          } &    0.792  \\\\\n",
       "\\textbf{Kurtosis:}      &  2.946 & \\textbf{  Cond. No.          } &     5.27  \\\\\n",
       "\\bottomrule\n",
       "\\end{tabular}\n",
       "%\\caption{OLS Regression Results}\n",
       "\\end{center}\n",
       "\n",
       "Notes: \\newline\n",
       " [1] Standard Errors assume that the covariance matrix of the errors is correctly specified."
      ],
      "text/plain": [
       "<class 'statsmodels.iolib.summary.Summary'>\n",
       "\"\"\"\n",
       "                            OLS Regression Results                            \n",
       "==============================================================================\n",
       "Dep. Variable:             winpercent   R-squared:                       0.134\n",
       "Model:                            OLS   Adj. R-squared:                  0.113\n",
       "Method:                 Least Squares   F-statistic:                     6.353\n",
       "Date:                Wed, 26 Jul 2023   Prob (F-statistic):            0.00272\n",
       "Time:                        15:27:20   Log-Likelihood:                -342.53\n",
       "No. Observations:                  85   AIC:                             691.1\n",
       "Df Residuals:                      82   BIC:                             698.4\n",
       "Df Model:                           2                                         \n",
       "Covariance Type:            nonrobust                                         \n",
       "================================================================================\n",
       "                   coef    std err          t      P>|t|      [0.025      0.975]\n",
       "--------------------------------------------------------------------------------\n",
       "const           39.7867      3.438     11.574      0.000      32.948      46.625\n",
       "sugarpercent     6.7311      5.664      1.188      0.238      -4.536      17.998\n",
       "pricepercent    15.5865      5.605      2.781      0.007       4.436      26.737\n",
       "==============================================================================\n",
       "Omnibus:                        0.572   Durbin-Watson:                   1.424\n",
       "Prob(Omnibus):                  0.751   Jarque-Bera (JB):                0.467\n",
       "Skew:                           0.180   Prob(JB):                        0.792\n",
       "Kurtosis:                       2.946   Cond. No.                         5.27\n",
       "==============================================================================\n",
       "\n",
       "Notes:\n",
       "[1] Standard Errors assume that the covariance matrix of the errors is correctly specified.\n",
       "\"\"\""
      ]
     },
     "execution_count": 96,
     "metadata": {},
     "output_type": "execute_result"
    }
   ],
   "source": [
    "X_mult = df[['sugarpercent', 'pricepercent']]\n",
    "y = df['winpercent']\n",
    "X_mult_constant = sm.add_constant(X_mult)\n",
    "\n",
    "model = sm.OLS(y, X_mult_constant)\n",
    "res = model.fit()\n",
    "res.summary()"
   ]
  },
  {
   "cell_type": "code",
   "execution_count": null,
   "id": "d94c9707",
   "metadata": {},
   "outputs": [],
   "source": []
  },
  {
   "cell_type": "markdown",
   "id": "a0c0adf6",
   "metadata": {},
   "source": [
    "### TEST 2"
   ]
  },
  {
   "cell_type": "markdown",
   "id": "d26b0dda",
   "metadata": {},
   "source": [
    "<b>2-1</b>\n",
    "    <br>\n",
    "Перед выполнением задания создайте переменную winpercent_0_1, которая принимает значение 1, если рейтинг конфеты больше или равен 50, и 0 в обратном случае.\n",
    "<br>\n",
    "Постройте логистическую модель, где зависимой переменной выступает winpercent_0_1, а независимой – sugarpercent. Выберите верную интерпретацию константы."
   ]
  },
  {
   "cell_type": "code",
   "execution_count": 97,
   "id": "d1bc4dea",
   "metadata": {},
   "outputs": [
    {
     "data": {
      "text/html": [
       "<div>\n",
       "<style scoped>\n",
       "    .dataframe tbody tr th:only-of-type {\n",
       "        vertical-align: middle;\n",
       "    }\n",
       "\n",
       "    .dataframe tbody tr th {\n",
       "        vertical-align: top;\n",
       "    }\n",
       "\n",
       "    .dataframe thead th {\n",
       "        text-align: right;\n",
       "    }\n",
       "</style>\n",
       "<table border=\"1\" class=\"dataframe\">\n",
       "  <thead>\n",
       "    <tr style=\"text-align: right;\">\n",
       "      <th></th>\n",
       "      <th>competitorname</th>\n",
       "      <th>chocolate</th>\n",
       "      <th>fruity</th>\n",
       "      <th>caramel</th>\n",
       "      <th>peanutyalmondy</th>\n",
       "      <th>nougat</th>\n",
       "      <th>crispedricewafer</th>\n",
       "      <th>hard</th>\n",
       "      <th>bar</th>\n",
       "      <th>pluribus</th>\n",
       "      <th>sugarpercent</th>\n",
       "      <th>pricepercent</th>\n",
       "      <th>winpercent</th>\n",
       "      <th>winpercent_0_1</th>\n",
       "    </tr>\n",
       "  </thead>\n",
       "  <tbody>\n",
       "    <tr>\n",
       "      <th>0</th>\n",
       "      <td>100 Grand</td>\n",
       "      <td>1</td>\n",
       "      <td>0</td>\n",
       "      <td>1</td>\n",
       "      <td>0</td>\n",
       "      <td>0</td>\n",
       "      <td>1</td>\n",
       "      <td>0</td>\n",
       "      <td>1</td>\n",
       "      <td>0</td>\n",
       "      <td>0.732</td>\n",
       "      <td>0.860</td>\n",
       "      <td>66.971725</td>\n",
       "      <td>1</td>\n",
       "    </tr>\n",
       "    <tr>\n",
       "      <th>1</th>\n",
       "      <td>3 Musketeers</td>\n",
       "      <td>1</td>\n",
       "      <td>0</td>\n",
       "      <td>0</td>\n",
       "      <td>0</td>\n",
       "      <td>1</td>\n",
       "      <td>0</td>\n",
       "      <td>0</td>\n",
       "      <td>1</td>\n",
       "      <td>0</td>\n",
       "      <td>0.604</td>\n",
       "      <td>0.511</td>\n",
       "      <td>67.602936</td>\n",
       "      <td>1</td>\n",
       "    </tr>\n",
       "    <tr>\n",
       "      <th>2</th>\n",
       "      <td>One dime</td>\n",
       "      <td>0</td>\n",
       "      <td>0</td>\n",
       "      <td>0</td>\n",
       "      <td>0</td>\n",
       "      <td>0</td>\n",
       "      <td>0</td>\n",
       "      <td>0</td>\n",
       "      <td>0</td>\n",
       "      <td>0</td>\n",
       "      <td>0.011</td>\n",
       "      <td>0.116</td>\n",
       "      <td>32.261086</td>\n",
       "      <td>0</td>\n",
       "    </tr>\n",
       "    <tr>\n",
       "      <th>3</th>\n",
       "      <td>One quarter</td>\n",
       "      <td>0</td>\n",
       "      <td>0</td>\n",
       "      <td>0</td>\n",
       "      <td>0</td>\n",
       "      <td>0</td>\n",
       "      <td>0</td>\n",
       "      <td>0</td>\n",
       "      <td>0</td>\n",
       "      <td>0</td>\n",
       "      <td>0.011</td>\n",
       "      <td>0.511</td>\n",
       "      <td>46.116505</td>\n",
       "      <td>0</td>\n",
       "    </tr>\n",
       "    <tr>\n",
       "      <th>4</th>\n",
       "      <td>Air Heads</td>\n",
       "      <td>0</td>\n",
       "      <td>1</td>\n",
       "      <td>0</td>\n",
       "      <td>0</td>\n",
       "      <td>0</td>\n",
       "      <td>0</td>\n",
       "      <td>0</td>\n",
       "      <td>0</td>\n",
       "      <td>0</td>\n",
       "      <td>0.906</td>\n",
       "      <td>0.511</td>\n",
       "      <td>52.341465</td>\n",
       "      <td>1</td>\n",
       "    </tr>\n",
       "  </tbody>\n",
       "</table>\n",
       "</div>"
      ],
      "text/plain": [
       "  competitorname  chocolate  fruity  caramel  peanutyalmondy  nougat  \\\n",
       "0      100 Grand          1       0        1               0       0   \n",
       "1   3 Musketeers          1       0        0               0       1   \n",
       "2       One dime          0       0        0               0       0   \n",
       "3    One quarter          0       0        0               0       0   \n",
       "4      Air Heads          0       1        0               0       0   \n",
       "\n",
       "   crispedricewafer  hard  bar  pluribus  sugarpercent  pricepercent  \\\n",
       "0                 1     0    1         0         0.732         0.860   \n",
       "1                 0     0    1         0         0.604         0.511   \n",
       "2                 0     0    0         0         0.011         0.116   \n",
       "3                 0     0    0         0         0.011         0.511   \n",
       "4                 0     0    0         0         0.906         0.511   \n",
       "\n",
       "   winpercent  winpercent_0_1  \n",
       "0   66.971725               1  \n",
       "1   67.602936               1  \n",
       "2   32.261086               0  \n",
       "3   46.116505               0  \n",
       "4   52.341465               1  "
      ]
     },
     "execution_count": 97,
     "metadata": {},
     "output_type": "execute_result"
    }
   ],
   "source": [
    "df['winpercent_0_1'] = np.where(df['winpercent'] >= 50, 1, 0)\n",
    "df.head()"
   ]
  },
  {
   "cell_type": "code",
   "execution_count": 98,
   "id": "0a886383",
   "metadata": {},
   "outputs": [
    {
     "name": "stdout",
     "output_type": "stream",
     "text": [
      "Optimization terminated successfully.\n",
      "         Current function value: 0.672972\n",
      "         Iterations 4\n"
     ]
    },
    {
     "data": {
      "text/html": [
       "<table class=\"simpletable\">\n",
       "<caption>Logit Regression Results</caption>\n",
       "<tr>\n",
       "  <th>Dep. Variable:</th>    <td>winpercent_0_1</td>  <th>  No. Observations:  </th>  <td>    85</td> \n",
       "</tr>\n",
       "<tr>\n",
       "  <th>Model:</th>                 <td>Logit</td>      <th>  Df Residuals:      </th>  <td>    83</td> \n",
       "</tr>\n",
       "<tr>\n",
       "  <th>Method:</th>                 <td>MLE</td>       <th>  Df Model:          </th>  <td>     1</td> \n",
       "</tr>\n",
       "<tr>\n",
       "  <th>Date:</th>            <td>Wed, 26 Jul 2023</td> <th>  Pseudo R-squ.:     </th>  <td>0.02433</td>\n",
       "</tr>\n",
       "<tr>\n",
       "  <th>Time:</th>                <td>15:27:20</td>     <th>  Log-Likelihood:    </th> <td> -57.203</td>\n",
       "</tr>\n",
       "<tr>\n",
       "  <th>converged:</th>             <td>True</td>       <th>  LL-Null:           </th> <td> -58.629</td>\n",
       "</tr>\n",
       "<tr>\n",
       "  <th>Covariance Type:</th>     <td>nonrobust</td>    <th>  LLR p-value:       </th>  <td>0.09122</td>\n",
       "</tr>\n",
       "</table>\n",
       "<table class=\"simpletable\">\n",
       "<tr>\n",
       "        <td></td>          <th>coef</th>     <th>std err</th>      <th>z</th>      <th>P>|z|</th>  <th>[0.025</th>    <th>0.975]</th>  \n",
       "</tr>\n",
       "<tr>\n",
       "  <th>const</th>        <td>   -0.1704</td> <td>    0.221</td> <td>   -0.769</td> <td> 0.442</td> <td>   -0.604</td> <td>    0.264</td>\n",
       "</tr>\n",
       "<tr>\n",
       "  <th>sugarpercent</th> <td>    1.3276</td> <td>    0.798</td> <td>    1.663</td> <td> 0.096</td> <td>   -0.237</td> <td>    2.892</td>\n",
       "</tr>\n",
       "</table>"
      ],
      "text/latex": [
       "\\begin{center}\n",
       "\\begin{tabular}{lclc}\n",
       "\\toprule\n",
       "\\textbf{Dep. Variable:}   & winpercent\\_0\\_1 & \\textbf{  No. Observations:  } &       85    \\\\\n",
       "\\textbf{Model:}           &      Logit       & \\textbf{  Df Residuals:      } &       83    \\\\\n",
       "\\textbf{Method:}          &       MLE        & \\textbf{  Df Model:          } &        1    \\\\\n",
       "\\textbf{Date:}            & Wed, 26 Jul 2023 & \\textbf{  Pseudo R-squ.:     } &  0.02433    \\\\\n",
       "\\textbf{Time:}            &     15:27:20     & \\textbf{  Log-Likelihood:    } &   -57.203   \\\\\n",
       "\\textbf{converged:}       &       True       & \\textbf{  LL-Null:           } &   -58.629   \\\\\n",
       "\\textbf{Covariance Type:} &    nonrobust     & \\textbf{  LLR p-value:       } &  0.09122    \\\\\n",
       "\\bottomrule\n",
       "\\end{tabular}\n",
       "\\begin{tabular}{lcccccc}\n",
       "                      & \\textbf{coef} & \\textbf{std err} & \\textbf{z} & \\textbf{P$> |$z$|$} & \\textbf{[0.025} & \\textbf{0.975]}  \\\\\n",
       "\\midrule\n",
       "\\textbf{const}        &      -0.1704  &        0.221     &    -0.769  &         0.442        &       -0.604    &        0.264     \\\\\n",
       "\\textbf{sugarpercent} &       1.3276  &        0.798     &     1.663  &         0.096        &       -0.237    &        2.892     \\\\\n",
       "\\bottomrule\n",
       "\\end{tabular}\n",
       "%\\caption{Logit Regression Results}\n",
       "\\end{center}"
      ],
      "text/plain": [
       "<class 'statsmodels.iolib.summary.Summary'>\n",
       "\"\"\"\n",
       "                           Logit Regression Results                           \n",
       "==============================================================================\n",
       "Dep. Variable:         winpercent_0_1   No. Observations:                   85\n",
       "Model:                          Logit   Df Residuals:                       83\n",
       "Method:                           MLE   Df Model:                            1\n",
       "Date:                Wed, 26 Jul 2023   Pseudo R-squ.:                 0.02433\n",
       "Time:                        15:27:20   Log-Likelihood:                -57.203\n",
       "converged:                       True   LL-Null:                       -58.629\n",
       "Covariance Type:            nonrobust   LLR p-value:                   0.09122\n",
       "================================================================================\n",
       "                   coef    std err          z      P>|z|      [0.025      0.975]\n",
       "--------------------------------------------------------------------------------\n",
       "const           -0.1704      0.221     -0.769      0.442      -0.604       0.264\n",
       "sugarpercent     1.3276      0.798      1.663      0.096      -0.237       2.892\n",
       "================================================================================\n",
       "\"\"\""
      ]
     },
     "execution_count": 98,
     "metadata": {},
     "output_type": "execute_result"
    }
   ],
   "source": [
    "y = df['winpercent_0_1']\n",
    "X = df['sugarpercent'] - df['sugarpercent'].mean()\n",
    "X_constant = sm.add_constant(X)\n",
    "model = sm.Logit(y, X_constant)\n",
    "res = model.fit()\n",
    "res.summary()"
   ]
  },
  {
   "cell_type": "code",
   "execution_count": 99,
   "id": "91383498",
   "metadata": {},
   "outputs": [
    {
     "data": {
      "text/plain": [
       "2.2384865719528255"
      ]
     },
     "execution_count": 99,
     "metadata": {},
     "output_type": "execute_result"
    }
   ],
   "source": [
    "1/np.exp(-0.8058)"
   ]
  },
  {
   "cell_type": "code",
   "execution_count": 100,
   "id": "70b435ae",
   "metadata": {},
   "outputs": [
    {
     "data": {
      "text/plain": [
       "3.771979764137272"
      ]
     },
     "execution_count": 100,
     "metadata": {},
     "output_type": "execute_result"
    }
   ],
   "source": [
    "np.exp(1.3276)"
   ]
  },
  {
   "cell_type": "markdown",
   "id": "6c5690d1",
   "metadata": {},
   "source": [
    "<b>2-2</b>\n",
    "    <br>\n",
    "Постройте логистическую модель, где зависимой переменной выступает winpercent_0_1, а независимыми – sugarpercent и pricepercent. Чему будет равено отношение шансов при цене конфеты? Введите ответ в виде десятичной дроби, округлите до двух знаков после запятой."
   ]
  },
  {
   "cell_type": "code",
   "execution_count": 101,
   "id": "59246df5",
   "metadata": {},
   "outputs": [
    {
     "name": "stdout",
     "output_type": "stream",
     "text": [
      "Optimization terminated successfully.\n",
      "         Current function value: 0.619123\n",
      "         Iterations 5\n"
     ]
    },
    {
     "data": {
      "text/html": [
       "<table class=\"simpletable\">\n",
       "<caption>Logit Regression Results</caption>\n",
       "<tr>\n",
       "  <th>Dep. Variable:</th>    <td>winpercent_0_1</td>  <th>  No. Observations:  </th>  <td>    85</td> \n",
       "</tr>\n",
       "<tr>\n",
       "  <th>Model:</th>                 <td>Logit</td>      <th>  Df Residuals:      </th>  <td>    82</td> \n",
       "</tr>\n",
       "<tr>\n",
       "  <th>Method:</th>                 <td>MLE</td>       <th>  Df Model:          </th>  <td>     2</td> \n",
       "</tr>\n",
       "<tr>\n",
       "  <th>Date:</th>            <td>Wed, 26 Jul 2023</td> <th>  Pseudo R-squ.:     </th>  <td>0.1024</td> \n",
       "</tr>\n",
       "<tr>\n",
       "  <th>Time:</th>                <td>15:27:20</td>     <th>  Log-Likelihood:    </th> <td> -52.625</td>\n",
       "</tr>\n",
       "<tr>\n",
       "  <th>converged:</th>             <td>True</td>       <th>  LL-Null:           </th> <td> -58.629</td>\n",
       "</tr>\n",
       "<tr>\n",
       "  <th>Covariance Type:</th>     <td>nonrobust</td>    <th>  LLR p-value:       </th> <td>0.002470</td>\n",
       "</tr>\n",
       "</table>\n",
       "<table class=\"simpletable\">\n",
       "<tr>\n",
       "        <td></td>          <th>coef</th>     <th>std err</th>      <th>z</th>      <th>P>|z|</th>  <th>[0.025</th>    <th>0.975]</th>  \n",
       "</tr>\n",
       "<tr>\n",
       "  <th>const</th>        <td>   -1.6935</td> <td>    0.580</td> <td>   -2.918</td> <td> 0.004</td> <td>   -2.831</td> <td>   -0.556</td>\n",
       "</tr>\n",
       "<tr>\n",
       "  <th>sugarpercent</th> <td>    0.5896</td> <td>    0.881</td> <td>    0.669</td> <td> 0.503</td> <td>   -1.137</td> <td>    2.316</td>\n",
       "</tr>\n",
       "<tr>\n",
       "  <th>pricepercent</th> <td>    2.6012</td> <td>    0.906</td> <td>    2.871</td> <td> 0.004</td> <td>    0.825</td> <td>    4.377</td>\n",
       "</tr>\n",
       "</table>"
      ],
      "text/latex": [
       "\\begin{center}\n",
       "\\begin{tabular}{lclc}\n",
       "\\toprule\n",
       "\\textbf{Dep. Variable:}   & winpercent\\_0\\_1 & \\textbf{  No. Observations:  } &       85    \\\\\n",
       "\\textbf{Model:}           &      Logit       & \\textbf{  Df Residuals:      } &       82    \\\\\n",
       "\\textbf{Method:}          &       MLE        & \\textbf{  Df Model:          } &        2    \\\\\n",
       "\\textbf{Date:}            & Wed, 26 Jul 2023 & \\textbf{  Pseudo R-squ.:     } &   0.1024    \\\\\n",
       "\\textbf{Time:}            &     15:27:20     & \\textbf{  Log-Likelihood:    } &   -52.625   \\\\\n",
       "\\textbf{converged:}       &       True       & \\textbf{  LL-Null:           } &   -58.629   \\\\\n",
       "\\textbf{Covariance Type:} &    nonrobust     & \\textbf{  LLR p-value:       } &  0.002470   \\\\\n",
       "\\bottomrule\n",
       "\\end{tabular}\n",
       "\\begin{tabular}{lcccccc}\n",
       "                      & \\textbf{coef} & \\textbf{std err} & \\textbf{z} & \\textbf{P$> |$z$|$} & \\textbf{[0.025} & \\textbf{0.975]}  \\\\\n",
       "\\midrule\n",
       "\\textbf{const}        &      -1.6935  &        0.580     &    -2.918  &         0.004        &       -2.831    &       -0.556     \\\\\n",
       "\\textbf{sugarpercent} &       0.5896  &        0.881     &     0.669  &         0.503        &       -1.137    &        2.316     \\\\\n",
       "\\textbf{pricepercent} &       2.6012  &        0.906     &     2.871  &         0.004        &        0.825    &        4.377     \\\\\n",
       "\\bottomrule\n",
       "\\end{tabular}\n",
       "%\\caption{Logit Regression Results}\n",
       "\\end{center}"
      ],
      "text/plain": [
       "<class 'statsmodels.iolib.summary.Summary'>\n",
       "\"\"\"\n",
       "                           Logit Regression Results                           \n",
       "==============================================================================\n",
       "Dep. Variable:         winpercent_0_1   No. Observations:                   85\n",
       "Model:                          Logit   Df Residuals:                       82\n",
       "Method:                           MLE   Df Model:                            2\n",
       "Date:                Wed, 26 Jul 2023   Pseudo R-squ.:                  0.1024\n",
       "Time:                        15:27:20   Log-Likelihood:                -52.625\n",
       "converged:                       True   LL-Null:                       -58.629\n",
       "Covariance Type:            nonrobust   LLR p-value:                  0.002470\n",
       "================================================================================\n",
       "                   coef    std err          z      P>|z|      [0.025      0.975]\n",
       "--------------------------------------------------------------------------------\n",
       "const           -1.6935      0.580     -2.918      0.004      -2.831      -0.556\n",
       "sugarpercent     0.5896      0.881      0.669      0.503      -1.137       2.316\n",
       "pricepercent     2.6012      0.906      2.871      0.004       0.825       4.377\n",
       "================================================================================\n",
       "\"\"\""
      ]
     },
     "execution_count": 101,
     "metadata": {},
     "output_type": "execute_result"
    }
   ],
   "source": [
    "y = df['winpercent_0_1']\n",
    "X = df[['sugarpercent', 'pricepercent']]\n",
    "X_constant = sm.add_constant(X)\n",
    "model = sm.Logit(y, X_constant)\n",
    "res = model.fit()\n",
    "res.summary()"
   ]
  },
  {
   "cell_type": "code",
   "execution_count": 102,
   "id": "ab3eeb80",
   "metadata": {},
   "outputs": [
    {
     "data": {
      "text/plain": [
       "13.479904218413797"
      ]
     },
     "execution_count": 102,
     "metadata": {},
     "output_type": "execute_result"
    }
   ],
   "source": [
    "np.exp(2.6012)"
   ]
  },
  {
   "cell_type": "code",
   "execution_count": 103,
   "id": "57affc55",
   "metadata": {},
   "outputs": [
    {
     "data": {
      "text/plain": [
       "1.8032669643315304"
      ]
     },
     "execution_count": 103,
     "metadata": {},
     "output_type": "execute_result"
    }
   ],
   "source": [
    "np.exp(0.5896)"
   ]
  },
  {
   "cell_type": "markdown",
   "id": "133c30c8",
   "metadata": {},
   "source": [
    "<b>2-3</b>\n",
    "    <br>\n",
    "Постройте логистическую модель, где зависимой переменной выступает winpercent_0_1, а независимыми – sugarpercent и pricepercent. Во сколько раз будет ниже шанс высокого рейтинга конфеты при нулевом содержании сахара и нулевом значении цены? Введите ответ в виде десятичной дроби, округлите до двух знаков после запятой."
   ]
  },
  {
   "cell_type": "code",
   "execution_count": 104,
   "id": "88d26889",
   "metadata": {},
   "outputs": [
    {
     "data": {
      "text/plain": [
       "0.18387483452370543"
      ]
     },
     "execution_count": 104,
     "metadata": {},
     "output_type": "execute_result"
    }
   ],
   "source": [
    "np.exp(-1.6935)"
   ]
  },
  {
   "cell_type": "code",
   "execution_count": 105,
   "id": "ec2d5147",
   "metadata": {
    "scrolled": true
   },
   "outputs": [
    {
     "data": {
      "text/plain": [
       "5.438482136168782"
      ]
     },
     "execution_count": 105,
     "metadata": {},
     "output_type": "execute_result"
    }
   ],
   "source": [
    "1/ 0.183874834"
   ]
  },
  {
   "cell_type": "markdown",
   "id": "cd2a22b6",
   "metadata": {},
   "source": [
    "<b>2-4</b>\n",
    "    <br>\n",
    "Постройте логистическую модель, где зависимой переменной выступает winpercent_0_1, а независимыми – центрированные sugarpercent и pricepercent. Во сколько раз будет ниже шанс высокого рейтинга конфеты при среднем содержании сахара и среднем значении цены? Введите ответ в виде десятичной дроби, округлите до двух знаков после запятой."
   ]
  },
  {
   "cell_type": "code",
   "execution_count": 106,
   "id": "28c580f5",
   "metadata": {},
   "outputs": [
    {
     "name": "stdout",
     "output_type": "stream",
     "text": [
      "Optimization terminated successfully.\n",
      "         Current function value: 0.619123\n",
      "         Iterations 5\n"
     ]
    },
    {
     "data": {
      "text/html": [
       "<table class=\"simpletable\">\n",
       "<caption>Logit Regression Results</caption>\n",
       "<tr>\n",
       "  <th>Dep. Variable:</th>    <td>winpercent_0_1</td>  <th>  No. Observations:  </th>  <td>    85</td> \n",
       "</tr>\n",
       "<tr>\n",
       "  <th>Model:</th>                 <td>Logit</td>      <th>  Df Residuals:      </th>  <td>    82</td> \n",
       "</tr>\n",
       "<tr>\n",
       "  <th>Method:</th>                 <td>MLE</td>       <th>  Df Model:          </th>  <td>     2</td> \n",
       "</tr>\n",
       "<tr>\n",
       "  <th>Date:</th>            <td>Wed, 26 Jul 2023</td> <th>  Pseudo R-squ.:     </th>  <td>0.1024</td> \n",
       "</tr>\n",
       "<tr>\n",
       "  <th>Time:</th>                <td>15:27:20</td>     <th>  Log-Likelihood:    </th> <td> -52.625</td>\n",
       "</tr>\n",
       "<tr>\n",
       "  <th>converged:</th>             <td>True</td>       <th>  LL-Null:           </th> <td> -58.629</td>\n",
       "</tr>\n",
       "<tr>\n",
       "  <th>Covariance Type:</th>     <td>nonrobust</td>    <th>  LLR p-value:       </th> <td>0.002470</td>\n",
       "</tr>\n",
       "</table>\n",
       "<table class=\"simpletable\">\n",
       "<tr>\n",
       "        <td></td>          <th>coef</th>     <th>std err</th>      <th>z</th>      <th>P>|z|</th>  <th>[0.025</th>    <th>0.975]</th>  \n",
       "</tr>\n",
       "<tr>\n",
       "  <th>const</th>        <td>   -0.1916</td> <td>    0.235</td> <td>   -0.816</td> <td> 0.414</td> <td>   -0.652</td> <td>    0.269</td>\n",
       "</tr>\n",
       "<tr>\n",
       "  <th>sugarpercent</th> <td>    0.5896</td> <td>    0.881</td> <td>    0.669</td> <td> 0.503</td> <td>   -1.137</td> <td>    2.316</td>\n",
       "</tr>\n",
       "<tr>\n",
       "  <th>pricepercent</th> <td>    2.6012</td> <td>    0.906</td> <td>    2.871</td> <td> 0.004</td> <td>    0.825</td> <td>    4.377</td>\n",
       "</tr>\n",
       "</table>"
      ],
      "text/latex": [
       "\\begin{center}\n",
       "\\begin{tabular}{lclc}\n",
       "\\toprule\n",
       "\\textbf{Dep. Variable:}   & winpercent\\_0\\_1 & \\textbf{  No. Observations:  } &       85    \\\\\n",
       "\\textbf{Model:}           &      Logit       & \\textbf{  Df Residuals:      } &       82    \\\\\n",
       "\\textbf{Method:}          &       MLE        & \\textbf{  Df Model:          } &        2    \\\\\n",
       "\\textbf{Date:}            & Wed, 26 Jul 2023 & \\textbf{  Pseudo R-squ.:     } &   0.1024    \\\\\n",
       "\\textbf{Time:}            &     15:27:20     & \\textbf{  Log-Likelihood:    } &   -52.625   \\\\\n",
       "\\textbf{converged:}       &       True       & \\textbf{  LL-Null:           } &   -58.629   \\\\\n",
       "\\textbf{Covariance Type:} &    nonrobust     & \\textbf{  LLR p-value:       } &  0.002470   \\\\\n",
       "\\bottomrule\n",
       "\\end{tabular}\n",
       "\\begin{tabular}{lcccccc}\n",
       "                      & \\textbf{coef} & \\textbf{std err} & \\textbf{z} & \\textbf{P$> |$z$|$} & \\textbf{[0.025} & \\textbf{0.975]}  \\\\\n",
       "\\midrule\n",
       "\\textbf{const}        &      -0.1916  &        0.235     &    -0.816  &         0.414        &       -0.652    &        0.269     \\\\\n",
       "\\textbf{sugarpercent} &       0.5896  &        0.881     &     0.669  &         0.503        &       -1.137    &        2.316     \\\\\n",
       "\\textbf{pricepercent} &       2.6012  &        0.906     &     2.871  &         0.004        &        0.825    &        4.377     \\\\\n",
       "\\bottomrule\n",
       "\\end{tabular}\n",
       "%\\caption{Logit Regression Results}\n",
       "\\end{center}"
      ],
      "text/plain": [
       "<class 'statsmodels.iolib.summary.Summary'>\n",
       "\"\"\"\n",
       "                           Logit Regression Results                           \n",
       "==============================================================================\n",
       "Dep. Variable:         winpercent_0_1   No. Observations:                   85\n",
       "Model:                          Logit   Df Residuals:                       82\n",
       "Method:                           MLE   Df Model:                            2\n",
       "Date:                Wed, 26 Jul 2023   Pseudo R-squ.:                  0.1024\n",
       "Time:                        15:27:20   Log-Likelihood:                -52.625\n",
       "converged:                       True   LL-Null:                       -58.629\n",
       "Covariance Type:            nonrobust   LLR p-value:                  0.002470\n",
       "================================================================================\n",
       "                   coef    std err          z      P>|z|      [0.025      0.975]\n",
       "--------------------------------------------------------------------------------\n",
       "const           -0.1916      0.235     -0.816      0.414      -0.652       0.269\n",
       "sugarpercent     0.5896      0.881      0.669      0.503      -1.137       2.316\n",
       "pricepercent     2.6012      0.906      2.871      0.004       0.825       4.377\n",
       "================================================================================\n",
       "\"\"\""
      ]
     },
     "execution_count": 106,
     "metadata": {},
     "output_type": "execute_result"
    }
   ],
   "source": [
    "y = df['winpercent_0_1']\n",
    "X = df[['sugarpercent', 'pricepercent']] - df[['sugarpercent', 'pricepercent']].mean()\n",
    "X_constant = sm.add_constant(X)\n",
    "model = sm.Logit(y, X_constant)\n",
    "res = model.fit()\n",
    "res.summary()"
   ]
  },
  {
   "cell_type": "code",
   "execution_count": 107,
   "id": "bb5e3e58",
   "metadata": {},
   "outputs": [
    {
     "data": {
      "text/plain": [
       "1.2111859456788328"
      ]
     },
     "execution_count": 107,
     "metadata": {},
     "output_type": "execute_result"
    }
   ],
   "source": [
    "1 / np.exp(-0.1916)"
   ]
  },
  {
   "cell_type": "markdown",
   "id": "6a8c1115",
   "metadata": {},
   "source": [
    "<b>2-5</b>\n",
    "    <br>\n",
    "Посмотрите на результаты двух моделей (с одной центрированной объясняющей переменной sugarpercent и с двумя центрированными объясняющими переменными sugarpercent и pricepercent. Укажите, верно ли следующее утверждение: у модели с большим количеством объясняющих переменных качество выше. Обратите внимание на на псевдо R-квадрат.\n",
    "\n",
    "\n"
   ]
  },
  {
   "cell_type": "markdown",
   "id": "4d1846a8",
   "metadata": {},
   "source": [
    "1 переменная Pseudo R-squ.: 0.02433\n",
    "2 переменных Pseudo R-squ.:\t0.1024"
   ]
  },
  {
   "cell_type": "code",
   "execution_count": null,
   "id": "7f02a928",
   "metadata": {},
   "outputs": [],
   "source": []
  },
  {
   "cell_type": "markdown",
   "id": "edcedfdd",
   "metadata": {},
   "source": [
    "Экзаменационный вариант"
   ]
  },
  {
   "cell_type": "markdown",
   "id": "4f235cbe",
   "metadata": {},
   "source": [
    "1. Аналитик Арсений специализируется в применениях методов машинного обучения и статистики для областей сельского хозяйства. Он решает задачу классификации типа почвы и хочет построить модель для разделения чернозёма и прочих типов. Для этого он использует данные по содержанию гуминовых кислот в кДа (acidG) и фульвокислот в кДа (acidF) в образцах почвы. Он оценил логистическую регрессию на обучающей выборке.\n",
    "Оказалось, что уравнение оценённой модели выглядит следующим образом: \n",
    "<br>\n",
    "$\n",
    "\\hat{P}(y_i = Chernozem) = \\sigma(0.00 - 0.01 \\times G_i + 0.2 \\times acidF_i)\n",
    "$\n",
    "<br>\n",
    "где \n",
    "<br>\n",
    "$\n",
    "\\sigma(⋅) $– логистическая функция.\n",
    "$\n",
    "y_i $– значение целевой переменной для наблюдения i\n",
    "<br>\n",
    "Пусть имеется образец почвы с содержанием гуминовых кислот 15 кДа и фульвокислот 4 кДа. Найдите оценку вероятности принадлежности этого образца к чернозёму, которую выдаст модель Арсения. Ответ округлите до сотых."
   ]
  },
  {
   "cell_type": "code",
   "execution_count": 108,
   "id": "fc9a4d3c",
   "metadata": {},
   "outputs": [
    {
     "data": {
      "text/plain": [
       "0.65"
      ]
     },
     "execution_count": 108,
     "metadata": {},
     "output_type": "execute_result"
    }
   ],
   "source": [
    "p_hat = 0 - 0.01* 15 + 0.2 * 4\n",
    "p_hat"
   ]
  },
  {
   "cell_type": "code",
   "execution_count": 109,
   "id": "1f5eaf22",
   "metadata": {},
   "outputs": [
    {
     "data": {
      "text/plain": [
       "0.6570104626734988"
      ]
     },
     "execution_count": 109,
     "metadata": {},
     "output_type": "execute_result"
    }
   ],
   "source": [
    "np.exp(0.65) / (1 + np.exp(0.65))"
   ]
  },
  {
   "cell_type": "markdown",
   "id": "337a1856",
   "metadata": {},
   "source": [
    "2. Ниже приведены данные об уровнях осадков в двух различных регионах России, измеренные за одинаковые промежутки времени.\n",
    "<br>Регион 1: [103.01, 101.99, 105.21, 106.80, 112.70, 106.13, 110.48, 109.26, 100.44, 100.28]\n",
    "<br>Регион 2: [107.38, 106.31, 106.00, 105.27, 105.27, 104.66, 103.70, 105.07, 105.12, 104.74]\n",
    "<br>Предполагая, что все необходимые предпосылки выполнены, дисперсии генеральных совокупностей равны, а выборки независимы, проверьте гипотезу о равенстве средних уровней осадков при помощи t-теста на уровне значимости 5%. Выберите верное утверждение."
   ]
  },
  {
   "cell_type": "code",
   "execution_count": 110,
   "id": "802fe552",
   "metadata": {},
   "outputs": [
    {
     "data": {
      "text/plain": [
       "Ttest_indResult(statistic=0.2003211139915275, pvalue=0.8434753569984761)"
      ]
     },
     "execution_count": 110,
     "metadata": {},
     "output_type": "execute_result"
    }
   ],
   "source": [
    "reg_1 = np.array([103.01, 101.99, 105.21, 106.80, 112.70, 106.13, 110.48, 109.26, 100.44, 100.28])\n",
    "reg_2 = np.array([107.38, 106.31, 106.00, 105.27, 105.27, 104.66, 103.70, 105.07, 105.12, 104.74])\n",
    "scipy.stats.ttest_ind(reg_1, reg_2)"
   ]
  },
  {
   "cell_type": "code",
   "execution_count": 111,
   "id": "2d6c24fe",
   "metadata": {},
   "outputs": [
    {
     "data": {
      "text/plain": [
       "105.63"
      ]
     },
     "execution_count": 111,
     "metadata": {},
     "output_type": "execute_result"
    }
   ],
   "source": [
    "reg_1.mean()"
   ]
  },
  {
   "cell_type": "code",
   "execution_count": 112,
   "id": "3ef8e5e7",
   "metadata": {},
   "outputs": [
    {
     "data": {
      "text/plain": [
       "105.352"
      ]
     },
     "execution_count": 112,
     "metadata": {},
     "output_type": "execute_result"
    }
   ],
   "source": [
    "reg_2.mean()"
   ]
  },
  {
   "cell_type": "markdown",
   "id": "b4b703de",
   "metadata": {},
   "source": [
    "2. Выберите две переменные, между которыми возможно рассчитать интерпретируемый выборочный коэффициент корреляции Пирсона, и вычислите этот коэффициент по приведённым данным. Ответ округлите до сотых.\n",
    "<br><b>Переменные:</b>\n",
    "<br>Цвет автомобиля, закодированный числами (1 – синий, 2 – красный, 3 – зелёный): [1, 1, 2, 3, 2].\n",
    "<br>Истинный объём бака автомобиля (л): [50.1, 53.2, 55.0, 55.0, 50.2].\n",
    "<br>Пройденный километраж (тыс. км): [15.2, 4.75, 1.2, 1.9, 9.3]."
   ]
  },
  {
   "cell_type": "code",
   "execution_count": 113,
   "id": "68bb599e",
   "metadata": {
    "scrolled": true
   },
   "outputs": [
    {
     "data": {
      "text/plain": [
       "array([[ 1.      , -0.936005],\n",
       "       [-0.936005,  1.      ]])"
      ]
     },
     "execution_count": 113,
     "metadata": {},
     "output_type": "execute_result"
    }
   ],
   "source": [
    "vol = np.array([50.1, 53.2, 55.0, 55.0, 50.2])\n",
    "path = np.array([15.2, 4.75, 1.2, 1.9, 9.3])\n",
    "np.corrcoef(vol, path)"
   ]
  },
  {
   "cell_type": "markdown",
   "id": "ea0782c0",
   "metadata": {},
   "source": [
    "2. Бабушка Афросинья хочет проверить, существует ли зависимость между сортом баклажана и типом почвы, в которую сорт был высажен. Для этого она собрала данные по 150 сортам, высаженных в чернозём, и 150 сортам, высаженных в каштановую почву. Данные представлены в таблице ниже.\n",
    "|                     | Алмаз | Матросик | Снежный |\n",
    "|:-------------------:|:-----:|:--------:|:-------:|\n",
    "|  Чернозёмная почва  |  75   |    20    |    55   |\n",
    "|  Каштановая почва   |  20   |    120   |    10   |\n",
    "\n",
    "    \n",
    "    <br>Рассчитайте статистику \n",
    "    $\\chi^2$-критерия согласия Пирсона и выпишите её в ответ, округлив до сотых."
   ]
  },
  {
   "cell_type": "code",
   "execution_count": 114,
   "id": "6a7fb1fa",
   "metadata": {},
   "outputs": [
    {
     "data": {
      "text/html": [
       "<div>\n",
       "<style scoped>\n",
       "    .dataframe tbody tr th:only-of-type {\n",
       "        vertical-align: middle;\n",
       "    }\n",
       "\n",
       "    .dataframe tbody tr th {\n",
       "        vertical-align: top;\n",
       "    }\n",
       "\n",
       "    .dataframe thead th {\n",
       "        text-align: right;\n",
       "    }\n",
       "</style>\n",
       "<table border=\"1\" class=\"dataframe\">\n",
       "  <thead>\n",
       "    <tr style=\"text-align: right;\">\n",
       "      <th></th>\n",
       "      <th>Чернозёмная почва</th>\n",
       "      <th>Каштановая почва</th>\n",
       "    </tr>\n",
       "  </thead>\n",
       "  <tbody>\n",
       "    <tr>\n",
       "      <th>Алмаз</th>\n",
       "      <td>75</td>\n",
       "      <td>20</td>\n",
       "    </tr>\n",
       "    <tr>\n",
       "      <th>Матросик</th>\n",
       "      <td>20</td>\n",
       "      <td>120</td>\n",
       "    </tr>\n",
       "    <tr>\n",
       "      <th>Снежеый</th>\n",
       "      <td>55</td>\n",
       "      <td>10</td>\n",
       "    </tr>\n",
       "  </tbody>\n",
       "</table>\n",
       "</div>"
      ],
      "text/plain": [
       "          Чернозёмная почва  Каштановая почва\n",
       "Алмаз                    75                20\n",
       "Матросик                 20               120\n",
       "Снежеый                  55                10"
      ]
     },
     "execution_count": 114,
     "metadata": {},
     "output_type": "execute_result"
    }
   ],
   "source": [
    "df = pd.DataFrame({'Чернозёмная почва': [75, 20, 55], 'Каштановая почва': [20, 120, 10]}, index=['Алмаз', 'Матросик', 'Снежеый'])\n",
    "df"
   ]
  },
  {
   "cell_type": "code",
   "execution_count": 116,
   "id": "df8d33cd",
   "metadata": {},
   "outputs": [
    {
     "data": {
      "text/plain": [
       "Chi2ContingencyResult(statistic=134.4245228455755, pvalue=6.457817206943715e-30, dof=2, expected_freq=array([[47.5, 47.5],\n",
       "       [70. , 70. ],\n",
       "       [32.5, 32.5]]))"
      ]
     },
     "execution_count": 116,
     "metadata": {},
     "output_type": "execute_result"
    }
   ],
   "source": [
    "scipy.stats.chi2_contingency(df, correction=False)"
   ]
  },
  {
   "cell_type": "markdown",
   "id": "bc5d26ba",
   "metadata": {},
   "source": []
  },
  {
   "cell_type": "code",
   "execution_count": 117,
   "id": "ea77474c",
   "metadata": {},
   "outputs": [
    {
     "data": {
      "text/html": [
       "<div>\n",
       "<style scoped>\n",
       "    .dataframe tbody tr th:only-of-type {\n",
       "        vertical-align: middle;\n",
       "    }\n",
       "\n",
       "    .dataframe tbody tr th {\n",
       "        vertical-align: top;\n",
       "    }\n",
       "\n",
       "    .dataframe thead th {\n",
       "        text-align: right;\n",
       "    }\n",
       "</style>\n",
       "<table border=\"1\" class=\"dataframe\">\n",
       "  <thead>\n",
       "    <tr style=\"text-align: right;\">\n",
       "      <th></th>\n",
       "      <th>Name</th>\n",
       "      <th>Platform</th>\n",
       "      <th>Year_of_Release</th>\n",
       "      <th>Genre</th>\n",
       "      <th>Publisher</th>\n",
       "      <th>NA_Sales</th>\n",
       "      <th>EU_Sales</th>\n",
       "      <th>JP_Sales</th>\n",
       "      <th>Other_Sales</th>\n",
       "      <th>Global_Sales</th>\n",
       "      <th>Critic_Score</th>\n",
       "      <th>Critic_Count</th>\n",
       "      <th>User_Score</th>\n",
       "      <th>User_Count</th>\n",
       "      <th>Developer</th>\n",
       "      <th>Rating</th>\n",
       "    </tr>\n",
       "  </thead>\n",
       "  <tbody>\n",
       "    <tr>\n",
       "      <th>0</th>\n",
       "      <td>Wii Sports</td>\n",
       "      <td>Wii</td>\n",
       "      <td>2006.0</td>\n",
       "      <td>Sports</td>\n",
       "      <td>Nintendo</td>\n",
       "      <td>41.36</td>\n",
       "      <td>28.96</td>\n",
       "      <td>3.77</td>\n",
       "      <td>8.45</td>\n",
       "      <td>82.53</td>\n",
       "      <td>76.0</td>\n",
       "      <td>51.0</td>\n",
       "      <td>8</td>\n",
       "      <td>322.0</td>\n",
       "      <td>Nintendo</td>\n",
       "      <td>E</td>\n",
       "    </tr>\n",
       "    <tr>\n",
       "      <th>1</th>\n",
       "      <td>Super Mario Bros.</td>\n",
       "      <td>NES</td>\n",
       "      <td>1985.0</td>\n",
       "      <td>Platform</td>\n",
       "      <td>Nintendo</td>\n",
       "      <td>29.08</td>\n",
       "      <td>3.58</td>\n",
       "      <td>6.81</td>\n",
       "      <td>0.77</td>\n",
       "      <td>40.24</td>\n",
       "      <td>NaN</td>\n",
       "      <td>NaN</td>\n",
       "      <td>NaN</td>\n",
       "      <td>NaN</td>\n",
       "      <td>NaN</td>\n",
       "      <td>NaN</td>\n",
       "    </tr>\n",
       "    <tr>\n",
       "      <th>2</th>\n",
       "      <td>Mario Kart Wii</td>\n",
       "      <td>Wii</td>\n",
       "      <td>2008.0</td>\n",
       "      <td>Racing</td>\n",
       "      <td>Nintendo</td>\n",
       "      <td>15.68</td>\n",
       "      <td>12.76</td>\n",
       "      <td>3.79</td>\n",
       "      <td>3.29</td>\n",
       "      <td>35.52</td>\n",
       "      <td>82.0</td>\n",
       "      <td>73.0</td>\n",
       "      <td>8.3</td>\n",
       "      <td>709.0</td>\n",
       "      <td>Nintendo</td>\n",
       "      <td>E</td>\n",
       "    </tr>\n",
       "    <tr>\n",
       "      <th>3</th>\n",
       "      <td>Wii Sports Resort</td>\n",
       "      <td>Wii</td>\n",
       "      <td>2009.0</td>\n",
       "      <td>Sports</td>\n",
       "      <td>Nintendo</td>\n",
       "      <td>15.61</td>\n",
       "      <td>10.93</td>\n",
       "      <td>3.28</td>\n",
       "      <td>2.95</td>\n",
       "      <td>32.77</td>\n",
       "      <td>80.0</td>\n",
       "      <td>73.0</td>\n",
       "      <td>8</td>\n",
       "      <td>192.0</td>\n",
       "      <td>Nintendo</td>\n",
       "      <td>E</td>\n",
       "    </tr>\n",
       "    <tr>\n",
       "      <th>4</th>\n",
       "      <td>Pokemon Red/Pokemon Blue</td>\n",
       "      <td>GB</td>\n",
       "      <td>1996.0</td>\n",
       "      <td>Role-Playing</td>\n",
       "      <td>Nintendo</td>\n",
       "      <td>11.27</td>\n",
       "      <td>8.89</td>\n",
       "      <td>10.22</td>\n",
       "      <td>1.00</td>\n",
       "      <td>31.37</td>\n",
       "      <td>NaN</td>\n",
       "      <td>NaN</td>\n",
       "      <td>NaN</td>\n",
       "      <td>NaN</td>\n",
       "      <td>NaN</td>\n",
       "      <td>NaN</td>\n",
       "    </tr>\n",
       "  </tbody>\n",
       "</table>\n",
       "</div>"
      ],
      "text/plain": [
       "                       Name Platform  Year_of_Release         Genre Publisher  \\\n",
       "0                Wii Sports      Wii           2006.0        Sports  Nintendo   \n",
       "1         Super Mario Bros.      NES           1985.0      Platform  Nintendo   \n",
       "2            Mario Kart Wii      Wii           2008.0        Racing  Nintendo   \n",
       "3         Wii Sports Resort      Wii           2009.0        Sports  Nintendo   \n",
       "4  Pokemon Red/Pokemon Blue       GB           1996.0  Role-Playing  Nintendo   \n",
       "\n",
       "   NA_Sales  EU_Sales  JP_Sales  Other_Sales  Global_Sales  Critic_Score  \\\n",
       "0     41.36     28.96      3.77         8.45         82.53          76.0   \n",
       "1     29.08      3.58      6.81         0.77         40.24           NaN   \n",
       "2     15.68     12.76      3.79         3.29         35.52          82.0   \n",
       "3     15.61     10.93      3.28         2.95         32.77          80.0   \n",
       "4     11.27      8.89     10.22         1.00         31.37           NaN   \n",
       "\n",
       "   Critic_Count User_Score  User_Count Developer Rating  \n",
       "0          51.0          8       322.0  Nintendo      E  \n",
       "1           NaN        NaN         NaN       NaN    NaN  \n",
       "2          73.0        8.3       709.0  Nintendo      E  \n",
       "3          73.0          8       192.0  Nintendo      E  \n",
       "4           NaN        NaN         NaN       NaN    NaN  "
      ]
     },
     "execution_count": 117,
     "metadata": {},
     "output_type": "execute_result"
    }
   ],
   "source": [
    "df = pd.read_csv('https://courses.openedu.ru/assets/courseware/v1/b0131e36bdd129a2928b807590f27e0b/asset-v1:hse+STATDA+2021+type@asset+block/c.csv')\n",
    "df.head()"
   ]
  },
  {
   "cell_type": "markdown",
   "id": "1cad1fbc",
   "metadata": {},
   "source": [
    "Файл содержит данные о рейтингах видео-игр по данным Metacritic. Набор данных содержит следующие переменные:\n",
    "<br>– Name — название игры\n",
    "<br>– Platform — конфета твердая (1 – да/ 0 – нет)\n",
    "<br>– Year_of_Release — год запуска игры\n",
    "<br>– Genre — жанр игры\n",
    "<br>– Publisher — компания, выпустившая игру\n",
    "<br>– NA_Sales — продажи в Северной Америке (миллионы копий)\n",
    "<br>– EU_Sales — продажи в Европейском Союзе (миллионы копий)\n",
    "<br>– JP_Sales — продажи в Японии (миллионы копий)\n",
    "<br>– Other_Sales — продажи в прочих странах (миллионы копий)\n",
    "<br>– Global_Sales — общие продажи по миру (миллионы копий)\n",
    "<br>– Critic_Score — агрегированный рейтинг команды Metacritic\n",
    "<br>– Critic_Count — количество экспертов, участвовавших в расчёте User_Score\n",
    "<br>– User_Score — агрегированный рейтинг пользователей Metacritic\n",
    "<br>– User_Count — количество пользователей, участвовавших в расчёте User_Score\n",
    "<br>– Developer — разработчик игры\n",
    "<br>– Rating — рейтинг ESRB (Everyone, Teen, Adults Only, ...)"
   ]
  },
  {
   "cell_type": "markdown",
   "id": "4dbb4e96",
   "metadata": {},
   "source": [
    "Вопрос 1. Вычислите среднее по продажам в Северной Америке (в миллионах копий) – переменная NA_Sales. Введите ответ в виде десятичной дроби, округлите до сотых."
   ]
  },
  {
   "cell_type": "code",
   "execution_count": 118,
   "id": "a7e1d506",
   "metadata": {},
   "outputs": [
    {
     "data": {
      "text/plain": [
       "0.26333034272384714"
      ]
     },
     "execution_count": 118,
     "metadata": {},
     "output_type": "execute_result"
    }
   ],
   "source": [
    "df['NA_Sales'].mean()"
   ]
  },
  {
   "cell_type": "code",
   "execution_count": 119,
   "id": "d725a96c",
   "metadata": {},
   "outputs": [
    {
     "data": {
      "text/plain": [
       "<Axes: >"
      ]
     },
     "execution_count": 119,
     "metadata": {},
     "output_type": "execute_result"
    },
    {
     "data": {
      "image/png": "[encoded data removed]",
      "text/plain": [
       "<Figure size 640x480 with 1 Axes>"
      ]
     },
     "metadata": {},
     "output_type": "display_data"
    }
   ],
   "source": [
    "df['NA_Sales'].hist()"
   ]
  },
  {
   "cell_type": "code",
   "execution_count": 120,
   "id": "3be5ef52",
   "metadata": {},
   "outputs": [
    {
     "data": {
      "text/plain": [
       "0.8135138347516192"
      ]
     },
     "execution_count": 120,
     "metadata": {},
     "output_type": "execute_result"
    }
   ],
   "source": [
    "df['NA_Sales'].std()"
   ]
  },
  {
   "cell_type": "markdown",
   "id": "dcd624b2",
   "metadata": {},
   "source": [
    "Вопрос 2. Определите наиболее часто встречающийся жанр игр. В ответ запишите жанр (например, Simulation)"
   ]
  },
  {
   "cell_type": "code",
   "execution_count": 121,
   "id": "8efa6e29",
   "metadata": {
    "scrolled": true
   },
   "outputs": [
    {
     "data": {
      "text/plain": [
       "Action          3370\n",
       "Sports          2348\n",
       "Misc            1750\n",
       "Role-Playing    1500\n",
       "Shooter         1323\n",
       "Adventure       1303\n",
       "Racing          1249\n",
       "Platform         888\n",
       "Simulation       874\n",
       "Fighting         849\n",
       "Strategy         683\n",
       "Puzzle           580\n",
       "Name: Genre, dtype: int64"
      ]
     },
     "execution_count": 121,
     "metadata": {},
     "output_type": "execute_result"
    }
   ],
   "source": [
    "df['Genre'].value_counts()"
   ]
  },
  {
   "cell_type": "markdown",
   "id": "b845a56e",
   "metadata": {},
   "source": [
    "Вопрос 3. Добавьте в таблицу новый признак Platform_Coded, который будет представлять собой закодированное название платформы для запуска игры. Кодировку проведите следующим образом: если платформа – это PS3, то код равен 1, а если любая другая, то код равен 0. Выведите среднее по признаку Platform_Coded. Введите ответ в виде десятичной дроби, округлите до сотых."
   ]
  },
  {
   "cell_type": "code",
   "execution_count": 122,
   "id": "72fab3dc",
   "metadata": {},
   "outputs": [
    {
     "data": {
      "text/plain": [
       "0.07961002452299779"
      ]
     },
     "execution_count": 122,
     "metadata": {},
     "output_type": "execute_result"
    }
   ],
   "source": [
    "df['Platform_Coded'] = np.where(df['Platform'] == 'PS3', 1, 0)\n",
    "df['Platform_Coded'].mean()"
   ]
  },
  {
   "cell_type": "markdown",
   "id": "f53c5ddd",
   "metadata": {},
   "source": [
    "Вопрос 4. Вычислите средний агрегированный рейтинг команды Metacritic для игр, выпущенных (published) компаниями Tecmo Koei или Wanadoo. Введите ответ в виде десятичной дроби, округлите до сотых."
   ]
  },
  {
   "cell_type": "code",
   "execution_count": 123,
   "id": "ae90d617",
   "metadata": {},
   "outputs": [
    {
     "data": {
      "text/plain": [
       "65.60135135135135"
      ]
     },
     "execution_count": 123,
     "metadata": {},
     "output_type": "execute_result"
    }
   ],
   "source": [
    "df[(df['Publisher'] == 'Tecmo Koei') | (df['Publisher'] == 'Wanadoo')]['Critic_Score'].mean()"
   ]
  },
  {
   "cell_type": "markdown",
   "id": "a7acff12",
   "metadata": {},
   "source": [
    "Вопрос 5. Определите количество пропущенных значений признака, содержащего информацию о названиях разработчиков игр (переменная Developer). Введите ответ в виде целого числа."
   ]
  },
  {
   "cell_type": "code",
   "execution_count": 124,
   "id": "b5e4c377",
   "metadata": {},
   "outputs": [
    {
     "data": {
      "text/plain": [
       "6623"
      ]
     },
     "execution_count": 124,
     "metadata": {},
     "output_type": "execute_result"
    }
   ],
   "source": [
    "df['Developer'].isna().sum()"
   ]
  },
  {
   "cell_type": "markdown",
   "id": "0a6fcc6d",
   "metadata": {},
   "source": [
    "Вопрос 6. Определите количество пропущенных значений признака, содержащего информацию о названиях разработчиков игр (переменная Developer). Замените пропущенные значения этого признака на моду по этому признаку и сохраните полученный признак без пропущенных значений в отдельную переменную, не включаемую в исходную таблицу. Выпишите количество значений этой переменной, равных её моде. Введите ответ в виде целого числа."
   ]
  },
  {
   "cell_type": "code",
   "execution_count": 125,
   "id": "d9a2bd3a",
   "metadata": {},
   "outputs": [],
   "source": [
    "mode = df['Developer'].value_counts().reset_index().iloc[0,0]"
   ]
  },
  {
   "cell_type": "code",
   "execution_count": 126,
   "id": "9a64012f",
   "metadata": {},
   "outputs": [
    {
     "data": {
      "text/html": [
       "<div>\n",
       "<style scoped>\n",
       "    .dataframe tbody tr th:only-of-type {\n",
       "        vertical-align: middle;\n",
       "    }\n",
       "\n",
       "    .dataframe tbody tr th {\n",
       "        vertical-align: top;\n",
       "    }\n",
       "\n",
       "    .dataframe thead th {\n",
       "        text-align: right;\n",
       "    }\n",
       "</style>\n",
       "<table border=\"1\" class=\"dataframe\">\n",
       "  <thead>\n",
       "    <tr style=\"text-align: right;\">\n",
       "      <th></th>\n",
       "      <th>Name</th>\n",
       "      <th>Platform</th>\n",
       "      <th>Year_of_Release</th>\n",
       "      <th>Genre</th>\n",
       "      <th>Publisher</th>\n",
       "      <th>NA_Sales</th>\n",
       "      <th>EU_Sales</th>\n",
       "      <th>JP_Sales</th>\n",
       "      <th>Other_Sales</th>\n",
       "      <th>Global_Sales</th>\n",
       "      <th>Critic_Score</th>\n",
       "      <th>Critic_Count</th>\n",
       "      <th>User_Score</th>\n",
       "      <th>User_Count</th>\n",
       "      <th>Developer</th>\n",
       "      <th>Rating</th>\n",
       "      <th>Platform_Coded</th>\n",
       "      <th>Developer_new</th>\n",
       "    </tr>\n",
       "  </thead>\n",
       "  <tbody>\n",
       "    <tr>\n",
       "      <th>0</th>\n",
       "      <td>Wii Sports</td>\n",
       "      <td>Wii</td>\n",
       "      <td>2006.0</td>\n",
       "      <td>Sports</td>\n",
       "      <td>Nintendo</td>\n",
       "      <td>41.36</td>\n",
       "      <td>28.96</td>\n",
       "      <td>3.77</td>\n",
       "      <td>8.45</td>\n",
       "      <td>82.53</td>\n",
       "      <td>76.0</td>\n",
       "      <td>51.0</td>\n",
       "      <td>8</td>\n",
       "      <td>322.0</td>\n",
       "      <td>Nintendo</td>\n",
       "      <td>E</td>\n",
       "      <td>0</td>\n",
       "      <td>Nintendo</td>\n",
       "    </tr>\n",
       "    <tr>\n",
       "      <th>1</th>\n",
       "      <td>Super Mario Bros.</td>\n",
       "      <td>NES</td>\n",
       "      <td>1985.0</td>\n",
       "      <td>Platform</td>\n",
       "      <td>Nintendo</td>\n",
       "      <td>29.08</td>\n",
       "      <td>3.58</td>\n",
       "      <td>6.81</td>\n",
       "      <td>0.77</td>\n",
       "      <td>40.24</td>\n",
       "      <td>NaN</td>\n",
       "      <td>NaN</td>\n",
       "      <td>NaN</td>\n",
       "      <td>NaN</td>\n",
       "      <td>NaN</td>\n",
       "      <td>NaN</td>\n",
       "      <td>0</td>\n",
       "      <td>Ubisoft</td>\n",
       "    </tr>\n",
       "    <tr>\n",
       "      <th>2</th>\n",
       "      <td>Mario Kart Wii</td>\n",
       "      <td>Wii</td>\n",
       "      <td>2008.0</td>\n",
       "      <td>Racing</td>\n",
       "      <td>Nintendo</td>\n",
       "      <td>15.68</td>\n",
       "      <td>12.76</td>\n",
       "      <td>3.79</td>\n",
       "      <td>3.29</td>\n",
       "      <td>35.52</td>\n",
       "      <td>82.0</td>\n",
       "      <td>73.0</td>\n",
       "      <td>8.3</td>\n",
       "      <td>709.0</td>\n",
       "      <td>Nintendo</td>\n",
       "      <td>E</td>\n",
       "      <td>0</td>\n",
       "      <td>Nintendo</td>\n",
       "    </tr>\n",
       "    <tr>\n",
       "      <th>3</th>\n",
       "      <td>Wii Sports Resort</td>\n",
       "      <td>Wii</td>\n",
       "      <td>2009.0</td>\n",
       "      <td>Sports</td>\n",
       "      <td>Nintendo</td>\n",
       "      <td>15.61</td>\n",
       "      <td>10.93</td>\n",
       "      <td>3.28</td>\n",
       "      <td>2.95</td>\n",
       "      <td>32.77</td>\n",
       "      <td>80.0</td>\n",
       "      <td>73.0</td>\n",
       "      <td>8</td>\n",
       "      <td>192.0</td>\n",
       "      <td>Nintendo</td>\n",
       "      <td>E</td>\n",
       "      <td>0</td>\n",
       "      <td>Nintendo</td>\n",
       "    </tr>\n",
       "    <tr>\n",
       "      <th>4</th>\n",
       "      <td>Pokemon Red/Pokemon Blue</td>\n",
       "      <td>GB</td>\n",
       "      <td>1996.0</td>\n",
       "      <td>Role-Playing</td>\n",
       "      <td>Nintendo</td>\n",
       "      <td>11.27</td>\n",
       "      <td>8.89</td>\n",
       "      <td>10.22</td>\n",
       "      <td>1.00</td>\n",
       "      <td>31.37</td>\n",
       "      <td>NaN</td>\n",
       "      <td>NaN</td>\n",
       "      <td>NaN</td>\n",
       "      <td>NaN</td>\n",
       "      <td>NaN</td>\n",
       "      <td>NaN</td>\n",
       "      <td>0</td>\n",
       "      <td>Ubisoft</td>\n",
       "    </tr>\n",
       "    <tr>\n",
       "      <th>...</th>\n",
       "      <td>...</td>\n",
       "      <td>...</td>\n",
       "      <td>...</td>\n",
       "      <td>...</td>\n",
       "      <td>...</td>\n",
       "      <td>...</td>\n",
       "      <td>...</td>\n",
       "      <td>...</td>\n",
       "      <td>...</td>\n",
       "      <td>...</td>\n",
       "      <td>...</td>\n",
       "      <td>...</td>\n",
       "      <td>...</td>\n",
       "      <td>...</td>\n",
       "      <td>...</td>\n",
       "      <td>...</td>\n",
       "      <td>...</td>\n",
       "      <td>...</td>\n",
       "    </tr>\n",
       "    <tr>\n",
       "      <th>16714</th>\n",
       "      <td>Samurai Warriors: Sanada Maru</td>\n",
       "      <td>PS3</td>\n",
       "      <td>2016.0</td>\n",
       "      <td>Action</td>\n",
       "      <td>Tecmo Koei</td>\n",
       "      <td>0.00</td>\n",
       "      <td>0.00</td>\n",
       "      <td>0.01</td>\n",
       "      <td>0.00</td>\n",
       "      <td>0.01</td>\n",
       "      <td>NaN</td>\n",
       "      <td>NaN</td>\n",
       "      <td>NaN</td>\n",
       "      <td>NaN</td>\n",
       "      <td>NaN</td>\n",
       "      <td>NaN</td>\n",
       "      <td>1</td>\n",
       "      <td>Ubisoft</td>\n",
       "    </tr>\n",
       "    <tr>\n",
       "      <th>16715</th>\n",
       "      <td>LMA Manager 2007</td>\n",
       "      <td>X360</td>\n",
       "      <td>2006.0</td>\n",
       "      <td>Sports</td>\n",
       "      <td>Codemasters</td>\n",
       "      <td>0.00</td>\n",
       "      <td>0.01</td>\n",
       "      <td>0.00</td>\n",
       "      <td>0.00</td>\n",
       "      <td>0.01</td>\n",
       "      <td>NaN</td>\n",
       "      <td>NaN</td>\n",
       "      <td>NaN</td>\n",
       "      <td>NaN</td>\n",
       "      <td>NaN</td>\n",
       "      <td>NaN</td>\n",
       "      <td>0</td>\n",
       "      <td>Ubisoft</td>\n",
       "    </tr>\n",
       "    <tr>\n",
       "      <th>16716</th>\n",
       "      <td>Haitaka no Psychedelica</td>\n",
       "      <td>PSV</td>\n",
       "      <td>2016.0</td>\n",
       "      <td>Adventure</td>\n",
       "      <td>Idea Factory</td>\n",
       "      <td>0.00</td>\n",
       "      <td>0.00</td>\n",
       "      <td>0.01</td>\n",
       "      <td>0.00</td>\n",
       "      <td>0.01</td>\n",
       "      <td>NaN</td>\n",
       "      <td>NaN</td>\n",
       "      <td>NaN</td>\n",
       "      <td>NaN</td>\n",
       "      <td>NaN</td>\n",
       "      <td>NaN</td>\n",
       "      <td>0</td>\n",
       "      <td>Ubisoft</td>\n",
       "    </tr>\n",
       "    <tr>\n",
       "      <th>16717</th>\n",
       "      <td>Spirits &amp; Spells</td>\n",
       "      <td>GBA</td>\n",
       "      <td>2003.0</td>\n",
       "      <td>Platform</td>\n",
       "      <td>Wanadoo</td>\n",
       "      <td>0.01</td>\n",
       "      <td>0.00</td>\n",
       "      <td>0.00</td>\n",
       "      <td>0.00</td>\n",
       "      <td>0.01</td>\n",
       "      <td>NaN</td>\n",
       "      <td>NaN</td>\n",
       "      <td>NaN</td>\n",
       "      <td>NaN</td>\n",
       "      <td>NaN</td>\n",
       "      <td>NaN</td>\n",
       "      <td>0</td>\n",
       "      <td>Ubisoft</td>\n",
       "    </tr>\n",
       "    <tr>\n",
       "      <th>16718</th>\n",
       "      <td>Winning Post 8 2016</td>\n",
       "      <td>PSV</td>\n",
       "      <td>2016.0</td>\n",
       "      <td>Simulation</td>\n",
       "      <td>Tecmo Koei</td>\n",
       "      <td>0.00</td>\n",
       "      <td>0.00</td>\n",
       "      <td>0.01</td>\n",
       "      <td>0.00</td>\n",
       "      <td>0.01</td>\n",
       "      <td>NaN</td>\n",
       "      <td>NaN</td>\n",
       "      <td>NaN</td>\n",
       "      <td>NaN</td>\n",
       "      <td>NaN</td>\n",
       "      <td>NaN</td>\n",
       "      <td>0</td>\n",
       "      <td>Ubisoft</td>\n",
       "    </tr>\n",
       "  </tbody>\n",
       "</table>\n",
       "<p>16719 rows × 18 columns</p>\n",
       "</div>"
      ],
      "text/plain": [
       "                                Name Platform  Year_of_Release         Genre  \\\n",
       "0                         Wii Sports      Wii           2006.0        Sports   \n",
       "1                  Super Mario Bros.      NES           1985.0      Platform   \n",
       "2                     Mario Kart Wii      Wii           2008.0        Racing   \n",
       "3                  Wii Sports Resort      Wii           2009.0        Sports   \n",
       "4           Pokemon Red/Pokemon Blue       GB           1996.0  Role-Playing   \n",
       "...                              ...      ...              ...           ...   \n",
       "16714  Samurai Warriors: Sanada Maru      PS3           2016.0        Action   \n",
       "16715               LMA Manager 2007     X360           2006.0        Sports   \n",
       "16716        Haitaka no Psychedelica      PSV           2016.0     Adventure   \n",
       "16717               Spirits & Spells      GBA           2003.0      Platform   \n",
       "16718            Winning Post 8 2016      PSV           2016.0    Simulation   \n",
       "\n",
       "          Publisher  NA_Sales  EU_Sales  JP_Sales  Other_Sales  Global_Sales  \\\n",
       "0          Nintendo     41.36     28.96      3.77         8.45         82.53   \n",
       "1          Nintendo     29.08      3.58      6.81         0.77         40.24   \n",
       "2          Nintendo     15.68     12.76      3.79         3.29         35.52   \n",
       "3          Nintendo     15.61     10.93      3.28         2.95         32.77   \n",
       "4          Nintendo     11.27      8.89     10.22         1.00         31.37   \n",
       "...             ...       ...       ...       ...          ...           ...   \n",
       "16714    Tecmo Koei      0.00      0.00      0.01         0.00          0.01   \n",
       "16715   Codemasters      0.00      0.01      0.00         0.00          0.01   \n",
       "16716  Idea Factory      0.00      0.00      0.01         0.00          0.01   \n",
       "16717       Wanadoo      0.01      0.00      0.00         0.00          0.01   \n",
       "16718    Tecmo Koei      0.00      0.00      0.01         0.00          0.01   \n",
       "\n",
       "       Critic_Score  Critic_Count User_Score  User_Count Developer Rating  \\\n",
       "0              76.0          51.0          8       322.0  Nintendo      E   \n",
       "1               NaN           NaN        NaN         NaN       NaN    NaN   \n",
       "2              82.0          73.0        8.3       709.0  Nintendo      E   \n",
       "3              80.0          73.0          8       192.0  Nintendo      E   \n",
       "4               NaN           NaN        NaN         NaN       NaN    NaN   \n",
       "...             ...           ...        ...         ...       ...    ...   \n",
       "16714           NaN           NaN        NaN         NaN       NaN    NaN   \n",
       "16715           NaN           NaN        NaN         NaN       NaN    NaN   \n",
       "16716           NaN           NaN        NaN         NaN       NaN    NaN   \n",
       "16717           NaN           NaN        NaN         NaN       NaN    NaN   \n",
       "16718           NaN           NaN        NaN         NaN       NaN    NaN   \n",
       "\n",
       "       Platform_Coded Developer_new  \n",
       "0                   0      Nintendo  \n",
       "1                   0       Ubisoft  \n",
       "2                   0      Nintendo  \n",
       "3                   0      Nintendo  \n",
       "4                   0       Ubisoft  \n",
       "...               ...           ...  \n",
       "16714               1       Ubisoft  \n",
       "16715               0       Ubisoft  \n",
       "16716               0       Ubisoft  \n",
       "16717               0       Ubisoft  \n",
       "16718               0       Ubisoft  \n",
       "\n",
       "[16719 rows x 18 columns]"
      ]
     },
     "execution_count": 126,
     "metadata": {},
     "output_type": "execute_result"
    }
   ],
   "source": [
    "df['Developer_new'] = df['Developer'].fillna(mode)\n",
    "df"
   ]
  },
  {
   "cell_type": "code",
   "execution_count": 127,
   "id": "2a641c8d",
   "metadata": {},
   "outputs": [
    {
     "data": {
      "text/plain": [
       "Ubisoft                                   6827\n",
       "EA Sports                                  172\n",
       "EA Canada                                  167\n",
       "Konami                                     162\n",
       "Capcom                                     139\n",
       "                                          ... \n",
       "Genki, Kojima Productions                    1\n",
       "Warner Bros. Interactive Entertainment       1\n",
       "THQ, Altron                                  1\n",
       "Netherock Ltd.                               1\n",
       "Interchannel-Holon                           1\n",
       "Name: Developer_new, Length: 1696, dtype: int64"
      ]
     },
     "execution_count": 127,
     "metadata": {},
     "output_type": "execute_result"
    }
   ],
   "source": [
    "df['Developer_new'].value_counts()"
   ]
  },
  {
   "cell_type": "markdown",
   "id": "03b383dc",
   "metadata": {},
   "source": [
    "Вопрос 7. Постройте диаграмму рассеяния для переменных Critic_Score (на горизонтальной оси) и EU_Sales (на вертикальной оси). Выберите все верные утверждения."
   ]
  },
  {
   "cell_type": "code",
   "execution_count": 128,
   "id": "f3c3c0ec",
   "metadata": {},
   "outputs": [
    {
     "data": {
      "text/plain": [
       "<matplotlib.collections.PathCollection at 0x23bc8970>"
      ]
     },
     "execution_count": 128,
     "metadata": {},
     "output_type": "execute_result"
    },
    {
     "data": {
      "image/png": "[encoded data removed]",
      "text/plain": [
       "<Figure size 640x480 with 1 Axes>"
      ]
     },
     "metadata": {},
     "output_type": "display_data"
    }
   ],
   "source": [
    "plt.scatter(df['Critic_Score'], df['EU_Sales'])"
   ]
  },
  {
   "cell_type": "code",
   "execution_count": 130,
   "id": "a32606f4",
   "metadata": {
    "scrolled": true
   },
   "outputs": [
    {
     "data": {
      "text/plain": [
       "<matplotlib.collections.PathCollection at 0x23ca2df0>"
      ]
     },
     "execution_count": 130,
     "metadata": {},
     "output_type": "execute_result"
    },
    {
     "data": {
      "image/png": "[encoded data removed]",
      "text/plain": [
       "<Figure size 640x480 with 1 Axes>"
      ]
     },
     "metadata": {},
     "output_type": "display_data"
    }
   ],
   "source": [
    "plt.scatter(df['NA_Sales'], df['EU_Sales'])"
   ]
  },
  {
   "cell_type": "markdown",
   "id": "8b7fcebf",
   "metadata": {},
   "source": [
    "Вопрос 8. Выведите корреляционную матрицу для числовых переменных. Найдите переменную, которая имеет наибольшую по модулю корреляцию с переменной EU_Sales (не включая саму EU_Sales). Введите ответ в виде десятичной дроби, округлите до сотых."
   ]
  },
  {
   "cell_type": "code",
   "execution_count": 131,
   "id": "4aa175f6",
   "metadata": {},
   "outputs": [
    {
     "name": "stderr",
     "output_type": "stream",
     "text": [
      "C:\\Users\\KDK\\AppData\\Local\\Temp\\ipykernel_15340\\1094579899.py:1: FutureWarning: The default value of numeric_only in DataFrame.corr is deprecated. In a future version, it will default to False. Select only valid columns or specify the value of numeric_only to silence this warning.\n",
      "  df[['NA_Sales', 'EU_Sales', 'JP_Sales', 'Other_Sales', 'Global_Sales', 'Critic_Score', 'Critic_Count', 'User_Score', 'User_Count']].corr()\n"
     ]
    },
    {
     "data": {
      "text/html": [
       "<div>\n",
       "<style scoped>\n",
       "    .dataframe tbody tr th:only-of-type {\n",
       "        vertical-align: middle;\n",
       "    }\n",
       "\n",
       "    .dataframe tbody tr th {\n",
       "        vertical-align: top;\n",
       "    }\n",
       "\n",
       "    .dataframe thead th {\n",
       "        text-align: right;\n",
       "    }\n",
       "</style>\n",
       "<table border=\"1\" class=\"dataframe\">\n",
       "  <thead>\n",
       "    <tr style=\"text-align: right;\">\n",
       "      <th></th>\n",
       "      <th>NA_Sales</th>\n",
       "      <th>EU_Sales</th>\n",
       "      <th>JP_Sales</th>\n",
       "      <th>Other_Sales</th>\n",
       "      <th>Global_Sales</th>\n",
       "      <th>Critic_Score</th>\n",
       "      <th>Critic_Count</th>\n",
       "      <th>User_Count</th>\n",
       "    </tr>\n",
       "  </thead>\n",
       "  <tbody>\n",
       "    <tr>\n",
       "      <th>NA_Sales</th>\n",
       "      <td>1.000000</td>\n",
       "      <td>0.765336</td>\n",
       "      <td>0.449598</td>\n",
       "      <td>0.638654</td>\n",
       "      <td>0.941010</td>\n",
       "      <td>0.240755</td>\n",
       "      <td>0.295413</td>\n",
       "      <td>0.246429</td>\n",
       "    </tr>\n",
       "    <tr>\n",
       "      <th>EU_Sales</th>\n",
       "      <td>0.765336</td>\n",
       "      <td>1.000000</td>\n",
       "      <td>0.435068</td>\n",
       "      <td>0.722796</td>\n",
       "      <td>0.901239</td>\n",
       "      <td>0.220752</td>\n",
       "      <td>0.277533</td>\n",
       "      <td>0.283360</td>\n",
       "    </tr>\n",
       "    <tr>\n",
       "      <th>JP_Sales</th>\n",
       "      <td>0.449598</td>\n",
       "      <td>0.435068</td>\n",
       "      <td>1.000000</td>\n",
       "      <td>0.291096</td>\n",
       "      <td>0.612300</td>\n",
       "      <td>0.152593</td>\n",
       "      <td>0.180219</td>\n",
       "      <td>0.075638</td>\n",
       "    </tr>\n",
       "    <tr>\n",
       "      <th>Other_Sales</th>\n",
       "      <td>0.638654</td>\n",
       "      <td>0.722796</td>\n",
       "      <td>0.291096</td>\n",
       "      <td>1.000000</td>\n",
       "      <td>0.749242</td>\n",
       "      <td>0.198554</td>\n",
       "      <td>0.251639</td>\n",
       "      <td>0.238982</td>\n",
       "    </tr>\n",
       "    <tr>\n",
       "      <th>Global_Sales</th>\n",
       "      <td>0.941010</td>\n",
       "      <td>0.901239</td>\n",
       "      <td>0.612300</td>\n",
       "      <td>0.749242</td>\n",
       "      <td>1.000000</td>\n",
       "      <td>0.245471</td>\n",
       "      <td>0.303571</td>\n",
       "      <td>0.265012</td>\n",
       "    </tr>\n",
       "    <tr>\n",
       "      <th>Critic_Score</th>\n",
       "      <td>0.240755</td>\n",
       "      <td>0.220752</td>\n",
       "      <td>0.152593</td>\n",
       "      <td>0.198554</td>\n",
       "      <td>0.245471</td>\n",
       "      <td>1.000000</td>\n",
       "      <td>0.425504</td>\n",
       "      <td>0.264376</td>\n",
       "    </tr>\n",
       "    <tr>\n",
       "      <th>Critic_Count</th>\n",
       "      <td>0.295413</td>\n",
       "      <td>0.277533</td>\n",
       "      <td>0.180219</td>\n",
       "      <td>0.251639</td>\n",
       "      <td>0.303571</td>\n",
       "      <td>0.425504</td>\n",
       "      <td>1.000000</td>\n",
       "      <td>0.362334</td>\n",
       "    </tr>\n",
       "    <tr>\n",
       "      <th>User_Count</th>\n",
       "      <td>0.246429</td>\n",
       "      <td>0.283360</td>\n",
       "      <td>0.075638</td>\n",
       "      <td>0.238982</td>\n",
       "      <td>0.265012</td>\n",
       "      <td>0.264376</td>\n",
       "      <td>0.362334</td>\n",
       "      <td>1.000000</td>\n",
       "    </tr>\n",
       "  </tbody>\n",
       "</table>\n",
       "</div>"
      ],
      "text/plain": [
       "              NA_Sales  EU_Sales  JP_Sales  Other_Sales  Global_Sales  \\\n",
       "NA_Sales      1.000000  0.765336  0.449598     0.638654      0.941010   \n",
       "EU_Sales      0.765336  1.000000  0.435068     0.722796      0.901239   \n",
       "JP_Sales      0.449598  0.435068  1.000000     0.291096      0.612300   \n",
       "Other_Sales   0.638654  0.722796  0.291096     1.000000      0.749242   \n",
       "Global_Sales  0.941010  0.901239  0.612300     0.749242      1.000000   \n",
       "Critic_Score  0.240755  0.220752  0.152593     0.198554      0.245471   \n",
       "Critic_Count  0.295413  0.277533  0.180219     0.251639      0.303571   \n",
       "User_Count    0.246429  0.283360  0.075638     0.238982      0.265012   \n",
       "\n",
       "              Critic_Score  Critic_Count  User_Count  \n",
       "NA_Sales          0.240755      0.295413    0.246429  \n",
       "EU_Sales          0.220752      0.277533    0.283360  \n",
       "JP_Sales          0.152593      0.180219    0.075638  \n",
       "Other_Sales       0.198554      0.251639    0.238982  \n",
       "Global_Sales      0.245471      0.303571    0.265012  \n",
       "Critic_Score      1.000000      0.425504    0.264376  \n",
       "Critic_Count      0.425504      1.000000    0.362334  \n",
       "User_Count        0.264376      0.362334    1.000000  "
      ]
     },
     "execution_count": 131,
     "metadata": {},
     "output_type": "execute_result"
    }
   ],
   "source": [
    "df[['NA_Sales', 'EU_Sales', 'JP_Sales', 'Other_Sales', 'Global_Sales', 'Critic_Score', 'Critic_Count', 'User_Score', 'User_Count']].corr()"
   ]
  },
  {
   "cell_type": "markdown",
   "id": "391c9ecd",
   "metadata": {},
   "source": [
    "Вопрос 9.\n",
    "Оцените линейную регрессию, уравнение которой имеет следующий вид:\n",
    "<br>\n",
    "$Global\\_Salels_i=\\hat{w}_0+ \\hat{w}_1 ln(1+NA\\_Sales_i)$,\n",
    "<br>\n",
    "где нижние индексы обозначают значения соответствующих переменных для наблюдения i\n",
    "В ответ выпишите оценку коэффициента при свободном члене. Введите ответ в виде десятичной дроби, округлите до сотых."
   ]
  },
  {
   "cell_type": "code",
   "execution_count": 134,
   "id": "ec58378b",
   "metadata": {},
   "outputs": [
    {
     "data": {
      "text/html": [
       "<table class=\"simpletable\">\n",
       "<caption>OLS Regression Results</caption>\n",
       "<tr>\n",
       "  <th>Dep. Variable:</th>      <td>Global_Sales</td>   <th>  R-squared:         </th> <td>   0.886</td> \n",
       "</tr>\n",
       "<tr>\n",
       "  <th>Model:</th>                   <td>OLS</td>       <th>  Adj. R-squared:    </th> <td>   0.885</td> \n",
       "</tr>\n",
       "<tr>\n",
       "  <th>Method:</th>             <td>Least Squares</td>  <th>  F-statistic:       </th> <td>1.293e+05</td>\n",
       "</tr>\n",
       "<tr>\n",
       "  <th>Date:</th>             <td>Wed, 26 Jul 2023</td> <th>  Prob (F-statistic):</th>  <td>  0.00</td>  \n",
       "</tr>\n",
       "<tr>\n",
       "  <th>Time:</th>                 <td>16:00:48</td>     <th>  Log-Likelihood:    </th> <td> -12911.</td> \n",
       "</tr>\n",
       "<tr>\n",
       "  <th>No. Observations:</th>      <td> 16719</td>      <th>  AIC:               </th> <td>2.583e+04</td>\n",
       "</tr>\n",
       "<tr>\n",
       "  <th>Df Residuals:</th>          <td> 16717</td>      <th>  BIC:               </th> <td>2.584e+04</td>\n",
       "</tr>\n",
       "<tr>\n",
       "  <th>Df Model:</th>              <td>     1</td>      <th>                     </th>     <td> </td>    \n",
       "</tr>\n",
       "<tr>\n",
       "  <th>Covariance Type:</th>      <td>nonrobust</td>    <th>                     </th>     <td> </td>    \n",
       "</tr>\n",
       "</table>\n",
       "<table class=\"simpletable\">\n",
       "<tr>\n",
       "      <td></td>        <th>coef</th>     <th>std err</th>      <th>t</th>      <th>P>|t|</th>  <th>[0.025</th>    <th>0.975]</th>  \n",
       "</tr>\n",
       "<tr>\n",
       "  <th>const</th>    <td>    0.0620</td> <td>    0.004</td> <td>   14.571</td> <td> 0.000</td> <td>    0.054</td> <td>    0.070</td>\n",
       "</tr>\n",
       "<tr>\n",
       "  <th>NA_Sales</th> <td>    1.7905</td> <td>    0.005</td> <td>  359.561</td> <td> 0.000</td> <td>    1.781</td> <td>    1.800</td>\n",
       "</tr>\n",
       "</table>\n",
       "<table class=\"simpletable\">\n",
       "<tr>\n",
       "  <th>Omnibus:</th>       <td>10179.171</td> <th>  Durbin-Watson:     </th>   <td>   1.938</td>  \n",
       "</tr>\n",
       "<tr>\n",
       "  <th>Prob(Omnibus):</th>  <td> 0.000</td>   <th>  Jarque-Bera (JB):  </th> <td>39800095.599</td>\n",
       "</tr>\n",
       "<tr>\n",
       "  <th>Skew:</th>           <td> 1.205</td>   <th>  Prob(JB):          </th>   <td>    0.00</td>  \n",
       "</tr>\n",
       "<tr>\n",
       "  <th>Kurtosis:</th>       <td>242.012</td>  <th>  Cond. No.          </th>   <td>    1.43</td>  \n",
       "</tr>\n",
       "</table><br/><br/>Notes:<br/>[1] Standard Errors assume that the covariance matrix of the errors is correctly specified."
      ],
      "text/latex": [
       "\\begin{center}\n",
       "\\begin{tabular}{lclc}\n",
       "\\toprule\n",
       "\\textbf{Dep. Variable:}    &  Global\\_Sales   & \\textbf{  R-squared:         } &      0.886    \\\\\n",
       "\\textbf{Model:}            &       OLS        & \\textbf{  Adj. R-squared:    } &      0.885    \\\\\n",
       "\\textbf{Method:}           &  Least Squares   & \\textbf{  F-statistic:       } &  1.293e+05    \\\\\n",
       "\\textbf{Date:}             & Wed, 26 Jul 2023 & \\textbf{  Prob (F-statistic):} &      0.00     \\\\\n",
       "\\textbf{Time:}             &     16:00:48     & \\textbf{  Log-Likelihood:    } &    -12911.    \\\\\n",
       "\\textbf{No. Observations:} &       16719      & \\textbf{  AIC:               } &  2.583e+04    \\\\\n",
       "\\textbf{Df Residuals:}     &       16717      & \\textbf{  BIC:               } &  2.584e+04    \\\\\n",
       "\\textbf{Df Model:}         &           1      & \\textbf{                     } &               \\\\\n",
       "\\textbf{Covariance Type:}  &    nonrobust     & \\textbf{                     } &               \\\\\n",
       "\\bottomrule\n",
       "\\end{tabular}\n",
       "\\begin{tabular}{lcccccc}\n",
       "                   & \\textbf{coef} & \\textbf{std err} & \\textbf{t} & \\textbf{P$> |$t$|$} & \\textbf{[0.025} & \\textbf{0.975]}  \\\\\n",
       "\\midrule\n",
       "\\textbf{const}     &       0.0620  &        0.004     &    14.571  &         0.000        &        0.054    &        0.070     \\\\\n",
       "\\textbf{NA\\_Sales} &       1.7905  &        0.005     &   359.561  &         0.000        &        1.781    &        1.800     \\\\\n",
       "\\bottomrule\n",
       "\\end{tabular}\n",
       "\\begin{tabular}{lclc}\n",
       "\\textbf{Omnibus:}       & 10179.171 & \\textbf{  Durbin-Watson:     } &      1.938    \\\\\n",
       "\\textbf{Prob(Omnibus):} &    0.000  & \\textbf{  Jarque-Bera (JB):  } & 39800095.599  \\\\\n",
       "\\textbf{Skew:}          &    1.205  & \\textbf{  Prob(JB):          } &       0.00    \\\\\n",
       "\\textbf{Kurtosis:}      &  242.012  & \\textbf{  Cond. No.          } &       1.43    \\\\\n",
       "\\bottomrule\n",
       "\\end{tabular}\n",
       "%\\caption{OLS Regression Results}\n",
       "\\end{center}\n",
       "\n",
       "Notes: \\newline\n",
       " [1] Standard Errors assume that the covariance matrix of the errors is correctly specified."
      ],
      "text/plain": [
       "<class 'statsmodels.iolib.summary.Summary'>\n",
       "\"\"\"\n",
       "                            OLS Regression Results                            \n",
       "==============================================================================\n",
       "Dep. Variable:           Global_Sales   R-squared:                       0.886\n",
       "Model:                            OLS   Adj. R-squared:                  0.885\n",
       "Method:                 Least Squares   F-statistic:                 1.293e+05\n",
       "Date:                Wed, 26 Jul 2023   Prob (F-statistic):               0.00\n",
       "Time:                        16:00:48   Log-Likelihood:                -12911.\n",
       "No. Observations:               16719   AIC:                         2.583e+04\n",
       "Df Residuals:                   16717   BIC:                         2.584e+04\n",
       "Df Model:                           1                                         \n",
       "Covariance Type:            nonrobust                                         \n",
       "==============================================================================\n",
       "                 coef    std err          t      P>|t|      [0.025      0.975]\n",
       "------------------------------------------------------------------------------\n",
       "const          0.0620      0.004     14.571      0.000       0.054       0.070\n",
       "NA_Sales       1.7905      0.005    359.561      0.000       1.781       1.800\n",
       "==============================================================================\n",
       "Omnibus:                    10179.171   Durbin-Watson:                   1.938\n",
       "Prob(Omnibus):                  0.000   Jarque-Bera (JB):         39800095.599\n",
       "Skew:                           1.205   Prob(JB):                         0.00\n",
       "Kurtosis:                     242.012   Cond. No.                         1.43\n",
       "==============================================================================\n",
       "\n",
       "Notes:\n",
       "[1] Standard Errors assume that the covariance matrix of the errors is correctly specified.\n",
       "\"\"\""
      ]
     },
     "execution_count": 134,
     "metadata": {},
     "output_type": "execute_result"
    }
   ],
   "source": [
    "X = sm.add_constant(df['NA_Sales'])\n",
    "y = df['Global_Sales']\n",
    "model = sm.OLS(y, X)\n",
    "res = model.fit()\n",
    "res.summary()"
   ]
  },
  {
   "cell_type": "code",
   "execution_count": null,
   "id": "3f1e3c42",
   "metadata": {},
   "outputs": [],
   "source": []
  }
 ],
 "metadata": {
  "kernelspec": {
   "display_name": "Python 3 (ipykernel)",
   "language": "python",
   "name": "python3"
  },
  "language_info": {
   "codemirror_mode": {
    "name": "ipython",
    "version": 3
   },
   "file_extension": ".py",
   "mimetype": "text/x-python",
   "name": "python",
   "nbconvert_exporter": "python",
   "pygments_lexer": "ipython3",
   "version": "3.8.10"
  }
 },
 "nbformat": 4,
 "nbformat_minor": 5
}
