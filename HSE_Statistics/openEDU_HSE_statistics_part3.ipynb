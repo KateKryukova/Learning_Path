{
 "cells": [
  {
   "cell_type": "code",
   "execution_count": 70,
   "id": "30169150",
   "metadata": {},
   "outputs": [],
   "source": [
    "import pandas as pd\n",
    "import numpy as np\n",
    "import matplotlib.pyplot as plt\n",
    "import seaborn as sns\n",
    "import scipy.stats\n",
    "import statsmodels.api as sm"
   ]
  },
  {
   "cell_type": "code",
   "execution_count": 4,
   "id": "83259fb0",
   "metadata": {},
   "outputs": [
    {
     "data": {
      "text/html": [
       "<div>\n",
       "<style scoped>\n",
       "    .dataframe tbody tr th:only-of-type {\n",
       "        vertical-align: middle;\n",
       "    }\n",
       "\n",
       "    .dataframe tbody tr th {\n",
       "        vertical-align: top;\n",
       "    }\n",
       "\n",
       "    .dataframe thead th {\n",
       "        text-align: right;\n",
       "    }\n",
       "</style>\n",
       "<table border=\"1\" class=\"dataframe\">\n",
       "  <thead>\n",
       "    <tr style=\"text-align: right;\">\n",
       "      <th></th>\n",
       "      <th>respondentID</th>\n",
       "      <th>seen</th>\n",
       "      <th>fan</th>\n",
       "      <th>gender</th>\n",
       "      <th>age_group</th>\n",
       "      <th>income</th>\n",
       "      <th>loc</th>\n",
       "      <th>yoda</th>\n",
       "      <th>princess_leia_organa</th>\n",
       "    </tr>\n",
       "  </thead>\n",
       "  <tbody>\n",
       "    <tr>\n",
       "      <th>0</th>\n",
       "      <td>3292879998</td>\n",
       "      <td>да</td>\n",
       "      <td>да</td>\n",
       "      <td>М</td>\n",
       "      <td>18-29</td>\n",
       "      <td>NaN</td>\n",
       "      <td>Южно-Атлантический</td>\n",
       "      <td>очень нравится</td>\n",
       "      <td>очень нравится</td>\n",
       "    </tr>\n",
       "    <tr>\n",
       "      <th>1</th>\n",
       "      <td>3292879538</td>\n",
       "      <td>нет</td>\n",
       "      <td>NaN</td>\n",
       "      <td>М</td>\n",
       "      <td>18-29</td>\n",
       "      <td>0 - 24.999</td>\n",
       "      <td>Юго-Западный центральный</td>\n",
       "      <td>NaN</td>\n",
       "      <td>NaN</td>\n",
       "    </tr>\n",
       "    <tr>\n",
       "      <th>2</th>\n",
       "      <td>3292765271</td>\n",
       "      <td>да</td>\n",
       "      <td>нет</td>\n",
       "      <td>М</td>\n",
       "      <td>18-29</td>\n",
       "      <td>0 - 24.999</td>\n",
       "      <td>Северо-Западный центральный</td>\n",
       "      <td>не знаю такого персонажа</td>\n",
       "      <td>нравится</td>\n",
       "    </tr>\n",
       "    <tr>\n",
       "      <th>3</th>\n",
       "      <td>3292763116</td>\n",
       "      <td>да</td>\n",
       "      <td>да</td>\n",
       "      <td>М</td>\n",
       "      <td>18-29</td>\n",
       "      <td>100.000 - 149.999</td>\n",
       "      <td>Северо-Западный центральный</td>\n",
       "      <td>очень нравится</td>\n",
       "      <td>очень нравится</td>\n",
       "    </tr>\n",
       "    <tr>\n",
       "      <th>4</th>\n",
       "      <td>3292731220</td>\n",
       "      <td>да</td>\n",
       "      <td>да</td>\n",
       "      <td>М</td>\n",
       "      <td>18-29</td>\n",
       "      <td>100.000 - 149.999</td>\n",
       "      <td>Северо-Западный центральный</td>\n",
       "      <td>нравится</td>\n",
       "      <td>нравится</td>\n",
       "    </tr>\n",
       "  </tbody>\n",
       "</table>\n",
       "</div>"
      ],
      "text/plain": [
       "   respondentID seen  fan gender age_group             income  \\\n",
       "0    3292879998   да   да      М     18-29                NaN   \n",
       "1    3292879538  нет  NaN      М     18-29         0 - 24.999   \n",
       "2    3292765271   да  нет      М     18-29         0 - 24.999   \n",
       "3    3292763116   да   да      М     18-29  100.000 - 149.999   \n",
       "4    3292731220   да   да      М     18-29  100.000 - 149.999   \n",
       "\n",
       "                           loc                      yoda princess_leia_organa  \n",
       "0           Южно-Атлантический            очень нравится       очень нравится  \n",
       "1     Юго-Западный центральный                       NaN                  NaN  \n",
       "2  Северо-Западный центральный  не знаю такого персонажа             нравится  \n",
       "3  Северо-Западный центральный            очень нравится       очень нравится  \n",
       "4  Северо-Западный центральный                  нравится             нравится  "
      ]
     },
     "execution_count": 4,
     "metadata": {},
     "output_type": "execute_result"
    }
   ],
   "source": [
    "df = pd.read_csv('https://courses.openedu.ru/assets/courseware/v1/222d901d6ba796c5e7ef850a645bea29/asset-v1:hse+STATDA+2021+type@asset+block/StarWars.csv', sep=';')\n",
    "df.head()"
   ]
  },
  {
   "cell_type": "markdown",
   "id": "30d1b2e3",
   "metadata": {},
   "source": [
    "Вопрос 1. <br> Постройте таблицу сопряженности для переменных gender и fan. Укажите, верно ли следующее утверждение: 120 мужчин являются фанатами серии фильмов «Звездные войны»."
   ]
  },
  {
   "cell_type": "code",
   "execution_count": 9,
   "id": "d9db55b9",
   "metadata": {},
   "outputs": [
    {
     "data": {
      "text/html": [
       "<div>\n",
       "<style scoped>\n",
       "    .dataframe tbody tr th:only-of-type {\n",
       "        vertical-align: middle;\n",
       "    }\n",
       "\n",
       "    .dataframe tbody tr th {\n",
       "        vertical-align: top;\n",
       "    }\n",
       "\n",
       "    .dataframe thead th {\n",
       "        text-align: right;\n",
       "    }\n",
       "</style>\n",
       "<table border=\"1\" class=\"dataframe\">\n",
       "  <thead>\n",
       "    <tr style=\"text-align: right;\">\n",
       "      <th>fan</th>\n",
       "      <th>да</th>\n",
       "      <th>нет</th>\n",
       "    </tr>\n",
       "    <tr>\n",
       "      <th>gender</th>\n",
       "      <th></th>\n",
       "      <th></th>\n",
       "    </tr>\n",
       "  </thead>\n",
       "  <tbody>\n",
       "    <tr>\n",
       "      <th>Ж</th>\n",
       "      <td>238</td>\n",
       "      <td>159</td>\n",
       "    </tr>\n",
       "    <tr>\n",
       "      <th>М</th>\n",
       "      <td>303</td>\n",
       "      <td>120</td>\n",
       "    </tr>\n",
       "  </tbody>\n",
       "</table>\n",
       "</div>"
      ],
      "text/plain": [
       "fan      да  нет\n",
       "gender          \n",
       "Ж       238  159\n",
       "М       303  120"
      ]
     },
     "execution_count": 9,
     "metadata": {},
     "output_type": "execute_result"
    }
   ],
   "source": [
    "ct_o = df.groupby('gender')['fan'].value_counts().unstack()\n",
    "ct_o"
   ]
  },
  {
   "cell_type": "markdown",
   "id": "f72838a9",
   "metadata": {},
   "source": [
    "Вопрос 2. <br> Чему равна оценка вероятности того, что человек является фанатом серии фильмов? Введите ответ в виде десятичной дроби, округлите до двух знаков после запятой."
   ]
  },
  {
   "cell_type": "code",
   "execution_count": 15,
   "id": "46f2e410",
   "metadata": {},
   "outputs": [
    {
     "data": {
      "text/plain": [
       "820"
      ]
     },
     "execution_count": 15,
     "metadata": {},
     "output_type": "execute_result"
    }
   ],
   "source": [
    "n_total = ct_o.sum().sum()\n",
    "n_total"
   ]
  },
  {
   "cell_type": "code",
   "execution_count": 12,
   "id": "65f102a3",
   "metadata": {},
   "outputs": [
    {
     "data": {
      "text/plain": [
       "0.6597560975609756"
      ]
     },
     "execution_count": 12,
     "metadata": {},
     "output_type": "execute_result"
    }
   ],
   "source": [
    "ct_o['да'].sum() / total"
   ]
  },
  {
   "cell_type": "markdown",
   "id": "17d24d21",
   "metadata": {},
   "source": [
    "Вопрос 3. <br> Чему равна теоретическая частота для женщин, которые являются фанатами серии фильмов? В ответ запишите число, округлите до целого."
   ]
  },
  {
   "cell_type": "code",
   "execution_count": 13,
   "id": "cf513e8d",
   "metadata": {},
   "outputs": [
    {
     "data": {
      "text/plain": [
       "Chi2ContingencyResult(statistic=12.449350493035466, pvalue=0.00041813719910750865, dof=1, expected_freq=array([[261.92317073, 135.07682927],\n",
       "       [279.07682927, 143.92317073]]))"
      ]
     },
     "execution_count": 13,
     "metadata": {},
     "output_type": "execute_result"
    }
   ],
   "source": [
    "scipy.stats.chi2_contingency(ct_o, correction=False)"
   ]
  },
  {
   "cell_type": "code",
   "execution_count": 17,
   "id": "e32e325f",
   "metadata": {},
   "outputs": [
    {
     "name": "stdout",
     "output_type": "stream",
     "text": [
      "820.0\n",
      "12.449350493035455\n"
     ]
    }
   ],
   "source": [
    "n_target_yes = ct_o['да'].sum()\n",
    "n_target_no = ct_o['нет'].sum()\n",
    "\n",
    "p_target_0 = n_target_yes / n_total\n",
    "p_target_1 = n_target_no / n_total\n",
    "\n",
    "n_women = ct_o.iloc[0].sum()\n",
    "n_men = ct_o.iloc[1].sum()\n",
    "\n",
    "f_e_target_0_women = n_women * p_target_0\n",
    "f_e_target_1_women = n_women * p_target_1\n",
    "\n",
    "f_e_target_0_men = n_men * p_target_0\n",
    "f_e_target_1_men = n_men * p_target_1\n",
    "\n",
    "print(f_e_target_0_women + f_e_target_1_women + f_e_target_0_men + f_e_target_1_men)\n",
    "\n",
    "ct_e = np.array([[f_e_target_0_women, f_e_target_1_women], [f_e_target_0_men, f_e_target_1_men]])\n",
    "\n",
    "chi_square = ((ct_o - ct_e)**2/ct_e).sum().sum()\n",
    "print(chi_square)"
   ]
  },
  {
   "cell_type": "code",
   "execution_count": null,
   "id": "324c3f0b",
   "metadata": {},
   "outputs": [],
   "source": []
  },
  {
   "cell_type": "code",
   "execution_count": null,
   "id": "115c3d8f",
   "metadata": {},
   "outputs": [],
   "source": []
  },
  {
   "cell_type": "code",
   "execution_count": null,
   "id": "c47970be",
   "metadata": {},
   "outputs": [],
   "source": []
  },
  {
   "cell_type": "code",
   "execution_count": 41,
   "id": "b6673c6b",
   "metadata": {},
   "outputs": [
    {
     "data": {
      "text/plain": [
       "TtestResult(statistic=0.15504341823651055, pvalue=0.8828516345668911, df=5)"
      ]
     },
     "execution_count": 41,
     "metadata": {},
     "output_type": "execute_result"
    }
   ],
   "source": [
    "X = np.array([23, 3, 11, 35, -3, -10])\n",
    "Y = np.array([29, 1, 20, 3, 0, 0])\n",
    "scipy.stats.ttest_rel(X, Y)"
   ]
  },
  {
   "cell_type": "code",
   "execution_count": 26,
   "id": "3dbafa75",
   "metadata": {},
   "outputs": [],
   "source": [
    "n_1 = len(X)\n",
    "n_2 = len(Y)"
   ]
  },
  {
   "cell_type": "code",
   "execution_count": 24,
   "id": "2ef1370f",
   "metadata": {},
   "outputs": [],
   "source": [
    "var_1 = X.var()"
   ]
  },
  {
   "cell_type": "code",
   "execution_count": 25,
   "id": "02142a11",
   "metadata": {},
   "outputs": [],
   "source": [
    "var_2 = Y.var()"
   ]
  },
  {
   "cell_type": "code",
   "execution_count": 27,
   "id": "e5024e3a",
   "metadata": {},
   "outputs": [],
   "source": [
    "mean_1 = X.mean()\n",
    "mean_2 = Y.mean()"
   ]
  },
  {
   "cell_type": "code",
   "execution_count": 28,
   "id": "151f4856",
   "metadata": {},
   "outputs": [],
   "source": [
    "s_m1_m2 = np.sqrt(var_1/n_1 + var_2/n_2)\n",
    "t = (mean_1 - mean_2) / s_m1_m2"
   ]
  },
  {
   "cell_type": "code",
   "execution_count": 29,
   "id": "9cb9bedd",
   "metadata": {},
   "outputs": [
    {
     "data": {
      "text/plain": [
       "0.12804659847098984"
      ]
     },
     "execution_count": 29,
     "metadata": {},
     "output_type": "execute_result"
    }
   ],
   "source": [
    "t"
   ]
  },
  {
   "cell_type": "code",
   "execution_count": 36,
   "id": "dfff76bf",
   "metadata": {},
   "outputs": [],
   "source": [
    "X = np.array([13, 0, 6, 9, -1, 0])\n",
    "Y = np.array([4, 1, 5, 1, 20, 0])"
   ]
  },
  {
   "cell_type": "code",
   "execution_count": 37,
   "id": "7236e8ee",
   "metadata": {},
   "outputs": [],
   "source": [
    "n_1 = len(X)\n",
    "n_2 = len(Y)\n",
    "var_1 = X.var()\n",
    "var_2 = Y.var()\n",
    "mean_1 = X.mean()\n",
    "mean_2 = Y.mean()\n",
    "s_m1_m2 = np.sqrt(var_1/n_1 + var_2/n_2)\n",
    "t = (mean_1 - mean_2) / s_m1_m2"
   ]
  },
  {
   "cell_type": "code",
   "execution_count": 38,
   "id": "cbb3dca6",
   "metadata": {},
   "outputs": [
    {
     "data": {
      "text/plain": [
       "-0.18891196982194502"
      ]
     },
     "execution_count": 38,
     "metadata": {},
     "output_type": "execute_result"
    }
   ],
   "source": [
    "t"
   ]
  },
  {
   "cell_type": "code",
   "execution_count": 39,
   "id": "04662483",
   "metadata": {},
   "outputs": [
    {
     "data": {
      "text/plain": [
       "Ttest_indResult(statistic=-0.1724522454236908, pvalue=0.866753894833007)"
      ]
     },
     "execution_count": 39,
     "metadata": {},
     "output_type": "execute_result"
    }
   ],
   "source": [
    "scipy.stats.ttest_ind(X, Y, equal_var=False)"
   ]
  },
  {
   "cell_type": "code",
   "execution_count": 43,
   "id": "d7d54e23",
   "metadata": {},
   "outputs": [],
   "source": [
    "X = np.array([3, 2, 98, 34, 11, 2])\n",
    "m_0 = 7"
   ]
  },
  {
   "cell_type": "markdown",
   "id": "40f5b58d",
   "metadata": {},
   "source": [
    "${\\displaystyle t={\\frac {{\\overline {X}}-m}{s_{X}/{\\sqrt {n}}}}.}$"
   ]
  },
  {
   "cell_type": "code",
   "execution_count": 45,
   "id": "0b9d1336",
   "metadata": {},
   "outputs": [
    {
     "data": {
      "text/plain": [
       "1.2774134470551823"
      ]
     },
     "execution_count": 45,
     "metadata": {},
     "output_type": "execute_result"
    }
   ],
   "source": [
    "t = (X.mean() - m_0) / (X.std() / np.sqrt(len(X)))\n",
    "t"
   ]
  },
  {
   "cell_type": "code",
   "execution_count": 47,
   "id": "83d58f2b",
   "metadata": {},
   "outputs": [
    {
     "data": {
      "text/plain": [
       "34.515696912177994"
      ]
     },
     "execution_count": 47,
     "metadata": {},
     "output_type": "execute_result"
    }
   ],
   "source": [
    "X.std() "
   ]
  },
  {
   "cell_type": "code",
   "execution_count": 46,
   "id": "bd8e46c0",
   "metadata": {},
   "outputs": [
    {
     "data": {
      "text/plain": [
       "25.0"
      ]
     },
     "execution_count": 46,
     "metadata": {},
     "output_type": "execute_result"
    }
   ],
   "source": [
    "X.mean()"
   ]
  },
  {
   "cell_type": "code",
   "execution_count": 48,
   "id": "d26ed417",
   "metadata": {},
   "outputs": [
    {
     "data": {
      "text/plain": [
       "1.2772542111847394"
      ]
     },
     "execution_count": 48,
     "metadata": {},
     "output_type": "execute_result"
    }
   ],
   "source": [
    "18 / (34.52 / np.sqrt(6))"
   ]
  },
  {
   "cell_type": "markdown",
   "id": "52698762",
   "metadata": {},
   "source": [
    "TEST"
   ]
  },
  {
   "cell_type": "code",
   "execution_count": 49,
   "id": "68f7f7eb",
   "metadata": {},
   "outputs": [],
   "source": [
    "df = pd.read_csv('https://courses.openedu.ru/assets/courseware/v1/602c0edd7a26c6611744a380a3130736/asset-v1:hse+STATDA+2021+type@asset+block/UrbanizationCensusTract.csv')"
   ]
  },
  {
   "cell_type": "code",
   "execution_count": 50,
   "id": "945e1b36",
   "metadata": {},
   "outputs": [
    {
     "data": {
      "text/html": [
       "<div>\n",
       "<style scoped>\n",
       "    .dataframe tbody tr th:only-of-type {\n",
       "        vertical-align: middle;\n",
       "    }\n",
       "\n",
       "    .dataframe tbody tr th {\n",
       "        vertical-align: top;\n",
       "    }\n",
       "\n",
       "    .dataframe thead th {\n",
       "        text-align: right;\n",
       "    }\n",
       "</style>\n",
       "<table border=\"1\" class=\"dataframe\">\n",
       "  <thead>\n",
       "    <tr style=\"text-align: right;\">\n",
       "      <th></th>\n",
       "      <th>Unnamed: 0</th>\n",
       "      <th>statefips</th>\n",
       "      <th>state</th>\n",
       "      <th>gisjoin</th>\n",
       "      <th>lat_tract</th>\n",
       "      <th>long_tract</th>\n",
       "      <th>population</th>\n",
       "      <th>adj_radiuspop_5</th>\n",
       "      <th>urbanindex</th>\n",
       "      <th>log_pop</th>\n",
       "    </tr>\n",
       "  </thead>\n",
       "  <tbody>\n",
       "    <tr>\n",
       "      <th>0</th>\n",
       "      <td>0</td>\n",
       "      <td>1</td>\n",
       "      <td>Alabama</td>\n",
       "      <td>G0100010020100</td>\n",
       "      <td>32.47718</td>\n",
       "      <td>-86.49007</td>\n",
       "      <td>1845</td>\n",
       "      <td>44076.0</td>\n",
       "      <td>10.69367</td>\n",
       "      <td>7.520235</td>\n",
       "    </tr>\n",
       "    <tr>\n",
       "      <th>1</th>\n",
       "      <td>1</td>\n",
       "      <td>1</td>\n",
       "      <td>Alabama</td>\n",
       "      <td>G0100010020200</td>\n",
       "      <td>32.47425</td>\n",
       "      <td>-86.47337</td>\n",
       "      <td>2172</td>\n",
       "      <td>43008.0</td>\n",
       "      <td>10.66914</td>\n",
       "      <td>7.683404</td>\n",
       "    </tr>\n",
       "    <tr>\n",
       "      <th>2</th>\n",
       "      <td>2</td>\n",
       "      <td>1</td>\n",
       "      <td>Alabama</td>\n",
       "      <td>G0100010020300</td>\n",
       "      <td>32.47543</td>\n",
       "      <td>-86.46019</td>\n",
       "      <td>3385</td>\n",
       "      <td>38987.0</td>\n",
       "      <td>10.57098</td>\n",
       "      <td>8.127109</td>\n",
       "    </tr>\n",
       "    <tr>\n",
       "      <th>3</th>\n",
       "      <td>3</td>\n",
       "      <td>1</td>\n",
       "      <td>Alabama</td>\n",
       "      <td>G0100010020400</td>\n",
       "      <td>32.47200</td>\n",
       "      <td>-86.44363</td>\n",
       "      <td>4267</td>\n",
       "      <td>43131.0</td>\n",
       "      <td>10.67200</td>\n",
       "      <td>8.358666</td>\n",
       "    </tr>\n",
       "    <tr>\n",
       "      <th>4</th>\n",
       "      <td>4</td>\n",
       "      <td>1</td>\n",
       "      <td>Alabama</td>\n",
       "      <td>G0100010020500</td>\n",
       "      <td>32.45883</td>\n",
       "      <td>-86.42266</td>\n",
       "      <td>9965</td>\n",
       "      <td>43131.0</td>\n",
       "      <td>10.67200</td>\n",
       "      <td>9.206834</td>\n",
       "    </tr>\n",
       "    <tr>\n",
       "      <th>...</th>\n",
       "      <td>...</td>\n",
       "      <td>...</td>\n",
       "      <td>...</td>\n",
       "      <td>...</td>\n",
       "      <td>...</td>\n",
       "      <td>...</td>\n",
       "      <td>...</td>\n",
       "      <td>...</td>\n",
       "      <td>...</td>\n",
       "      <td>...</td>\n",
       "    </tr>\n",
       "    <tr>\n",
       "      <th>73275</th>\n",
       "      <td>73275</td>\n",
       "      <td>72</td>\n",
       "      <td>Puerto Rico</td>\n",
       "      <td>G7201530750501</td>\n",
       "      <td>18.03124</td>\n",
       "      <td>-66.86725</td>\n",
       "      <td>6011</td>\n",
       "      <td>52155.0</td>\n",
       "      <td>10.86198</td>\n",
       "      <td>8.701346</td>\n",
       "    </tr>\n",
       "    <tr>\n",
       "      <th>73276</th>\n",
       "      <td>73276</td>\n",
       "      <td>72</td>\n",
       "      <td>Puerto Rico</td>\n",
       "      <td>G7201530750502</td>\n",
       "      <td>18.02477</td>\n",
       "      <td>-66.86044</td>\n",
       "      <td>2342</td>\n",
       "      <td>55257.0</td>\n",
       "      <td>10.91975</td>\n",
       "      <td>7.758761</td>\n",
       "    </tr>\n",
       "    <tr>\n",
       "      <th>73277</th>\n",
       "      <td>73277</td>\n",
       "      <td>72</td>\n",
       "      <td>Puerto Rico</td>\n",
       "      <td>G7201530750503</td>\n",
       "      <td>18.02527</td>\n",
       "      <td>-66.87763</td>\n",
       "      <td>2218</td>\n",
       "      <td>48423.0</td>\n",
       "      <td>10.78773</td>\n",
       "      <td>7.704361</td>\n",
       "    </tr>\n",
       "    <tr>\n",
       "      <th>73278</th>\n",
       "      <td>73278</td>\n",
       "      <td>72</td>\n",
       "      <td>Puerto Rico</td>\n",
       "      <td>G7201530750601</td>\n",
       "      <td>18.01738</td>\n",
       "      <td>-66.83936</td>\n",
       "      <td>4380</td>\n",
       "      <td>50600.0</td>\n",
       "      <td>10.83171</td>\n",
       "      <td>8.384804</td>\n",
       "    </tr>\n",
       "    <tr>\n",
       "      <th>73279</th>\n",
       "      <td>73279</td>\n",
       "      <td>72</td>\n",
       "      <td>Puerto Rico</td>\n",
       "      <td>G7201530750602</td>\n",
       "      <td>17.98674</td>\n",
       "      <td>-66.85192</td>\n",
       "      <td>3001</td>\n",
       "      <td>44921.0</td>\n",
       "      <td>10.71266</td>\n",
       "      <td>8.006701</td>\n",
       "    </tr>\n",
       "  </tbody>\n",
       "</table>\n",
       "<p>73280 rows × 10 columns</p>\n",
       "</div>"
      ],
      "text/plain": [
       "       Unnamed: 0  statefips        state         gisjoin  lat_tract  \\\n",
       "0               0          1      Alabama  G0100010020100   32.47718   \n",
       "1               1          1      Alabama  G0100010020200   32.47425   \n",
       "2               2          1      Alabama  G0100010020300   32.47543   \n",
       "3               3          1      Alabama  G0100010020400   32.47200   \n",
       "4               4          1      Alabama  G0100010020500   32.45883   \n",
       "...           ...        ...          ...             ...        ...   \n",
       "73275       73275         72  Puerto Rico  G7201530750501   18.03124   \n",
       "73276       73276         72  Puerto Rico  G7201530750502   18.02477   \n",
       "73277       73277         72  Puerto Rico  G7201530750503   18.02527   \n",
       "73278       73278         72  Puerto Rico  G7201530750601   18.01738   \n",
       "73279       73279         72  Puerto Rico  G7201530750602   17.98674   \n",
       "\n",
       "       long_tract  population  adj_radiuspop_5  urbanindex   log_pop  \n",
       "0       -86.49007        1845          44076.0    10.69367  7.520235  \n",
       "1       -86.47337        2172          43008.0    10.66914  7.683404  \n",
       "2       -86.46019        3385          38987.0    10.57098  8.127109  \n",
       "3       -86.44363        4267          43131.0    10.67200  8.358666  \n",
       "4       -86.42266        9965          43131.0    10.67200  9.206834  \n",
       "...           ...         ...              ...         ...       ...  \n",
       "73275   -66.86725        6011          52155.0    10.86198  8.701346  \n",
       "73276   -66.86044        2342          55257.0    10.91975  7.758761  \n",
       "73277   -66.87763        2218          48423.0    10.78773  7.704361  \n",
       "73278   -66.83936        4380          50600.0    10.83171  8.384804  \n",
       "73279   -66.85192        3001          44921.0    10.71266  8.006701  \n",
       "\n",
       "[73280 rows x 10 columns]"
      ]
     },
     "execution_count": 50,
     "metadata": {},
     "output_type": "execute_result"
    }
   ],
   "source": [
    "df"
   ]
  },
  {
   "cell_type": "markdown",
   "id": "304526e1",
   "metadata": {},
   "source": [
    "Вопрос 1 <br> Сравните дисперсии по переменной log_pop в штатах Вайоминг (Wyoming) и Южная Дакота (South Dakota). Укажите, верно ли следующее утверждение: полученные дисперсии равны."
   ]
  },
  {
   "cell_type": "code",
   "execution_count": 56,
   "id": "4530df5f",
   "metadata": {},
   "outputs": [
    {
     "data": {
      "text/plain": [
       "0.18517126178551702"
      ]
     },
     "execution_count": 56,
     "metadata": {},
     "output_type": "execute_result"
    }
   ],
   "source": [
    "var_1 = df[df['state'] == 'Wyoming']['log_pop'].var()\n",
    "var_1"
   ]
  },
  {
   "cell_type": "code",
   "execution_count": 57,
   "id": "58d2b1d3",
   "metadata": {},
   "outputs": [
    {
     "data": {
      "text/plain": [
       "0.24738635408141224"
      ]
     },
     "execution_count": 57,
     "metadata": {},
     "output_type": "execute_result"
    }
   ],
   "source": [
    "var_2 = df[df['state'] == 'South Dakota']['log_pop'].var()\n",
    "var_2"
   ]
  },
  {
   "cell_type": "code",
   "execution_count": 58,
   "id": "f8293242",
   "metadata": {},
   "outputs": [
    {
     "data": {
      "text/plain": [
       "131"
      ]
     },
     "execution_count": 58,
     "metadata": {},
     "output_type": "execute_result"
    }
   ],
   "source": [
    "n_1 = df[df['state'] == 'Wyoming']['log_pop'].count()\n",
    "n_1"
   ]
  },
  {
   "cell_type": "code",
   "execution_count": 59,
   "id": "99be7816",
   "metadata": {},
   "outputs": [
    {
     "data": {
      "text/plain": [
       "219"
      ]
     },
     "execution_count": 59,
     "metadata": {},
     "output_type": "execute_result"
    }
   ],
   "source": [
    "n_2 = df[df['state'] == 'South Dakota']['log_pop'].count()\n",
    "n_2"
   ]
  },
  {
   "cell_type": "markdown",
   "id": "f3755363",
   "metadata": {},
   "source": [
    "Чему будет равно количество степеней свободы для указанной выше переменной и штатов с поправкой Уэлча? Рассчитайте показатель вручную."
   ]
  },
  {
   "cell_type": "markdown",
   "id": "141eb99f",
   "metadata": {},
   "source": [
    "### Поправка Уэлча\n",
    "$\n",
    "\\begin{align}\n",
    "df = \\frac{(V_1 + V_2)^2}{\\frac{V^2_1}{n_1 - 1} + \\frac{V^2_2}{n_2 - 1}}\n",
    "\\end{align}\n",
    "$\n",
    "\n",
    "$\n",
    "V_1 = \\frac{s^2_1}{n_1}\n",
    "$\n",
    "\n",
    "$\n",
    "V_2 = \\frac{s^2_2}{n_2}\n",
    "$"
   ]
  },
  {
   "cell_type": "code",
   "execution_count": 69,
   "id": "505fa498",
   "metadata": {},
   "outputs": [
    {
     "data": {
      "text/plain": [
       "304.7437699318602"
      ]
     },
     "execution_count": 69,
     "metadata": {},
     "output_type": "execute_result"
    }
   ],
   "source": [
    "v_1 = var_1/n_1\n",
    "v_2 = var_2/n_2\n",
    "\n",
    "df_welch = (v_1 + v_2)**2 / (v_1**2 / (n_1 - 1) + v_2**2 / (n_2 - 1))\n",
    "df_welch"
   ]
  },
  {
   "cell_type": "markdown",
   "id": "94892bfd",
   "metadata": {},
   "source": [
    "Вопрос 2 <br> Чему равна стандартная ошибка для выбранных выше штатов и переменной? Выберите один верный ответ."
   ]
  },
  {
   "cell_type": "code",
   "execution_count": 60,
   "id": "38aae863",
   "metadata": {},
   "outputs": [
    {
     "data": {
      "text/plain": [
       "0.05042954627496124"
      ]
     },
     "execution_count": 60,
     "metadata": {},
     "output_type": "execute_result"
    }
   ],
   "source": [
    "s_m1_m2 = np.sqrt(var_1/n_1 + var_2/n_2)\n",
    "s_m1_m2"
   ]
  },
  {
   "cell_type": "markdown",
   "id": "a40761c0",
   "metadata": {},
   "source": [
    "Вопрос 3 <br> Чему равна разность между средними выборок по указанным выше штатам? Выберите один верный ответ."
   ]
  },
  {
   "cell_type": "code",
   "execution_count": 63,
   "id": "23d0ecee",
   "metadata": {},
   "outputs": [
    {
     "data": {
      "text/plain": [
       "0.17812507657674104"
      ]
     },
     "execution_count": 63,
     "metadata": {},
     "output_type": "execute_result"
    }
   ],
   "source": [
    "mean_1 = df[df['state'] == 'Wyoming']['log_pop'].mean()\n",
    "mean_2 = df[df['state'] == 'South Dakota']['log_pop'].mean()\n",
    "mean_1 - mean_2"
   ]
  },
  {
   "cell_type": "markdown",
   "id": "8de6f1a4",
   "metadata": {},
   "source": [
    "Вопрос 4 <br> Чему получилось равно t-значение для указанных выше штатов и переменной log_pop ? Введите ответ в виде модуля десятичной дроби, округлите до двух знаков после запятой."
   ]
  },
  {
   "cell_type": "code",
   "execution_count": 62,
   "id": "c2d0f775",
   "metadata": {},
   "outputs": [
    {
     "data": {
      "text/plain": [
       "Ttest_indResult(statistic=3.5321570336075356, pvalue=0.00047596931710874944)"
      ]
     },
     "execution_count": 62,
     "metadata": {},
     "output_type": "execute_result"
    }
   ],
   "source": [
    "scipy.stats.ttest_ind(df[df['state'] == 'Wyoming']['log_pop'], df[df['state'] == 'South Dakota']['log_pop'], equal_var=False)"
   ]
  },
  {
   "cell_type": "markdown",
   "id": "0cf51813",
   "metadata": {},
   "source": [
    "Вопрос 5 <br> Чему получилось равно t-критическое для уровня значимости 0.01? Введите ответ в виде десятичной дроби, округлите до двух знаков после запятой."
   ]
  },
  {
   "cell_type": "code",
   "execution_count": 64,
   "id": "fc107b4e",
   "metadata": {},
   "outputs": [],
   "source": [
    "t_critical = 2.59"
   ]
  },
  {
   "cell_type": "markdown",
   "id": "c8b0b008",
   "metadata": {},
   "source": [
    "Вопрос 6 <br> Рассчитайте доверительный интервал для разницы между средними по указанным штатам и переменной. Какое из следующих утверждений верно? Выберите один верный ответ."
   ]
  },
  {
   "cell_type": "code",
   "execution_count": 65,
   "id": "78c77163",
   "metadata": {},
   "outputs": [],
   "source": [
    "CI_bottom = (mean_1 - mean_2) - t_critical * s_m1_m2\n",
    "CI_top = (mean_1 - mean_2) + t_critical * s_m1_m2"
   ]
  },
  {
   "cell_type": "code",
   "execution_count": 66,
   "id": "75eb1738",
   "metadata": {},
   "outputs": [
    {
     "data": {
      "text/plain": [
       "0.04751255172459143"
      ]
     },
     "execution_count": 66,
     "metadata": {},
     "output_type": "execute_result"
    }
   ],
   "source": [
    "CI_bottom"
   ]
  },
  {
   "cell_type": "code",
   "execution_count": 67,
   "id": "2ca317a9",
   "metadata": {},
   "outputs": [
    {
     "data": {
      "text/plain": [
       "0.3087376014288906"
      ]
     },
     "execution_count": 67,
     "metadata": {},
     "output_type": "execute_result"
    }
   ],
   "source": [
    "CI_top"
   ]
  },
  {
   "cell_type": "code",
   "execution_count": null,
   "id": "b93dc867",
   "metadata": {},
   "outputs": [],
   "source": []
  },
  {
   "cell_type": "code",
   "execution_count": null,
   "id": "4f6f9325",
   "metadata": {},
   "outputs": [],
   "source": []
  },
  {
   "cell_type": "markdown",
   "id": "f9188cf1",
   "metadata": {},
   "source": [
    "<b>Линейная регрессия - Тест </b> "
   ]
  },
  {
   "cell_type": "markdown",
   "id": "709dc2f1",
   "metadata": {},
   "source": [
    "Вопрос 1 <br>Предположим, что X и Y заданы так: X = [3, 2, 98, 34, 11, 2, 3], Y = [2, 1, 0, 3, 7, 2, 15]. Постройте модель линейной регрессии. Чему будет равно предсказанное значение зависимой переменной, если значение объясняющей равно 0? Выберите один верный ответ."
   ]
  },
  {
   "cell_type": "code",
   "execution_count": 71,
   "id": "b48b4626",
   "metadata": {},
   "outputs": [
    {
     "data": {
      "text/plain": [
       "LinregressResult(slope=-0.05549678881752928, intercept=5.498715527011711, rvalue=-0.37752595143732137, pvalue=0.4037712769297895, stderr=0.06087606348645353, intercept_stderr=2.4029802304891703)"
      ]
     },
     "execution_count": 71,
     "metadata": {},
     "output_type": "execute_result"
    }
   ],
   "source": [
    "X = np.array([3, 2, 98, 34, 11, 2, 3])\n",
    "y = np.array([2, 1, 0, 3, 7, 2, 15])\n",
    "scipy.stats.linregress(X, y)"
   ]
  },
  {
   "cell_type": "code",
   "execution_count": 73,
   "id": "a01860bf",
   "metadata": {
    "collapsed": true
   },
   "outputs": [
    {
     "name": "stderr",
     "output_type": "stream",
     "text": [
      "c:\\users\\kdk\\appdata\\local\\programs\\python\\python38\\lib\\site-packages\\statsmodels\\stats\\stattools.py:74: ValueWarning: omni_normtest is not valid with less than 8 observations; 7 samples were given.\n",
      "  warn(\"omni_normtest is not valid with less than 8 observations; %i \"\n"
     ]
    },
    {
     "data": {
      "text/html": [
       "<table class=\"simpletable\">\n",
       "<caption>OLS Regression Results</caption>\n",
       "<tr>\n",
       "  <th>Dep. Variable:</th>            <td>y</td>        <th>  R-squared:         </th> <td>   0.143</td>\n",
       "</tr>\n",
       "<tr>\n",
       "  <th>Model:</th>                   <td>OLS</td>       <th>  Adj. R-squared:    </th> <td>  -0.029</td>\n",
       "</tr>\n",
       "<tr>\n",
       "  <th>Method:</th>             <td>Least Squares</td>  <th>  F-statistic:       </th> <td>  0.8311</td>\n",
       "</tr>\n",
       "<tr>\n",
       "  <th>Date:</th>             <td>Tue, 25 Jul 2023</td> <th>  Prob (F-statistic):</th>  <td> 0.404</td> \n",
       "</tr>\n",
       "<tr>\n",
       "  <th>Time:</th>                 <td>23:20:43</td>     <th>  Log-Likelihood:    </th> <td> -20.421</td>\n",
       "</tr>\n",
       "<tr>\n",
       "  <th>No. Observations:</th>      <td>     7</td>      <th>  AIC:               </th> <td>   44.84</td>\n",
       "</tr>\n",
       "<tr>\n",
       "  <th>Df Residuals:</th>          <td>     5</td>      <th>  BIC:               </th> <td>   44.73</td>\n",
       "</tr>\n",
       "<tr>\n",
       "  <th>Df Model:</th>              <td>     1</td>      <th>                     </th>     <td> </td>   \n",
       "</tr>\n",
       "<tr>\n",
       "  <th>Covariance Type:</th>      <td>nonrobust</td>    <th>                     </th>     <td> </td>   \n",
       "</tr>\n",
       "</table>\n",
       "<table class=\"simpletable\">\n",
       "<tr>\n",
       "    <td></td>       <th>coef</th>     <th>std err</th>      <th>t</th>      <th>P>|t|</th>  <th>[0.025</th>    <th>0.975]</th>  \n",
       "</tr>\n",
       "<tr>\n",
       "  <th>const</th> <td>    5.4987</td> <td>    2.403</td> <td>    2.288</td> <td> 0.071</td> <td>   -0.678</td> <td>   11.676</td>\n",
       "</tr>\n",
       "<tr>\n",
       "  <th>x1</th>    <td>   -0.0555</td> <td>    0.061</td> <td>   -0.912</td> <td> 0.404</td> <td>   -0.212</td> <td>    0.101</td>\n",
       "</tr>\n",
       "</table>\n",
       "<table class=\"simpletable\">\n",
       "<tr>\n",
       "  <th>Omnibus:</th>       <td>   nan</td> <th>  Durbin-Watson:     </th> <td>   1.629</td>\n",
       "</tr>\n",
       "<tr>\n",
       "  <th>Prob(Omnibus):</th> <td>   nan</td> <th>  Jarque-Bera (JB):  </th> <td>   1.715</td>\n",
       "</tr>\n",
       "<tr>\n",
       "  <th>Skew:</th>          <td> 1.200</td> <th>  Prob(JB):          </th> <td>   0.424</td>\n",
       "</tr>\n",
       "<tr>\n",
       "  <th>Kurtosis:</th>      <td> 3.344</td> <th>  Cond. No.          </th> <td>    47.4</td>\n",
       "</tr>\n",
       "</table><br/><br/>Notes:<br/>[1] Standard Errors assume that the covariance matrix of the errors is correctly specified."
      ],
      "text/latex": [
       "\\begin{center}\n",
       "\\begin{tabular}{lclc}\n",
       "\\toprule\n",
       "\\textbf{Dep. Variable:}    &        y         & \\textbf{  R-squared:         } &     0.143   \\\\\n",
       "\\textbf{Model:}            &       OLS        & \\textbf{  Adj. R-squared:    } &    -0.029   \\\\\n",
       "\\textbf{Method:}           &  Least Squares   & \\textbf{  F-statistic:       } &    0.8311   \\\\\n",
       "\\textbf{Date:}             & Tue, 25 Jul 2023 & \\textbf{  Prob (F-statistic):} &    0.404    \\\\\n",
       "\\textbf{Time:}             &     23:20:43     & \\textbf{  Log-Likelihood:    } &   -20.421   \\\\\n",
       "\\textbf{No. Observations:} &           7      & \\textbf{  AIC:               } &     44.84   \\\\\n",
       "\\textbf{Df Residuals:}     &           5      & \\textbf{  BIC:               } &     44.73   \\\\\n",
       "\\textbf{Df Model:}         &           1      & \\textbf{                     } &             \\\\\n",
       "\\textbf{Covariance Type:}  &    nonrobust     & \\textbf{                     } &             \\\\\n",
       "\\bottomrule\n",
       "\\end{tabular}\n",
       "\\begin{tabular}{lcccccc}\n",
       "               & \\textbf{coef} & \\textbf{std err} & \\textbf{t} & \\textbf{P$> |$t$|$} & \\textbf{[0.025} & \\textbf{0.975]}  \\\\\n",
       "\\midrule\n",
       "\\textbf{const} &       5.4987  &        2.403     &     2.288  &         0.071        &       -0.678    &       11.676     \\\\\n",
       "\\textbf{x1}    &      -0.0555  &        0.061     &    -0.912  &         0.404        &       -0.212    &        0.101     \\\\\n",
       "\\bottomrule\n",
       "\\end{tabular}\n",
       "\\begin{tabular}{lclc}\n",
       "\\textbf{Omnibus:}       &    nan & \\textbf{  Durbin-Watson:     } &    1.629  \\\\\n",
       "\\textbf{Prob(Omnibus):} &    nan & \\textbf{  Jarque-Bera (JB):  } &    1.715  \\\\\n",
       "\\textbf{Skew:}          &  1.200 & \\textbf{  Prob(JB):          } &    0.424  \\\\\n",
       "\\textbf{Kurtosis:}      &  3.344 & \\textbf{  Cond. No.          } &     47.4  \\\\\n",
       "\\bottomrule\n",
       "\\end{tabular}\n",
       "%\\caption{OLS Regression Results}\n",
       "\\end{center}\n",
       "\n",
       "Notes: \\newline\n",
       " [1] Standard Errors assume that the covariance matrix of the errors is correctly specified."
      ],
      "text/plain": [
       "<class 'statsmodels.iolib.summary.Summary'>\n",
       "\"\"\"\n",
       "                            OLS Regression Results                            \n",
       "==============================================================================\n",
       "Dep. Variable:                      y   R-squared:                       0.143\n",
       "Model:                            OLS   Adj. R-squared:                 -0.029\n",
       "Method:                 Least Squares   F-statistic:                    0.8311\n",
       "Date:                Tue, 25 Jul 2023   Prob (F-statistic):              0.404\n",
       "Time:                        23:20:43   Log-Likelihood:                -20.421\n",
       "No. Observations:                   7   AIC:                             44.84\n",
       "Df Residuals:                       5   BIC:                             44.73\n",
       "Df Model:                           1                                         \n",
       "Covariance Type:            nonrobust                                         \n",
       "==============================================================================\n",
       "                 coef    std err          t      P>|t|      [0.025      0.975]\n",
       "------------------------------------------------------------------------------\n",
       "const          5.4987      2.403      2.288      0.071      -0.678      11.676\n",
       "x1            -0.0555      0.061     -0.912      0.404      -0.212       0.101\n",
       "==============================================================================\n",
       "Omnibus:                          nan   Durbin-Watson:                   1.629\n",
       "Prob(Omnibus):                    nan   Jarque-Bera (JB):                1.715\n",
       "Skew:                           1.200   Prob(JB):                        0.424\n",
       "Kurtosis:                       3.344   Cond. No.                         47.4\n",
       "==============================================================================\n",
       "\n",
       "Notes:\n",
       "[1] Standard Errors assume that the covariance matrix of the errors is correctly specified.\n",
       "\"\"\""
      ]
     },
     "execution_count": 73,
     "metadata": {},
     "output_type": "execute_result"
    }
   ],
   "source": [
    "X_simple_constant = sm.add_constant(X)\n",
    "model = sm.OLS(y, X_simple_constant)\n",
    "res_simple = model.fit()\n",
    "res_simple.summary()"
   ]
  },
  {
   "cell_type": "markdown",
   "id": "33c2ade9",
   "metadata": {},
   "source": [
    "Вопрос 2 <br>Предположим, что X и Y заданы так: X = [3, 2, 98, 34, 11, 2, 3], Y = [2, 1, 0, 3, 7, 2, 15]. На сколько будет увеличиваться предсказанное значение Y при увеличении X на 1? Выберите один верный ответ."
   ]
  },
  {
   "cell_type": "code",
   "execution_count": 87,
   "id": "75f40b76",
   "metadata": {},
   "outputs": [
    {
     "data": {
      "text/plain": [
       "LinregressResult(slope=-0.05549678881752928, intercept=5.498715527011711, rvalue=-0.37752595143732137, pvalue=0.4037712769297895, stderr=0.06087606348645353, intercept_stderr=2.4029802304891703)"
      ]
     },
     "execution_count": 87,
     "metadata": {},
     "output_type": "execute_result"
    }
   ],
   "source": [
    "X = np.array([3, 2, 98, 34, 11, 2, 3])\n",
    "y = np.array([2, 1, 0, 3, 7, 2, 15])\n",
    "res = scipy.stats.linregress(X, y)\n",
    "res"
   ]
  },
  {
   "cell_type": "code",
   "execution_count": 75,
   "id": "5c7781f7",
   "metadata": {
    "collapsed": true
   },
   "outputs": [
    {
     "name": "stderr",
     "output_type": "stream",
     "text": [
      "c:\\users\\kdk\\appdata\\local\\programs\\python\\python38\\lib\\site-packages\\statsmodels\\stats\\stattools.py:74: ValueWarning: omni_normtest is not valid with less than 8 observations; 7 samples were given.\n",
      "  warn(\"omni_normtest is not valid with less than 8 observations; %i \"\n"
     ]
    },
    {
     "data": {
      "text/html": [
       "<table class=\"simpletable\">\n",
       "<caption>OLS Regression Results</caption>\n",
       "<tr>\n",
       "  <th>Dep. Variable:</th>            <td>y</td>        <th>  R-squared:         </th> <td>   0.143</td>\n",
       "</tr>\n",
       "<tr>\n",
       "  <th>Model:</th>                   <td>OLS</td>       <th>  Adj. R-squared:    </th> <td>  -0.029</td>\n",
       "</tr>\n",
       "<tr>\n",
       "  <th>Method:</th>             <td>Least Squares</td>  <th>  F-statistic:       </th> <td>  0.8311</td>\n",
       "</tr>\n",
       "<tr>\n",
       "  <th>Date:</th>             <td>Tue, 25 Jul 2023</td> <th>  Prob (F-statistic):</th>  <td> 0.404</td> \n",
       "</tr>\n",
       "<tr>\n",
       "  <th>Time:</th>                 <td>23:31:48</td>     <th>  Log-Likelihood:    </th> <td> -20.421</td>\n",
       "</tr>\n",
       "<tr>\n",
       "  <th>No. Observations:</th>      <td>     7</td>      <th>  AIC:               </th> <td>   44.84</td>\n",
       "</tr>\n",
       "<tr>\n",
       "  <th>Df Residuals:</th>          <td>     5</td>      <th>  BIC:               </th> <td>   44.73</td>\n",
       "</tr>\n",
       "<tr>\n",
       "  <th>Df Model:</th>              <td>     1</td>      <th>                     </th>     <td> </td>   \n",
       "</tr>\n",
       "<tr>\n",
       "  <th>Covariance Type:</th>      <td>nonrobust</td>    <th>                     </th>     <td> </td>   \n",
       "</tr>\n",
       "</table>\n",
       "<table class=\"simpletable\">\n",
       "<tr>\n",
       "    <td></td>       <th>coef</th>     <th>std err</th>      <th>t</th>      <th>P>|t|</th>  <th>[0.025</th>    <th>0.975]</th>  \n",
       "</tr>\n",
       "<tr>\n",
       "  <th>const</th> <td>    5.4987</td> <td>    2.403</td> <td>    2.288</td> <td> 0.071</td> <td>   -0.678</td> <td>   11.676</td>\n",
       "</tr>\n",
       "<tr>\n",
       "  <th>x1</th>    <td>   -0.0555</td> <td>    0.061</td> <td>   -0.912</td> <td> 0.404</td> <td>   -0.212</td> <td>    0.101</td>\n",
       "</tr>\n",
       "</table>\n",
       "<table class=\"simpletable\">\n",
       "<tr>\n",
       "  <th>Omnibus:</th>       <td>   nan</td> <th>  Durbin-Watson:     </th> <td>   1.629</td>\n",
       "</tr>\n",
       "<tr>\n",
       "  <th>Prob(Omnibus):</th> <td>   nan</td> <th>  Jarque-Bera (JB):  </th> <td>   1.715</td>\n",
       "</tr>\n",
       "<tr>\n",
       "  <th>Skew:</th>          <td> 1.200</td> <th>  Prob(JB):          </th> <td>   0.424</td>\n",
       "</tr>\n",
       "<tr>\n",
       "  <th>Kurtosis:</th>      <td> 3.344</td> <th>  Cond. No.          </th> <td>    47.4</td>\n",
       "</tr>\n",
       "</table><br/><br/>Notes:<br/>[1] Standard Errors assume that the covariance matrix of the errors is correctly specified."
      ],
      "text/latex": [
       "\\begin{center}\n",
       "\\begin{tabular}{lclc}\n",
       "\\toprule\n",
       "\\textbf{Dep. Variable:}    &        y         & \\textbf{  R-squared:         } &     0.143   \\\\\n",
       "\\textbf{Model:}            &       OLS        & \\textbf{  Adj. R-squared:    } &    -0.029   \\\\\n",
       "\\textbf{Method:}           &  Least Squares   & \\textbf{  F-statistic:       } &    0.8311   \\\\\n",
       "\\textbf{Date:}             & Tue, 25 Jul 2023 & \\textbf{  Prob (F-statistic):} &    0.404    \\\\\n",
       "\\textbf{Time:}             &     23:31:48     & \\textbf{  Log-Likelihood:    } &   -20.421   \\\\\n",
       "\\textbf{No. Observations:} &           7      & \\textbf{  AIC:               } &     44.84   \\\\\n",
       "\\textbf{Df Residuals:}     &           5      & \\textbf{  BIC:               } &     44.73   \\\\\n",
       "\\textbf{Df Model:}         &           1      & \\textbf{                     } &             \\\\\n",
       "\\textbf{Covariance Type:}  &    nonrobust     & \\textbf{                     } &             \\\\\n",
       "\\bottomrule\n",
       "\\end{tabular}\n",
       "\\begin{tabular}{lcccccc}\n",
       "               & \\textbf{coef} & \\textbf{std err} & \\textbf{t} & \\textbf{P$> |$t$|$} & \\textbf{[0.025} & \\textbf{0.975]}  \\\\\n",
       "\\midrule\n",
       "\\textbf{const} &       5.4987  &        2.403     &     2.288  &         0.071        &       -0.678    &       11.676     \\\\\n",
       "\\textbf{x1}    &      -0.0555  &        0.061     &    -0.912  &         0.404        &       -0.212    &        0.101     \\\\\n",
       "\\bottomrule\n",
       "\\end{tabular}\n",
       "\\begin{tabular}{lclc}\n",
       "\\textbf{Omnibus:}       &    nan & \\textbf{  Durbin-Watson:     } &    1.629  \\\\\n",
       "\\textbf{Prob(Omnibus):} &    nan & \\textbf{  Jarque-Bera (JB):  } &    1.715  \\\\\n",
       "\\textbf{Skew:}          &  1.200 & \\textbf{  Prob(JB):          } &    0.424  \\\\\n",
       "\\textbf{Kurtosis:}      &  3.344 & \\textbf{  Cond. No.          } &     47.4  \\\\\n",
       "\\bottomrule\n",
       "\\end{tabular}\n",
       "%\\caption{OLS Regression Results}\n",
       "\\end{center}\n",
       "\n",
       "Notes: \\newline\n",
       " [1] Standard Errors assume that the covariance matrix of the errors is correctly specified."
      ],
      "text/plain": [
       "<class 'statsmodels.iolib.summary.Summary'>\n",
       "\"\"\"\n",
       "                            OLS Regression Results                            \n",
       "==============================================================================\n",
       "Dep. Variable:                      y   R-squared:                       0.143\n",
       "Model:                            OLS   Adj. R-squared:                 -0.029\n",
       "Method:                 Least Squares   F-statistic:                    0.8311\n",
       "Date:                Tue, 25 Jul 2023   Prob (F-statistic):              0.404\n",
       "Time:                        23:31:48   Log-Likelihood:                -20.421\n",
       "No. Observations:                   7   AIC:                             44.84\n",
       "Df Residuals:                       5   BIC:                             44.73\n",
       "Df Model:                           1                                         \n",
       "Covariance Type:            nonrobust                                         \n",
       "==============================================================================\n",
       "                 coef    std err          t      P>|t|      [0.025      0.975]\n",
       "------------------------------------------------------------------------------\n",
       "const          5.4987      2.403      2.288      0.071      -0.678      11.676\n",
       "x1            -0.0555      0.061     -0.912      0.404      -0.212       0.101\n",
       "==============================================================================\n",
       "Omnibus:                          nan   Durbin-Watson:                   1.629\n",
       "Prob(Omnibus):                    nan   Jarque-Bera (JB):                1.715\n",
       "Skew:                           1.200   Prob(JB):                        0.424\n",
       "Kurtosis:                       3.344   Cond. No.                         47.4\n",
       "==============================================================================\n",
       "\n",
       "Notes:\n",
       "[1] Standard Errors assume that the covariance matrix of the errors is correctly specified.\n",
       "\"\"\""
      ]
     },
     "execution_count": 75,
     "metadata": {},
     "output_type": "execute_result"
    }
   ],
   "source": [
    "X_simple_constant = sm.add_constant(X)\n",
    "model = sm.OLS(y, X_simple_constant)\n",
    "res_simple = model.fit()\n",
    "res_simple.summary()"
   ]
  },
  {
   "cell_type": "code",
   "execution_count": 88,
   "id": "94b93921",
   "metadata": {},
   "outputs": [
    {
     "data": {
      "text/plain": [
       "array([5.33222516, 5.38772195, 0.06003022, 3.61182471, 4.88825085,\n",
       "       5.38772195, 5.33222516])"
      ]
     },
     "execution_count": 88,
     "metadata": {},
     "output_type": "execute_result"
    }
   ],
   "source": [
    "y_reg = res.intercept + res.slope * X\n",
    "y_reg"
   ]
  },
  {
   "cell_type": "code",
   "execution_count": 89,
   "id": "4d72cac9",
   "metadata": {},
   "outputs": [
    {
     "data": {
      "image/png": "[encoded data removed]",
      "text/plain": [
       "<Figure size 640x480 with 1 Axes>"
      ]
     },
     "metadata": {},
     "output_type": "display_data"
    }
   ],
   "source": [
    "plt.plot(X, y, 'o', label='оригинальные данные')\n",
    "plt.plot(X, y_reg, 'r', label='линия регрессии')\n",
    "plt.legend()\n",
    "plt.show()"
   ]
  },
  {
   "cell_type": "code",
   "execution_count": 91,
   "id": "fb4954b5",
   "metadata": {},
   "outputs": [
    {
     "data": {
      "text/plain": [
       "20.019396621512225"
      ]
     },
     "execution_count": 91,
     "metadata": {},
     "output_type": "execute_result"
    }
   ],
   "source": [
    "MSE = ((y - y_reg) ** 2).sum() / len(y)\n",
    "MSE"
   ]
  },
  {
   "cell_type": "code",
   "execution_count": 92,
   "id": "d721558a",
   "metadata": {},
   "outputs": [
    {
     "data": {
      "text/plain": [
       "3.3655782826919967"
      ]
     },
     "execution_count": 92,
     "metadata": {},
     "output_type": "execute_result"
    }
   ],
   "source": [
    "MAE = (abs(y-y_reg)).sum() / len(y)\n",
    "MAE"
   ]
  },
  {
   "cell_type": "markdown",
   "id": "9780deb9",
   "metadata": {},
   "source": [
    "Вопрос 3 <br>Предположим, что X и Y заданы так: X = [3, 2, 98, 34, 11, 2, 3], Y = [2, 1, 0, 3, 7, 2, 15]. Постройте модель линейной регрессии. Укажите, верно ли следующее утверждение: значение коэффициента детерминации в данной модели получилось 0.14, значит модель объясняет 76% разброса данных."
   ]
  },
  {
   "cell_type": "code",
   "execution_count": 93,
   "id": "c8f4e35f",
   "metadata": {},
   "outputs": [
    {
     "data": {
      "text/plain": [
       "LinregressResult(slope=-0.05549678881752928, intercept=5.498715527011711, rvalue=-0.37752595143732137, pvalue=0.4037712769297895, stderr=0.06087606348645353, intercept_stderr=2.4029802304891703)"
      ]
     },
     "execution_count": 93,
     "metadata": {},
     "output_type": "execute_result"
    }
   ],
   "source": [
    "X = np.array([3, 2, 98, 34, 11, 2, 3])\n",
    "y = np.array([2, 1, 0, 3, 7, 2, 15])\n",
    "res = scipy.stats.linregress(X, y)\n",
    "res"
   ]
  },
  {
   "cell_type": "code",
   "execution_count": 94,
   "id": "734da634",
   "metadata": {},
   "outputs": [
    {
     "data": {
      "text/plain": [
       "0.14252584400865473"
      ]
     },
     "execution_count": 94,
     "metadata": {},
     "output_type": "execute_result"
    }
   ],
   "source": [
    "res.rvalue ** 2"
   ]
  },
  {
   "cell_type": "code",
   "execution_count": null,
   "id": "d267b119",
   "metadata": {},
   "outputs": [],
   "source": []
  }
 ],
 "metadata": {
  "kernelspec": {
   "display_name": "Python 3 (ipykernel)",
   "language": "python",
   "name": "python3"
  },
  "language_info": {
   "codemirror_mode": {
    "name": "ipython",
    "version": 3
   },
   "file_extension": ".py",
   "mimetype": "text/x-python",
   "name": "python",
   "nbconvert_exporter": "python",
   "pygments_lexer": "ipython3",
   "version": "3.8.10"
  }
 },
 "nbformat": 4,
 "nbformat_minor": 5
}
