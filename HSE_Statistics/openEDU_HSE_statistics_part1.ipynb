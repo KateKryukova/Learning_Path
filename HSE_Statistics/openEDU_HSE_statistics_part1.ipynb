{
 "cells": [
  {
   "cell_type": "code",
   "execution_count": 101,
   "id": "37de410e",
   "metadata": {},
   "outputs": [],
   "source": [
    "import pandas as pd\n",
    "import numpy as np\n",
    "import scipy.stats"
   ]
  },
  {
   "cell_type": "markdown",
   "id": "6067456a",
   "metadata": {},
   "source": [
    "<H2>Тест 1.</H2>"
   ]
  },
  {
   "cell_type": "code",
   "execution_count": 2,
   "id": "d6feb5af",
   "metadata": {},
   "outputs": [
    {
     "data": {
      "text/html": [
       "<div>\n",
       "<style scoped>\n",
       "    .dataframe tbody tr th:only-of-type {\n",
       "        vertical-align: middle;\n",
       "    }\n",
       "\n",
       "    .dataframe tbody tr th {\n",
       "        vertical-align: top;\n",
       "    }\n",
       "\n",
       "    .dataframe thead th {\n",
       "        text-align: right;\n",
       "    }\n",
       "</style>\n",
       "<table border=\"1\" class=\"dataframe\">\n",
       "  <thead>\n",
       "    <tr style=\"text-align: right;\">\n",
       "      <th></th>\n",
       "      <th>respondentID</th>\n",
       "      <th>seen</th>\n",
       "      <th>fan</th>\n",
       "      <th>gender</th>\n",
       "      <th>age_group</th>\n",
       "      <th>income</th>\n",
       "      <th>loc</th>\n",
       "      <th>yoda</th>\n",
       "      <th>princess_leia_organa</th>\n",
       "    </tr>\n",
       "  </thead>\n",
       "  <tbody>\n",
       "    <tr>\n",
       "      <th>0</th>\n",
       "      <td>3292879998</td>\n",
       "      <td>да</td>\n",
       "      <td>да</td>\n",
       "      <td>М</td>\n",
       "      <td>18-29</td>\n",
       "      <td>NaN</td>\n",
       "      <td>Южно-Атлантический</td>\n",
       "      <td>очень нравится</td>\n",
       "      <td>очень нравится</td>\n",
       "    </tr>\n",
       "    <tr>\n",
       "      <th>1</th>\n",
       "      <td>3292879538</td>\n",
       "      <td>нет</td>\n",
       "      <td>NaN</td>\n",
       "      <td>М</td>\n",
       "      <td>18-29</td>\n",
       "      <td>0 - 24.999</td>\n",
       "      <td>Юго-Западный центральный</td>\n",
       "      <td>NaN</td>\n",
       "      <td>NaN</td>\n",
       "    </tr>\n",
       "    <tr>\n",
       "      <th>2</th>\n",
       "      <td>3292765271</td>\n",
       "      <td>да</td>\n",
       "      <td>нет</td>\n",
       "      <td>М</td>\n",
       "      <td>18-29</td>\n",
       "      <td>0 - 24.999</td>\n",
       "      <td>Северо-Западный центральный</td>\n",
       "      <td>не знаю такого персонажа</td>\n",
       "      <td>нравится</td>\n",
       "    </tr>\n",
       "    <tr>\n",
       "      <th>3</th>\n",
       "      <td>3292763116</td>\n",
       "      <td>да</td>\n",
       "      <td>да</td>\n",
       "      <td>М</td>\n",
       "      <td>18-29</td>\n",
       "      <td>100.000 - 149.999</td>\n",
       "      <td>Северо-Западный центральный</td>\n",
       "      <td>очень нравится</td>\n",
       "      <td>очень нравится</td>\n",
       "    </tr>\n",
       "    <tr>\n",
       "      <th>4</th>\n",
       "      <td>3292731220</td>\n",
       "      <td>да</td>\n",
       "      <td>да</td>\n",
       "      <td>М</td>\n",
       "      <td>18-29</td>\n",
       "      <td>100.000 - 149.999</td>\n",
       "      <td>Северо-Западный центральный</td>\n",
       "      <td>нравится</td>\n",
       "      <td>нравится</td>\n",
       "    </tr>\n",
       "    <tr>\n",
       "      <th>...</th>\n",
       "      <td>...</td>\n",
       "      <td>...</td>\n",
       "      <td>...</td>\n",
       "      <td>...</td>\n",
       "      <td>...</td>\n",
       "      <td>...</td>\n",
       "      <td>...</td>\n",
       "      <td>...</td>\n",
       "      <td>...</td>\n",
       "    </tr>\n",
       "    <tr>\n",
       "      <th>1181</th>\n",
       "      <td>3288388730</td>\n",
       "      <td>да</td>\n",
       "      <td>да</td>\n",
       "      <td>Ж</td>\n",
       "      <td>18-29</td>\n",
       "      <td>0 - 24.999</td>\n",
       "      <td>Северо-Восточный центральный</td>\n",
       "      <td>очень нравится</td>\n",
       "      <td>нравится</td>\n",
       "    </tr>\n",
       "    <tr>\n",
       "      <th>1182</th>\n",
       "      <td>3288378779</td>\n",
       "      <td>да</td>\n",
       "      <td>да</td>\n",
       "      <td>Ж</td>\n",
       "      <td>30-44</td>\n",
       "      <td>50.000 - 99.999</td>\n",
       "      <td>Горный</td>\n",
       "      <td>очень нравится</td>\n",
       "      <td>очень нравится</td>\n",
       "    </tr>\n",
       "    <tr>\n",
       "      <th>1183</th>\n",
       "      <td>3288375286</td>\n",
       "      <td>нет</td>\n",
       "      <td>NaN</td>\n",
       "      <td>Ж</td>\n",
       "      <td>30-44</td>\n",
       "      <td>50.000 - 99.999</td>\n",
       "      <td>Средне-Атлантический</td>\n",
       "      <td>NaN</td>\n",
       "      <td>NaN</td>\n",
       "    </tr>\n",
       "    <tr>\n",
       "      <th>1184</th>\n",
       "      <td>3288373068</td>\n",
       "      <td>да</td>\n",
       "      <td>да</td>\n",
       "      <td>Ж</td>\n",
       "      <td>45-60</td>\n",
       "      <td>100.000 - 149.999</td>\n",
       "      <td>Северо-Восточный центральный</td>\n",
       "      <td>очень нравится</td>\n",
       "      <td>очень нравится</td>\n",
       "    </tr>\n",
       "    <tr>\n",
       "      <th>1185</th>\n",
       "      <td>3288372923</td>\n",
       "      <td>да</td>\n",
       "      <td>нет</td>\n",
       "      <td>Ж</td>\n",
       "      <td>&gt; 60</td>\n",
       "      <td>50.000 - 99.999</td>\n",
       "      <td>Тихоокеанский</td>\n",
       "      <td>очень не нравится</td>\n",
       "      <td>очень нравится</td>\n",
       "    </tr>\n",
       "  </tbody>\n",
       "</table>\n",
       "<p>1186 rows × 9 columns</p>\n",
       "</div>"
      ],
      "text/plain": [
       "      respondentID seen  fan gender age_group             income  \\\n",
       "0       3292879998   да   да      М     18-29                NaN   \n",
       "1       3292879538  нет  NaN      М     18-29         0 - 24.999   \n",
       "2       3292765271   да  нет      М     18-29         0 - 24.999   \n",
       "3       3292763116   да   да      М     18-29  100.000 - 149.999   \n",
       "4       3292731220   да   да      М     18-29  100.000 - 149.999   \n",
       "...            ...  ...  ...    ...       ...                ...   \n",
       "1181    3288388730   да   да      Ж     18-29         0 - 24.999   \n",
       "1182    3288378779   да   да      Ж     30-44    50.000 - 99.999   \n",
       "1183    3288375286  нет  NaN      Ж     30-44    50.000 - 99.999   \n",
       "1184    3288373068   да   да      Ж     45-60  100.000 - 149.999   \n",
       "1185    3288372923   да  нет      Ж      > 60    50.000 - 99.999   \n",
       "\n",
       "                               loc                      yoda  \\\n",
       "0               Южно-Атлантический            очень нравится   \n",
       "1         Юго-Западный центральный                       NaN   \n",
       "2      Северо-Западный центральный  не знаю такого персонажа   \n",
       "3      Северо-Западный центральный            очень нравится   \n",
       "4      Северо-Западный центральный                  нравится   \n",
       "...                            ...                       ...   \n",
       "1181  Северо-Восточный центральный            очень нравится   \n",
       "1182                        Горный            очень нравится   \n",
       "1183          Средне-Атлантический                       NaN   \n",
       "1184  Северо-Восточный центральный            очень нравится   \n",
       "1185                 Тихоокеанский         очень не нравится   \n",
       "\n",
       "     princess_leia_organa  \n",
       "0          очень нравится  \n",
       "1                     NaN  \n",
       "2                нравится  \n",
       "3          очень нравится  \n",
       "4                нравится  \n",
       "...                   ...  \n",
       "1181             нравится  \n",
       "1182       очень нравится  \n",
       "1183                  NaN  \n",
       "1184       очень нравится  \n",
       "1185       очень нравится  \n",
       "\n",
       "[1186 rows x 9 columns]"
      ]
     },
     "execution_count": 2,
     "metadata": {},
     "output_type": "execute_result"
    }
   ],
   "source": [
    "df = pd.read_csv('https://courses.openedu.ru/assets/courseware/v1/222d901d6ba796c5e7ef850a645bea29/asset-v1:hse+STATDA+2021+type@asset+block/StarWars.csv', sep=';')\n",
    "df"
   ]
  },
  {
   "cell_type": "markdown",
   "id": "3f03860f",
   "metadata": {},
   "source": [
    "<H3>Вопрос 1-1.</H3> Укажите, верно ли следующее утверждение: мужчины 18-29 лет, которые не являются фанатами серии, чаще всего проживают в Тихоокеанском регионе."
   ]
  },
  {
   "cell_type": "code",
   "execution_count": 3,
   "id": "254eaa9c",
   "metadata": {},
   "outputs": [
    {
     "data": {
      "text/plain": [
       "loc\n",
       "Тихоокеанский                   19\n",
       "Северо-Восточный центральный     6\n",
       "Северо-Западный центральный      6\n",
       "Новая Англия                     5\n",
       "Средне-Атлантический             5\n",
       "Горный                           4\n",
       "Юго-Западный центральный         4\n",
       "Южно-Атлантический               4\n",
       "Юго-Восточный центральный        3\n",
       "Name: respondentID, dtype: int64"
      ]
     },
     "execution_count": 3,
     "metadata": {},
     "output_type": "execute_result"
    }
   ],
   "source": [
    "df[(df['age_group'] == '18-29') & (df['fan'] == 'нет')].groupby('loc')['respondentID'].count().sort_values(ascending=False)"
   ]
  },
  {
   "cell_type": "markdown",
   "id": "9f004c98",
   "metadata": {},
   "source": [
    "<H3>Вопрос 1-2.</H3>Какой регион проживания реже всего встречается в данных?"
   ]
  },
  {
   "cell_type": "code",
   "execution_count": 4,
   "id": "e13d6f8d",
   "metadata": {},
   "outputs": [
    {
     "data": {
      "text/plain": [
       "loc\n",
       "Юго-Восточный центральный        38\n",
       "Новая Англия                     75\n",
       "Горный                           79\n",
       "Северо-Западный центральный      93\n",
       "Юго-Западный центральный        110\n",
       "Средне-Атлантический            122\n",
       "Южно-Атлантический              170\n",
       "Тихоокеанский                   175\n",
       "Северо-Восточный центральный    181\n",
       "Name: respondentID, dtype: int64"
      ]
     },
     "execution_count": 4,
     "metadata": {},
     "output_type": "execute_result"
    }
   ],
   "source": [
    "df.groupby('loc')['respondentID'].count().sort_values()"
   ]
  },
  {
   "cell_type": "markdown",
   "id": "7f97818c",
   "metadata": {},
   "source": [
    "<H3>Вопрос 1-3.</H3>Сколько респондентов не ответили на вопрос, нравится ли им Йода?"
   ]
  },
  {
   "cell_type": "code",
   "execution_count": 5,
   "id": "3437c365",
   "metadata": {},
   "outputs": [
    {
     "data": {
      "text/plain": [
       "(360, 9)"
      ]
     },
     "execution_count": 5,
     "metadata": {},
     "output_type": "execute_result"
    }
   ],
   "source": [
    "df[df['yoda'].isna()].shape"
   ]
  },
  {
   "cell_type": "markdown",
   "id": "b6006604",
   "metadata": {},
   "source": [
    "<H3>Вопрос 1-4.</H3>Скольким респондентам из Новой Англии очень нравится принцесса Лея Органа?"
   ]
  },
  {
   "cell_type": "code",
   "execution_count": 6,
   "id": "0210d292",
   "metadata": {},
   "outputs": [
    {
     "data": {
      "text/plain": [
       "(39, 9)"
      ]
     },
     "execution_count": 6,
     "metadata": {},
     "output_type": "execute_result"
    }
   ],
   "source": [
    "df[(df['loc'] == 'Новая Англия') & (df['princess_leia_organa'] == 'очень нравится')].shape"
   ]
  },
  {
   "cell_type": "markdown",
   "id": "652545ba",
   "metadata": {},
   "source": [
    "<H3>Вопрос 1-5.</H3>Укажите, верно ли следующее утверждение: все женщины старше 60 лет, входящие в категорию с наивысшим доходом и являющиеся фанатами серии фильмов, проживают в одном регионе."
   ]
  },
  {
   "cell_type": "code",
   "execution_count": 7,
   "id": "85b5ea5b",
   "metadata": {},
   "outputs": [
    {
     "data": {
      "text/plain": [
       "array([nan, '0 - 24.999', '100.000 - 149.999', '25.000 - 49.999',\n",
       "       '50.000 - 99.999', '150.000+'], dtype=object)"
      ]
     },
     "execution_count": 7,
     "metadata": {},
     "output_type": "execute_result"
    }
   ],
   "source": [
    "df['income'].unique()"
   ]
  },
  {
   "cell_type": "code",
   "execution_count": 8,
   "id": "83503afc",
   "metadata": {},
   "outputs": [
    {
     "data": {
      "text/html": [
       "<div>\n",
       "<style scoped>\n",
       "    .dataframe tbody tr th:only-of-type {\n",
       "        vertical-align: middle;\n",
       "    }\n",
       "\n",
       "    .dataframe tbody tr th {\n",
       "        vertical-align: top;\n",
       "    }\n",
       "\n",
       "    .dataframe thead th {\n",
       "        text-align: right;\n",
       "    }\n",
       "</style>\n",
       "<table border=\"1\" class=\"dataframe\">\n",
       "  <thead>\n",
       "    <tr style=\"text-align: right;\">\n",
       "      <th></th>\n",
       "      <th>respondentID</th>\n",
       "      <th>seen</th>\n",
       "      <th>fan</th>\n",
       "      <th>gender</th>\n",
       "      <th>age_group</th>\n",
       "      <th>income</th>\n",
       "      <th>loc</th>\n",
       "      <th>yoda</th>\n",
       "      <th>princess_leia_organa</th>\n",
       "    </tr>\n",
       "  </thead>\n",
       "  <tbody>\n",
       "    <tr>\n",
       "      <th>162</th>\n",
       "      <td>3291141478</td>\n",
       "      <td>да</td>\n",
       "      <td>да</td>\n",
       "      <td>Ж</td>\n",
       "      <td>&gt; 60</td>\n",
       "      <td>150.000+</td>\n",
       "      <td>Тихоокеанский</td>\n",
       "      <td>очень нравится</td>\n",
       "      <td>очень нравится</td>\n",
       "    </tr>\n",
       "    <tr>\n",
       "      <th>522</th>\n",
       "      <td>3290342102</td>\n",
       "      <td>да</td>\n",
       "      <td>да</td>\n",
       "      <td>Ж</td>\n",
       "      <td>&gt; 60</td>\n",
       "      <td>150.000+</td>\n",
       "      <td>Северо-Западный центральный</td>\n",
       "      <td>очень нравится</td>\n",
       "      <td>очень нравится</td>\n",
       "    </tr>\n",
       "    <tr>\n",
       "      <th>671</th>\n",
       "      <td>3289963393</td>\n",
       "      <td>да</td>\n",
       "      <td>да</td>\n",
       "      <td>Ж</td>\n",
       "      <td>&gt; 60</td>\n",
       "      <td>150.000+</td>\n",
       "      <td>Горный</td>\n",
       "      <td>очень нравится</td>\n",
       "      <td>очень нравится</td>\n",
       "    </tr>\n",
       "  </tbody>\n",
       "</table>\n",
       "</div>"
      ],
      "text/plain": [
       "     respondentID seen fan gender age_group    income  \\\n",
       "162    3291141478   да  да      Ж      > 60  150.000+   \n",
       "522    3290342102   да  да      Ж      > 60  150.000+   \n",
       "671    3289963393   да  да      Ж      > 60  150.000+   \n",
       "\n",
       "                             loc            yoda princess_leia_organa  \n",
       "162                Тихоокеанский  очень нравится       очень нравится  \n",
       "522  Северо-Западный центральный  очень нравится       очень нравится  \n",
       "671                       Горный  очень нравится       очень нравится  "
      ]
     },
     "execution_count": 8,
     "metadata": {},
     "output_type": "execute_result"
    }
   ],
   "source": [
    "df[(df['gender'] == 'Ж') \n",
    "   & (df['age_group'] == '> 60') \n",
    "   & (df['income'] == '150.000+') \n",
    "  & (df['fan'] == 'да')]"
   ]
  },
  {
   "cell_type": "markdown",
   "id": "02fd80c3",
   "metadata": {},
   "source": [
    "<H3>Вопрос 1-6.</H3>Какой регион проживания чаще всего встречается в данных?"
   ]
  },
  {
   "cell_type": "markdown",
   "id": "217d9777",
   "metadata": {},
   "source": [
    "см. Вопрос 2"
   ]
  },
  {
   "cell_type": "markdown",
   "id": "5c6bb3d1",
   "metadata": {},
   "source": []
  },
  {
   "cell_type": "markdown",
   "id": "daec1eeb",
   "metadata": {},
   "source": [
    "<H3>Вопрос 1-7.</H3>Сколько респондентов не назвали свой доход?"
   ]
  },
  {
   "cell_type": "code",
   "execution_count": 9,
   "id": "6f1bde83",
   "metadata": {},
   "outputs": [
    {
     "data": {
      "text/plain": [
       "328"
      ]
     },
     "execution_count": 9,
     "metadata": {},
     "output_type": "execute_result"
    }
   ],
   "source": [
    "df['income'].isna().sum()"
   ]
  },
  {
   "cell_type": "markdown",
   "id": "622d982c",
   "metadata": {},
   "source": [
    "<H3>Вопрос 1-8.</H3>Скольким респондентам одновременно очень нравятся Йода и принцесса Лея Органа?"
   ]
  },
  {
   "cell_type": "code",
   "execution_count": 10,
   "id": "ee788237",
   "metadata": {},
   "outputs": [
    {
     "data": {
      "text/plain": [
       "array(['очень нравится', nan, 'не знаю такого персонажа', 'нравится',\n",
       "       'очень не нравится', 'отношусь нейтрально', 'не нравится'],\n",
       "      dtype=object)"
      ]
     },
     "execution_count": 10,
     "metadata": {},
     "output_type": "execute_result"
    }
   ],
   "source": [
    "df['yoda'].unique()"
   ]
  },
  {
   "cell_type": "code",
   "execution_count": 11,
   "id": "0528872b",
   "metadata": {},
   "outputs": [
    {
     "data": {
      "text/plain": [
       "462"
      ]
     },
     "execution_count": 11,
     "metadata": {},
     "output_type": "execute_result"
    }
   ],
   "source": [
    "df[(df['yoda'] == 'очень нравится') & (df['princess_leia_organa'] == 'очень нравится')]['respondentID'].count()"
   ]
  },
  {
   "cell_type": "markdown",
   "id": "a8eea51b",
   "metadata": {},
   "source": [
    "<H3>Вопрос 1-9.</H3>Сколько респондентов не видели ни одного фильма серии, но считают себя ее фанатами?"
   ]
  },
  {
   "cell_type": "code",
   "execution_count": 12,
   "id": "c4da4faa",
   "metadata": {},
   "outputs": [
    {
     "data": {
      "text/html": [
       "<div>\n",
       "<style scoped>\n",
       "    .dataframe tbody tr th:only-of-type {\n",
       "        vertical-align: middle;\n",
       "    }\n",
       "\n",
       "    .dataframe tbody tr th {\n",
       "        vertical-align: top;\n",
       "    }\n",
       "\n",
       "    .dataframe thead th {\n",
       "        text-align: right;\n",
       "    }\n",
       "</style>\n",
       "<table border=\"1\" class=\"dataframe\">\n",
       "  <thead>\n",
       "    <tr style=\"text-align: right;\">\n",
       "      <th></th>\n",
       "      <th>respondentID</th>\n",
       "      <th>seen</th>\n",
       "      <th>fan</th>\n",
       "      <th>gender</th>\n",
       "      <th>age_group</th>\n",
       "      <th>income</th>\n",
       "      <th>loc</th>\n",
       "      <th>yoda</th>\n",
       "      <th>princess_leia_organa</th>\n",
       "    </tr>\n",
       "  </thead>\n",
       "  <tbody>\n",
       "  </tbody>\n",
       "</table>\n",
       "</div>"
      ],
      "text/plain": [
       "Empty DataFrame\n",
       "Columns: [respondentID, seen, fan, gender, age_group, income, loc, yoda, princess_leia_organa]\n",
       "Index: []"
      ]
     },
     "execution_count": 12,
     "metadata": {},
     "output_type": "execute_result"
    }
   ],
   "source": [
    "df[(df['seen'] == 'нет') & (df['fan'] == 'да')]"
   ]
  },
  {
   "cell_type": "markdown",
   "id": "88cfc54c",
   "metadata": {},
   "source": [
    "<H3>Вопрос 1-10.</H3>Сколько респондентов не ответили ни на один вопрос?"
   ]
  },
  {
   "cell_type": "code",
   "execution_count": 13,
   "id": "d58010f1",
   "metadata": {},
   "outputs": [
    {
     "data": {
      "text/html": [
       "<div>\n",
       "<style scoped>\n",
       "    .dataframe tbody tr th:only-of-type {\n",
       "        vertical-align: middle;\n",
       "    }\n",
       "\n",
       "    .dataframe tbody tr th {\n",
       "        vertical-align: top;\n",
       "    }\n",
       "\n",
       "    .dataframe thead th {\n",
       "        text-align: right;\n",
       "    }\n",
       "</style>\n",
       "<table border=\"1\" class=\"dataframe\">\n",
       "  <thead>\n",
       "    <tr style=\"text-align: right;\">\n",
       "      <th></th>\n",
       "      <th>respondentID</th>\n",
       "      <th>seen</th>\n",
       "      <th>fan</th>\n",
       "      <th>gender</th>\n",
       "      <th>age_group</th>\n",
       "      <th>income</th>\n",
       "      <th>loc</th>\n",
       "      <th>yoda</th>\n",
       "      <th>princess_leia_organa</th>\n",
       "      <th>any_response</th>\n",
       "    </tr>\n",
       "  </thead>\n",
       "  <tbody>\n",
       "  </tbody>\n",
       "</table>\n",
       "</div>"
      ],
      "text/plain": [
       "Empty DataFrame\n",
       "Columns: [respondentID, seen, fan, gender, age_group, income, loc, yoda, princess_leia_organa, any_response]\n",
       "Index: []"
      ]
     },
     "execution_count": 13,
     "metadata": {},
     "output_type": "execute_result"
    }
   ],
   "source": [
    "df['any_response'] = df[['seen', 'fan', 'yoda', 'princess_leia_organa']].notna().sum(axis=1)\n",
    "df[df['any_response'] == 0]"
   ]
  },
  {
   "cell_type": "markdown",
   "id": "4bbf6516",
   "metadata": {},
   "source": [
    "<H3>Вопрос 1-11.</H3>Посмотрите на мужчин, проживающих в горном районе. В ответ запишите ID респондента, входящего в категорию с наивысшим доходом при заданных условиях"
   ]
  },
  {
   "cell_type": "code",
   "execution_count": 14,
   "id": "2842a479",
   "metadata": {},
   "outputs": [
    {
     "data": {
      "text/html": [
       "<div>\n",
       "<style scoped>\n",
       "    .dataframe tbody tr th:only-of-type {\n",
       "        vertical-align: middle;\n",
       "    }\n",
       "\n",
       "    .dataframe tbody tr th {\n",
       "        vertical-align: top;\n",
       "    }\n",
       "\n",
       "    .dataframe thead th {\n",
       "        text-align: right;\n",
       "    }\n",
       "</style>\n",
       "<table border=\"1\" class=\"dataframe\">\n",
       "  <thead>\n",
       "    <tr style=\"text-align: right;\">\n",
       "      <th></th>\n",
       "      <th>respondentID</th>\n",
       "      <th>seen</th>\n",
       "      <th>fan</th>\n",
       "      <th>gender</th>\n",
       "      <th>age_group</th>\n",
       "      <th>income</th>\n",
       "      <th>loc</th>\n",
       "      <th>yoda</th>\n",
       "      <th>princess_leia_organa</th>\n",
       "      <th>any_response</th>\n",
       "    </tr>\n",
       "  </thead>\n",
       "  <tbody>\n",
       "    <tr>\n",
       "      <th>169</th>\n",
       "      <td>3291077381</td>\n",
       "      <td>да</td>\n",
       "      <td>нет</td>\n",
       "      <td>М</td>\n",
       "      <td>45-60</td>\n",
       "      <td>150.000+</td>\n",
       "      <td>Горный</td>\n",
       "      <td>нравится</td>\n",
       "      <td>отношусь нейтрально</td>\n",
       "      <td>4</td>\n",
       "    </tr>\n",
       "  </tbody>\n",
       "</table>\n",
       "</div>"
      ],
      "text/plain": [
       "     respondentID seen  fan gender age_group    income     loc      yoda  \\\n",
       "169    3291077381   да  нет      М     45-60  150.000+  Горный  нравится   \n",
       "\n",
       "    princess_leia_organa  any_response  \n",
       "169  отношусь нейтрально             4  "
      ]
     },
     "execution_count": 14,
     "metadata": {},
     "output_type": "execute_result"
    }
   ],
   "source": [
    "df[(df['gender'] == 'М') & (df['loc'] == 'Горный') & (df['income'] == '150.000+')]"
   ]
  },
  {
   "cell_type": "markdown",
   "id": "003be8af",
   "metadata": {},
   "source": [
    "<H3>Вопрос 1-12.</H3>Укажите, верно ли следующее утверждение: фанатов серии фильмов в возрастной категории 45-60 меньше, чем не-фанатов в возрастной категории 18-29"
   ]
  },
  {
   "cell_type": "code",
   "execution_count": 15,
   "id": "6debe8fc",
   "metadata": {},
   "outputs": [
    {
     "data": {
      "text/plain": [
       "False"
      ]
     },
     "execution_count": 15,
     "metadata": {},
     "output_type": "execute_result"
    }
   ],
   "source": [
    "df[(df['age_group'] == '45-60') & (df['fan'] == 'да')]['respondentID'].count() < df[(df['age_group'] == '18-29') & (df['fan'] == 'нет')]['respondentID'].count()"
   ]
  },
  {
   "cell_type": "markdown",
   "id": "e91d5882",
   "metadata": {},
   "source": [
    "<H3>Вопрос 1-13.</H3>Сколько процентов (от общего числа респондентов) являются фанатами серии фильмов, проживают в Новой Англии и имеют доход 0 - 24.999 долларов? В ответ запишите число (процент от 0 до 100), округлите до целого"
   ]
  },
  {
   "cell_type": "code",
   "execution_count": 16,
   "id": "57b24eec",
   "metadata": {},
   "outputs": [],
   "source": [
    "total_resp = df.shape[0]\n",
    "total_resp\n",
    "\n",
    "res_group = df[(df['fan'] == 'да') & (df['loc'] == 'Новая Англия') & (df['income'] == '0 - 24.999')]['respondentID'].count()"
   ]
  },
  {
   "cell_type": "code",
   "execution_count": 17,
   "id": "19166ecf",
   "metadata": {},
   "outputs": [
    {
     "data": {
      "text/plain": [
       "0.7588532883642496"
      ]
     },
     "execution_count": 17,
     "metadata": {},
     "output_type": "execute_result"
    }
   ],
   "source": [
    "100 * res_group / total_resp"
   ]
  },
  {
   "cell_type": "code",
   "execution_count": null,
   "id": "a0bc810c",
   "metadata": {},
   "outputs": [],
   "source": []
  },
  {
   "cell_type": "markdown",
   "id": "ba646b93",
   "metadata": {},
   "source": [
    "<H2>ТЕСТ 2</H2>"
   ]
  },
  {
   "cell_type": "code",
   "execution_count": 18,
   "id": "bd032cc5",
   "metadata": {},
   "outputs": [
    {
     "data": {
      "text/html": [
       "<div>\n",
       "<style scoped>\n",
       "    .dataframe tbody tr th:only-of-type {\n",
       "        vertical-align: middle;\n",
       "    }\n",
       "\n",
       "    .dataframe tbody tr th {\n",
       "        vertical-align: top;\n",
       "    }\n",
       "\n",
       "    .dataframe thead th {\n",
       "        text-align: right;\n",
       "    }\n",
       "</style>\n",
       "<table border=\"1\" class=\"dataframe\">\n",
       "  <thead>\n",
       "    <tr style=\"text-align: right;\">\n",
       "      <th></th>\n",
       "      <th>name</th>\n",
       "      <th>align</th>\n",
       "      <th>eye</th>\n",
       "      <th>hair</th>\n",
       "      <th>sex</th>\n",
       "      <th>appearances</th>\n",
       "      <th>first_appearance</th>\n",
       "    </tr>\n",
       "  </thead>\n",
       "  <tbody>\n",
       "    <tr>\n",
       "      <th>0</th>\n",
       "      <td>Spider-Man (Peter Parker)</td>\n",
       "      <td>Добрый персонаж</td>\n",
       "      <td>Карие глаза</td>\n",
       "      <td>Каштановые волосы</td>\n",
       "      <td>Мужской персонаж</td>\n",
       "      <td>4043.0</td>\n",
       "      <td>1962.0</td>\n",
       "    </tr>\n",
       "    <tr>\n",
       "      <th>1</th>\n",
       "      <td>Captain America (Steven Rogers)</td>\n",
       "      <td>Добрый персонаж</td>\n",
       "      <td>Голубые глаза</td>\n",
       "      <td>Белые волосы</td>\n",
       "      <td>Мужской персонаж</td>\n",
       "      <td>3360.0</td>\n",
       "      <td>1941.0</td>\n",
       "    </tr>\n",
       "    <tr>\n",
       "      <th>2</th>\n",
       "      <td>Wolverine (James \\\"Logan\\\" Howlett)</td>\n",
       "      <td>Нейтральный персонаж</td>\n",
       "      <td>Голубые глаза</td>\n",
       "      <td>Черные волосы</td>\n",
       "      <td>Мужской персонаж</td>\n",
       "      <td>3061.0</td>\n",
       "      <td>1974.0</td>\n",
       "    </tr>\n",
       "    <tr>\n",
       "      <th>3</th>\n",
       "      <td>Iron Man (Anthony \\\"Tony\\\" Stark)</td>\n",
       "      <td>Добрый персонаж</td>\n",
       "      <td>Голубые глаза</td>\n",
       "      <td>Черные волосы</td>\n",
       "      <td>Мужской персонаж</td>\n",
       "      <td>2961.0</td>\n",
       "      <td>1963.0</td>\n",
       "    </tr>\n",
       "    <tr>\n",
       "      <th>4</th>\n",
       "      <td>Thor (Thor Odinson)</td>\n",
       "      <td>Добрый персонаж</td>\n",
       "      <td>Голубые глаза</td>\n",
       "      <td>Русые волосы</td>\n",
       "      <td>Мужской персонаж</td>\n",
       "      <td>2258.0</td>\n",
       "      <td>1950.0</td>\n",
       "    </tr>\n",
       "    <tr>\n",
       "      <th>...</th>\n",
       "      <td>...</td>\n",
       "      <td>...</td>\n",
       "      <td>...</td>\n",
       "      <td>...</td>\n",
       "      <td>...</td>\n",
       "      <td>...</td>\n",
       "      <td>...</td>\n",
       "    </tr>\n",
       "    <tr>\n",
       "      <th>16371</th>\n",
       "      <td>Ru'ach (Earth-616)</td>\n",
       "      <td>Злой персонаж</td>\n",
       "      <td>Зеленые глаза</td>\n",
       "      <td>Без волос</td>\n",
       "      <td>Мужской персонаж</td>\n",
       "      <td>NaN</td>\n",
       "      <td>NaN</td>\n",
       "    </tr>\n",
       "    <tr>\n",
       "      <th>16372</th>\n",
       "      <td>Thane (Thanos' son) (Earth-616)</td>\n",
       "      <td>Добрый персонаж</td>\n",
       "      <td>Голубые глаза</td>\n",
       "      <td>NaN</td>\n",
       "      <td>Мужской персонаж</td>\n",
       "      <td>NaN</td>\n",
       "      <td>NaN</td>\n",
       "    </tr>\n",
       "    <tr>\n",
       "      <th>16373</th>\n",
       "      <td>Tinkerer (Skrull) (Earth-616)</td>\n",
       "      <td>Злой персонаж</td>\n",
       "      <td>Черные глаза</td>\n",
       "      <td>NaN</td>\n",
       "      <td>Мужской персонаж</td>\n",
       "      <td>NaN</td>\n",
       "      <td>NaN</td>\n",
       "    </tr>\n",
       "    <tr>\n",
       "      <th>16374</th>\n",
       "      <td>TK421 (Spiderling) (Earth-616)</td>\n",
       "      <td>Нейтральный персонаж</td>\n",
       "      <td>NaN</td>\n",
       "      <td>NaN</td>\n",
       "      <td>Мужской персонаж</td>\n",
       "      <td>NaN</td>\n",
       "      <td>NaN</td>\n",
       "    </tr>\n",
       "    <tr>\n",
       "      <th>16375</th>\n",
       "      <td>Yologarch (Earth-616)</td>\n",
       "      <td>Злой персонаж</td>\n",
       "      <td>NaN</td>\n",
       "      <td>NaN</td>\n",
       "      <td>NaN</td>\n",
       "      <td>NaN</td>\n",
       "      <td>NaN</td>\n",
       "    </tr>\n",
       "  </tbody>\n",
       "</table>\n",
       "<p>16376 rows × 7 columns</p>\n",
       "</div>"
      ],
      "text/plain": [
       "                                      name                 align  \\\n",
       "0                Spider-Man (Peter Parker)       Добрый персонаж   \n",
       "1          Captain America (Steven Rogers)       Добрый персонаж   \n",
       "2      Wolverine (James \\\"Logan\\\" Howlett)  Нейтральный персонаж   \n",
       "3        Iron Man (Anthony \\\"Tony\\\" Stark)       Добрый персонаж   \n",
       "4                      Thor (Thor Odinson)       Добрый персонаж   \n",
       "...                                    ...                   ...   \n",
       "16371                   Ru'ach (Earth-616)         Злой персонаж   \n",
       "16372      Thane (Thanos' son) (Earth-616)       Добрый персонаж   \n",
       "16373        Tinkerer (Skrull) (Earth-616)         Злой персонаж   \n",
       "16374       TK421 (Spiderling) (Earth-616)  Нейтральный персонаж   \n",
       "16375                Yologarch (Earth-616)         Злой персонаж   \n",
       "\n",
       "                 eye               hair               sex  appearances  \\\n",
       "0        Карие глаза  Каштановые волосы  Мужской персонаж       4043.0   \n",
       "1      Голубые глаза       Белые волосы  Мужской персонаж       3360.0   \n",
       "2      Голубые глаза      Черные волосы  Мужской персонаж       3061.0   \n",
       "3      Голубые глаза      Черные волосы  Мужской персонаж       2961.0   \n",
       "4      Голубые глаза       Русые волосы  Мужской персонаж       2258.0   \n",
       "...              ...                ...               ...          ...   \n",
       "16371  Зеленые глаза          Без волос  Мужской персонаж          NaN   \n",
       "16372  Голубые глаза                NaN  Мужской персонаж          NaN   \n",
       "16373   Черные глаза                NaN  Мужской персонаж          NaN   \n",
       "16374            NaN                NaN  Мужской персонаж          NaN   \n",
       "16375            NaN                NaN               NaN          NaN   \n",
       "\n",
       "       first_appearance  \n",
       "0                1962.0  \n",
       "1                1941.0  \n",
       "2                1974.0  \n",
       "3                1963.0  \n",
       "4                1950.0  \n",
       "...                 ...  \n",
       "16371               NaN  \n",
       "16372               NaN  \n",
       "16373               NaN  \n",
       "16374               NaN  \n",
       "16375               NaN  \n",
       "\n",
       "[16376 rows x 7 columns]"
      ]
     },
     "execution_count": 18,
     "metadata": {},
     "output_type": "execute_result"
    }
   ],
   "source": [
    "df2 = pd.read_csv('https://courses.openedu.ru/assets/courseware/v1/87c72c7b117de3aaaabc62e72683d98e/asset-v1:hse+STATDA+2021+type@asset+block/MarvelComicCaracters.csv', sep=';')\n",
    "df2"
   ]
  },
  {
   "cell_type": "markdown",
   "id": "34fc7dd1",
   "metadata": {},
   "source": [
    "Описание данных\n",
    "– name — оригинальное имя персонажа вселенной Marvel\n",
    "– align — принадлежность персонажа к доброй/злой/нейтральной стороне\n",
    "– eye — описание глаз персонажа\n",
    "– hair — описание волос персонажа\n",
    "– sex — пол персонажа\n",
    "– appearances — количество появлений персонажа\n",
    "– first_appearance — год первого появления персонажа"
   ]
  },
  {
   "cell_type": "markdown",
   "id": "07fc6a7f",
   "metadata": {},
   "source": [
    "<H3>Вопрос 2-1.</H3>Какой тип графика из перечисленных наиболее удобен для описания распределения переменной appearances? (линейный, столбчатая диаграмма, гистограмма, график построить нельзя)"
   ]
  },
  {
   "cell_type": "code",
   "execution_count": 19,
   "id": "f4a9b724",
   "metadata": {},
   "outputs": [
    {
     "data": {
      "text/plain": [
       "<Axes: >"
      ]
     },
     "execution_count": 19,
     "metadata": {},
     "output_type": "execute_result"
    },
    {
     "data": {
      "image/png": "[encoded data removed]",
      "text/plain": [
       "<Figure size 640x480 with 1 Axes>"
      ]
     },
     "metadata": {},
     "output_type": "display_data"
    }
   ],
   "source": [
    "df2['appearances'].plot(kind='line')"
   ]
  },
  {
   "cell_type": "code",
   "execution_count": 20,
   "id": "5a3bde96",
   "metadata": {},
   "outputs": [],
   "source": [
    "#df2['appearances'].plot(kind='bar')"
   ]
  },
  {
   "cell_type": "code",
   "execution_count": 21,
   "id": "bcaaccdf",
   "metadata": {},
   "outputs": [
    {
     "data": {
      "text/plain": [
       "<Axes: >"
      ]
     },
     "execution_count": 21,
     "metadata": {},
     "output_type": "execute_result"
    },
    {
     "data": {
      "image/png": "[encoded data removed]",
      "text/plain": [
       "<Figure size 640x480 with 1 Axes>"
      ]
     },
     "metadata": {},
     "output_type": "display_data"
    }
   ],
   "source": [
    "df2['appearances'].hist()"
   ]
  },
  {
   "cell_type": "code",
   "execution_count": 22,
   "id": "c4f912ef",
   "metadata": {},
   "outputs": [
    {
     "data": {
      "text/plain": [
       "16376"
      ]
     },
     "execution_count": 22,
     "metadata": {},
     "output_type": "execute_result"
    }
   ],
   "source": [
    "df2['name'].nunique()"
   ]
  },
  {
   "cell_type": "markdown",
   "id": "b61e9277",
   "metadata": {},
   "source": [
    "<H3>Вопрос 2-2.</H3>По переменной align была построена частотная таблица. Укажите, какие ошибки были допущены в таблице. Чтобы проверить ее, постройте таблицу сами, используя удобную вам программу."
   ]
  },
  {
   "cell_type": "code",
   "execution_count": 24,
   "id": "972f1236",
   "metadata": {},
   "outputs": [
    {
     "data": {
      "text/plain": [
       "align\n",
       "Добрый персонаж         4636\n",
       "Злой персонаж           6720\n",
       "Нейтральный персонаж    2208\n",
       "dtype: int64"
      ]
     },
     "execution_count": 24,
     "metadata": {},
     "output_type": "execute_result"
    }
   ],
   "source": [
    "df2.groupby('align').size()"
   ]
  },
  {
   "cell_type": "markdown",
   "id": "d6a4d7f4",
   "metadata": {},
   "source": [
    "<H3>Вопрос 2-3.</H3>Определите три наиболее часто встречающих цвета глаз персонажей, выберите из данных только их и заполните частотную таблицу по переменной eye. В вариантах ответов представлены числа, которые могут быть записаны в таблицу. "
   ]
  },
  {
   "cell_type": "code",
   "execution_count": 28,
   "id": "706171c5",
   "metadata": {
    "collapsed": true
   },
   "outputs": [
    {
     "data": {
      "text/plain": [
       "Голубые глаза            1962\n",
       "Темно-карие глаза        1924\n",
       "Зеленые глаза             613\n",
       "Черные глаза              555\n",
       "Красные глаза             508\n",
       "Белые глаза               400\n",
       "Желтые глаза              256\n",
       "Серые глаза                95\n",
       "Карие глаза                76\n",
       "Разноцветные глаза         49\n",
       "Фиолетовые глаза           31\n",
       "Оранжевые глаза            25\n",
       "Розовые глаза              21\n",
       "Один глаз                  21\n",
       "Золотые глаза              14\n",
       "Серебристые глаза          12\n",
       "Лиловые глаза              11\n",
       "Янтарные глаза             10\n",
       "Много глаз                  7\n",
       "Нет глаз                    7\n",
       "Желтые глазные яблоки       6\n",
       "Черные глазные яблоки       3\n",
       "Пурпурные глаза             2\n",
       "Фасеточные глаза            1\n",
       "Name: eye, dtype: int64"
      ]
     },
     "execution_count": 28,
     "metadata": {},
     "output_type": "execute_result"
    }
   ],
   "source": [
    "df2['eye'].value_counts()"
   ]
  },
  {
   "cell_type": "markdown",
   "id": "d12f6694",
   "metadata": {},
   "source": [
    "<H3>Вопрос 2-4.</H3>Укажите, верно ли следующее утверждение: у мужских персонажей чаще всего встречаются темно-карие глаза"
   ]
  },
  {
   "cell_type": "code",
   "execution_count": 31,
   "id": "1649aa2b",
   "metadata": {
    "collapsed": true
   },
   "outputs": [
    {
     "data": {
      "text/plain": [
       "Темно-карие глаза        1400\n",
       "Голубые глаза            1258\n",
       "Черные глаза              394\n",
       "Красные глаза             377\n",
       "Зеленые глаза             328\n",
       "Белые глаза               292\n",
       "Желтые глаза              174\n",
       "Серые глаза                75\n",
       "Карие глаза                58\n",
       "Разноцветные глаза         28\n",
       "Один глаз                  20\n",
       "Оранжевые глаза            18\n",
       "Розовые глаза              15\n",
       "Фиолетовые глаза           15\n",
       "Золотые глаза              10\n",
       "Янтарные глаза              8\n",
       "Много глаз                  6\n",
       "Серебристые глаза           4\n",
       "Желтые глазные яблоки       4\n",
       "Нет глаз                    3\n",
       "Лиловые глаза               3\n",
       "Черные глазные яблоки       1\n",
       "Фасеточные глаза            1\n",
       "Name: eye, dtype: int64"
      ]
     },
     "execution_count": 31,
     "metadata": {},
     "output_type": "execute_result"
    }
   ],
   "source": [
    "df2[df2['sex'] == 'Мужской персонаж']['eye'].value_counts()"
   ]
  },
  {
   "cell_type": "markdown",
   "id": "a054e499",
   "metadata": {},
   "source": [
    "<H3>Вопрос 2-5.</H3>Постройте частотную таблицу для персонажей женского пола по переменной eye. У скольких из них золотые глаза?"
   ]
  },
  {
   "cell_type": "code",
   "execution_count": 32,
   "id": "439979b4",
   "metadata": {
    "collapsed": true
   },
   "outputs": [
    {
     "data": {
      "text/plain": [
       "Голубые глаза            692\n",
       "Темно-карие глаза        519\n",
       "Зеленые глаза            268\n",
       "Черные глаза             137\n",
       "Белые глаза               82\n",
       "Красные глаза             77\n",
       "Желтые глаза              57\n",
       "Серые глаза               20\n",
       "Карие глаза               17\n",
       "Фиолетовые глаза          14\n",
       "Лиловые глаза              8\n",
       "Разноцветные глаза         7\n",
       "Серебристые глаза          6\n",
       "Розовые глаза              5\n",
       "Оранжевые глаза            5\n",
       "Золотые глаза              3\n",
       "Янтарные глаза             2\n",
       "Желтые глазные яблоки      2\n",
       "Черные глазные яблоки      2\n",
       "Пурпурные глаза            2\n",
       "Нет глаз                   1\n",
       "Много глаз                 1\n",
       "Один глаз                  1\n",
       "Name: eye, dtype: int64"
      ]
     },
     "execution_count": 32,
     "metadata": {},
     "output_type": "execute_result"
    }
   ],
   "source": [
    "df2[df2['sex'] == 'Женский персонаж']['eye'].value_counts()"
   ]
  },
  {
   "cell_type": "markdown",
   "id": "671afda0",
   "metadata": {},
   "source": [
    "<H3>Вопрос 2-6.</H3>Какое значение находится в колонке appearances для доброго персонажа с пурпурными глазами?"
   ]
  },
  {
   "cell_type": "code",
   "execution_count": 33,
   "id": "594a1edb",
   "metadata": {},
   "outputs": [
    {
     "data": {
      "text/plain": [
       "1729    21.0\n",
       "Name: appearances, dtype: float64"
      ]
     },
     "execution_count": 33,
     "metadata": {},
     "output_type": "execute_result"
    }
   ],
   "source": [
    "df2[(df2['align'] == 'Добрый персонаж') & (df2['eye'] == 'Пурпурные глаза')]['appearances']"
   ]
  },
  {
   "cell_type": "markdown",
   "id": "9c372517",
   "metadata": {},
   "source": [
    "<H3>Вопрос 2-7.</H3>Укажите, верно ли следующее утверждение: больше всего персонажей в первый раз появилось в 1993 году"
   ]
  },
  {
   "cell_type": "code",
   "execution_count": 35,
   "id": "9f6473b6",
   "metadata": {},
   "outputs": [
    {
     "data": {
      "text/plain": [
       "1993.0    554\n",
       "1994.0    485\n",
       "1992.0    455\n",
       "2006.0    381\n",
       "2008.0    360\n",
       "         ... \n",
       "1952.0     26\n",
       "1956.0     16\n",
       "1957.0      7\n",
       "1959.0      4\n",
       "1958.0      2\n",
       "Name: first_appearance, Length: 75, dtype: int64"
      ]
     },
     "execution_count": 35,
     "metadata": {},
     "output_type": "execute_result"
    }
   ],
   "source": [
    "df2['first_appearance'].value_counts()"
   ]
  },
  {
   "cell_type": "markdown",
   "id": "167ba8f7",
   "metadata": {},
   "source": [
    "<H3>Вопрос 2-8.</H3>Сколько процентов (от общего числа персонажей) составляют мужские персонажи, которые появлялись больше 100 раз? В ответ запишите число (процент от 0 до 100), округлите до целого."
   ]
  },
  {
   "cell_type": "code",
   "execution_count": 42,
   "id": "f408d489",
   "metadata": {},
   "outputs": [
    {
     "data": {
      "text/plain": [
       "1.6914997557401075"
      ]
     },
     "execution_count": 42,
     "metadata": {},
     "output_type": "execute_result"
    }
   ],
   "source": [
    "100* df2[(df2['sex'] == 'Мужской персонаж') & (df2['appearances'] > 100)].shape[0] / df2.shape[0]"
   ]
  },
  {
   "cell_type": "markdown",
   "id": "3fc8ff63",
   "metadata": {},
   "source": [
    "<H2>Тест 3.</H2>"
   ]
  },
  {
   "cell_type": "markdown",
   "id": "33c7aaaf",
   "metadata": {},
   "source": [
    "<H3>Вопрос 3-1.</H3>Какова мода по переменной eye?"
   ]
  },
  {
   "cell_type": "code",
   "execution_count": 43,
   "id": "3b8f8e51",
   "metadata": {},
   "outputs": [
    {
     "data": {
      "text/plain": [
       "0    Голубые глаза\n",
       "Name: eye, dtype: object"
      ]
     },
     "execution_count": 43,
     "metadata": {},
     "output_type": "execute_result"
    }
   ],
   "source": [
    "df2['eye'].mode()"
   ]
  },
  {
   "cell_type": "markdown",
   "id": "285cc34d",
   "metadata": {},
   "source": [
    "<H3>Вопрос 3-2.</H3>Укажите, верно ли следующее утверждение: мода по переменной hair для женских персонажей равна моде по переменной hair для мужских персонажей."
   ]
  },
  {
   "cell_type": "code",
   "execution_count": 44,
   "id": "22889cc8",
   "metadata": {},
   "outputs": [
    {
     "data": {
      "text/plain": [
       "0    True\n",
       "Name: hair, dtype: bool"
      ]
     },
     "execution_count": 44,
     "metadata": {},
     "output_type": "execute_result"
    }
   ],
   "source": [
    "df2[df2['sex'] == 'Мужской персонаж']['hair'].mode() == df2[df2['sex'] == 'Женский персонаж']['hair'].mode()"
   ]
  },
  {
   "cell_type": "markdown",
   "id": "d753365c",
   "metadata": {},
   "source": [
    "<H3>Вопрос 3-3.</H3>Выберите только злых персонажей и определите медиану по переменной appearances"
   ]
  },
  {
   "cell_type": "code",
   "execution_count": 45,
   "id": "f23eaa47",
   "metadata": {},
   "outputs": [
    {
     "data": {
      "text/plain": [
       "3.0"
      ]
     },
     "execution_count": 45,
     "metadata": {},
     "output_type": "execute_result"
    }
   ],
   "source": [
    "df2[df2['align'] == 'Злой персонаж']['appearances'].median()"
   ]
  },
  {
   "cell_type": "markdown",
   "id": "24e1b201",
   "metadata": {},
   "source": [
    "<H3>Вопрос 3-4.</H3>Найдите дисперсию по переменной appearances. Помните, что мы работаем с генеральной совокупностью."
   ]
  },
  {
   "cell_type": "code",
   "execution_count": 48,
   "id": "cb409638",
   "metadata": {},
   "outputs": [
    {
     "data": {
      "text/plain": [
       "9287.139461894549"
      ]
     },
     "execution_count": 48,
     "metadata": {},
     "output_type": "execute_result"
    }
   ],
   "source": [
    "df2['appearances'].var(ddof=0)"
   ]
  },
  {
   "cell_type": "code",
   "execution_count": 49,
   "id": "acea0e80",
   "metadata": {},
   "outputs": [
    {
     "data": {
      "text/plain": [
       "9287.74729875965"
      ]
     },
     "execution_count": 49,
     "metadata": {},
     "output_type": "execute_result"
    }
   ],
   "source": [
    "df2['appearances'].var()"
   ]
  },
  {
   "cell_type": "markdown",
   "id": "97bca280",
   "metadata": {},
   "source": [
    "<H3>Вопрос 3-5.</H3>Найдите моду по переменной first_appearance."
   ]
  },
  {
   "cell_type": "code",
   "execution_count": 50,
   "id": "99f5a629",
   "metadata": {},
   "outputs": [
    {
     "data": {
      "text/plain": [
       "0    1993.0\n",
       "Name: first_appearance, dtype: float64"
      ]
     },
     "execution_count": 50,
     "metadata": {},
     "output_type": "execute_result"
    }
   ],
   "source": [
    "df2['first_appearance'].mode()"
   ]
  },
  {
   "cell_type": "markdown",
   "id": "1a4b79ca",
   "metadata": {},
   "source": [
    "<H3>Вопрос 3-6.</H3>Укажите, верно ли следующее утверждение: если убрать первые пятьсот наблюдений в наших данных, то мода по переменной eye не изменится"
   ]
  },
  {
   "cell_type": "code",
   "execution_count": 55,
   "id": "a52db4ac",
   "metadata": {},
   "outputs": [
    {
     "data": {
      "text/plain": [
       "0    Голубые глаза\n",
       "Name: eye, dtype: object"
      ]
     },
     "execution_count": 55,
     "metadata": {},
     "output_type": "execute_result"
    }
   ],
   "source": [
    "df2['eye'].mode()"
   ]
  },
  {
   "cell_type": "code",
   "execution_count": 57,
   "id": "d325c2e4",
   "metadata": {},
   "outputs": [
    {
     "data": {
      "text/plain": [
       "0    Темно-карие глаза\n",
       "Name: eye, dtype: object"
      ]
     },
     "execution_count": 57,
     "metadata": {},
     "output_type": "execute_result"
    }
   ],
   "source": [
    "df2.iloc[499:]['eye'].mode()"
   ]
  },
  {
   "cell_type": "markdown",
   "id": "056dc413",
   "metadata": {},
   "source": [
    "<H3>Вопрос 3-7.</H3>Определите моду по переменной hair, затем выберите только тех персонажей, цвет волос которых соответствует найденной моде. По имеющемуся подмассиву данных по переменной appearances рассчитайте стандартное отклонение. Помните, что мы работаем с генеральной совокупностью."
   ]
  },
  {
   "cell_type": "code",
   "execution_count": 51,
   "id": "ec5a9516",
   "metadata": {},
   "outputs": [
    {
     "data": {
      "text/plain": [
       "0    Черные волосы\n",
       "Name: hair, dtype: object"
      ]
     },
     "execution_count": 51,
     "metadata": {},
     "output_type": "execute_result"
    }
   ],
   "source": [
    "df2['hair'].mode()"
   ]
  },
  {
   "cell_type": "code",
   "execution_count": 54,
   "id": "6791a2b5",
   "metadata": {
    "scrolled": true
   },
   "outputs": [
    {
     "data": {
      "text/plain": [
       "94.13253937689814"
      ]
     },
     "execution_count": 54,
     "metadata": {},
     "output_type": "execute_result"
    }
   ],
   "source": [
    "df2[df2['hair'] == df2['hair'].mode()[0]]['appearances'].std(ddof=0)"
   ]
  },
  {
   "cell_type": "markdown",
   "id": "b1208537",
   "metadata": {},
   "source": [
    "<H2>Тест 4.</H2>"
   ]
  },
  {
   "cell_type": "markdown",
   "id": "a3e125ea",
   "metadata": {},
   "source": [
    "<H3>Вопрос 4-1.</H3>Сколько пропущенных значений в переменной appearances?"
   ]
  },
  {
   "cell_type": "code",
   "execution_count": 59,
   "id": "729fcdad",
   "metadata": {},
   "outputs": [
    {
     "data": {
      "text/plain": [
       "1096"
      ]
     },
     "execution_count": 59,
     "metadata": {},
     "output_type": "execute_result"
    }
   ],
   "source": [
    "df2['appearances'].isna().sum()"
   ]
  },
  {
   "cell_type": "markdown",
   "id": "7f6458e3",
   "metadata": {},
   "source": [
    "<H3>Вопрос 4-2.</H3>Укажите, верно ли следующее утверждение: наибольший межквартильный размах по переменной appearances будет для злых персонажей. Вам понадобятся данные по типу персонажа (переменная align), удалите пропущенные значения по столбцу appearances и посчитайте требуемую меру разброса"
   ]
  },
  {
   "cell_type": "code",
   "execution_count": 74,
   "id": "9ffed929",
   "metadata": {
    "scrolled": true
   },
   "outputs": [],
   "source": [
    "desc = df2[df2['appearances'].notna()].groupby('align')['appearances'].describe()"
   ]
  },
  {
   "cell_type": "code",
   "execution_count": 75,
   "id": "a4d67ea0",
   "metadata": {},
   "outputs": [
    {
     "data": {
      "text/html": [
       "<div>\n",
       "<style scoped>\n",
       "    .dataframe tbody tr th:only-of-type {\n",
       "        vertical-align: middle;\n",
       "    }\n",
       "\n",
       "    .dataframe tbody tr th {\n",
       "        vertical-align: top;\n",
       "    }\n",
       "\n",
       "    .dataframe thead th {\n",
       "        text-align: right;\n",
       "    }\n",
       "</style>\n",
       "<table border=\"1\" class=\"dataframe\">\n",
       "  <thead>\n",
       "    <tr style=\"text-align: right;\">\n",
       "      <th></th>\n",
       "      <th>count</th>\n",
       "      <th>mean</th>\n",
       "      <th>std</th>\n",
       "      <th>min</th>\n",
       "      <th>25%</th>\n",
       "      <th>50%</th>\n",
       "      <th>75%</th>\n",
       "      <th>max</th>\n",
       "      <th>iqr</th>\n",
       "    </tr>\n",
       "    <tr>\n",
       "      <th>align</th>\n",
       "      <th></th>\n",
       "      <th></th>\n",
       "      <th></th>\n",
       "      <th></th>\n",
       "      <th></th>\n",
       "      <th></th>\n",
       "      <th></th>\n",
       "      <th></th>\n",
       "      <th></th>\n",
       "    </tr>\n",
       "  </thead>\n",
       "  <tbody>\n",
       "    <tr>\n",
       "      <th>Добрый персонаж</th>\n",
       "      <td>4310.0</td>\n",
       "      <td>34.942691</td>\n",
       "      <td>159.591704</td>\n",
       "      <td>1.0</td>\n",
       "      <td>2.0</td>\n",
       "      <td>5.0</td>\n",
       "      <td>15.0</td>\n",
       "      <td>4043.0</td>\n",
       "      <td>13.0</td>\n",
       "    </tr>\n",
       "    <tr>\n",
       "      <th>Злой персонаж</th>\n",
       "      <td>6352.0</td>\n",
       "      <td>8.329660</td>\n",
       "      <td>25.725767</td>\n",
       "      <td>1.0</td>\n",
       "      <td>1.0</td>\n",
       "      <td>3.0</td>\n",
       "      <td>6.0</td>\n",
       "      <td>721.0</td>\n",
       "      <td>5.0</td>\n",
       "    </tr>\n",
       "    <tr>\n",
       "      <th>Нейтральный персонаж</th>\n",
       "      <td>2093.0</td>\n",
       "      <td>19.632585</td>\n",
       "      <td>109.509755</td>\n",
       "      <td>1.0</td>\n",
       "      <td>1.0</td>\n",
       "      <td>3.0</td>\n",
       "      <td>9.0</td>\n",
       "      <td>3061.0</td>\n",
       "      <td>8.0</td>\n",
       "    </tr>\n",
       "  </tbody>\n",
       "</table>\n",
       "</div>"
      ],
      "text/plain": [
       "                       count       mean         std  min  25%  50%   75%  \\\n",
       "align                                                                      \n",
       "Добрый персонаж       4310.0  34.942691  159.591704  1.0  2.0  5.0  15.0   \n",
       "Злой персонаж         6352.0   8.329660   25.725767  1.0  1.0  3.0   6.0   \n",
       "Нейтральный персонаж  2093.0  19.632585  109.509755  1.0  1.0  3.0   9.0   \n",
       "\n",
       "                         max   iqr  \n",
       "align                               \n",
       "Добрый персонаж       4043.0  13.0  \n",
       "Злой персонаж          721.0   5.0  \n",
       "Нейтральный персонаж  3061.0   8.0  "
      ]
     },
     "execution_count": 75,
     "metadata": {},
     "output_type": "execute_result"
    }
   ],
   "source": [
    "desc['iqr'] = desc['75%'] - desc['25%']\n",
    "desc"
   ]
  },
  {
   "cell_type": "markdown",
   "id": "5a36652a",
   "metadata": {},
   "source": [
    "<H3>Вопрос 4-3.</H3>Сколько выбросов встречается по переменной appearances? Работайте с исходными данными, предварительно удалите пропущенные значения по столбцу appearances, используйте для нахождения выбросов межквартильный размах."
   ]
  },
  {
   "cell_type": "code",
   "execution_count": 117,
   "id": "74166fef",
   "metadata": {},
   "outputs": [
    {
     "data": {
      "text/plain": [
       "(15280, 7)"
      ]
     },
     "execution_count": 117,
     "metadata": {},
     "output_type": "execute_result"
    }
   ],
   "source": [
    "df2_filt.shape"
   ]
  },
  {
   "cell_type": "code",
   "execution_count": 109,
   "id": "41641762",
   "metadata": {},
   "outputs": [],
   "source": [
    "df2_filt = df2[df2['appearances'].notna()]\n",
    "q1 = df2_filt['appearances'].quantile(0.25)\n",
    "q3 = df2_filt['appearances'].quantile(0.75)\n",
    "IQR = q3 - q1"
   ]
  },
  {
   "cell_type": "code",
   "execution_count": 110,
   "id": "f5468358",
   "metadata": {},
   "outputs": [
    {
     "data": {
      "text/plain": [
       "1938"
      ]
     },
     "execution_count": 110,
     "metadata": {},
     "output_type": "execute_result"
    }
   ],
   "source": [
    "outlier_bottom_threshold = q1 - 1.5 * IQR\n",
    "outlier_top_threshold = q3 + 1.5 * IQR\n",
    "outliers = df2_filt[(df2_filt['appearances'] < outlier_bottom_threshold) |\n",
    "         (df2_filt['appearances'] > outlier_top_threshold)]\n",
    "outliers['appearances'].count()"
   ]
  },
  {
   "cell_type": "code",
   "execution_count": 119,
   "id": "8cf0259b",
   "metadata": {
    "collapsed": true
   },
   "outputs": [
    {
     "data": {
      "text/html": [
       "<div>\n",
       "<style scoped>\n",
       "    .dataframe tbody tr th:only-of-type {\n",
       "        vertical-align: middle;\n",
       "    }\n",
       "\n",
       "    .dataframe tbody tr th {\n",
       "        vertical-align: top;\n",
       "    }\n",
       "\n",
       "    .dataframe thead th {\n",
       "        text-align: right;\n",
       "    }\n",
       "</style>\n",
       "<table border=\"1\" class=\"dataframe\">\n",
       "  <thead>\n",
       "    <tr style=\"text-align: right;\">\n",
       "      <th></th>\n",
       "      <th>name</th>\n",
       "      <th>align</th>\n",
       "      <th>eye</th>\n",
       "      <th>hair</th>\n",
       "      <th>sex</th>\n",
       "      <th>appearances</th>\n",
       "      <th>first_appearance</th>\n",
       "    </tr>\n",
       "  </thead>\n",
       "  <tbody>\n",
       "    <tr>\n",
       "      <th>1938</th>\n",
       "      <td>Zar (Earth-616)</td>\n",
       "      <td>Добрый персонаж</td>\n",
       "      <td>Черные глаза</td>\n",
       "      <td>Каштановые волосы</td>\n",
       "      <td>Мужской персонаж</td>\n",
       "      <td>18.0</td>\n",
       "      <td>1939.0</td>\n",
       "    </tr>\n",
       "    <tr>\n",
       "      <th>1939</th>\n",
       "      <td>Dynamic Man (Earth-616)</td>\n",
       "      <td>Злой персонаж</td>\n",
       "      <td>Голубые глаза</td>\n",
       "      <td>Русые волосы</td>\n",
       "      <td>Мужской персонаж</td>\n",
       "      <td>18.0</td>\n",
       "      <td>1940.0</td>\n",
       "    </tr>\n",
       "    <tr>\n",
       "      <th>1940</th>\n",
       "      <td>John Steele (American Soldier) (Earth-616)</td>\n",
       "      <td>Добрый персонаж</td>\n",
       "      <td>Темно-карие глаза</td>\n",
       "      <td>Черные волосы</td>\n",
       "      <td>Мужской персонаж</td>\n",
       "      <td>18.0</td>\n",
       "      <td>1940.0</td>\n",
       "    </tr>\n",
       "    <tr>\n",
       "      <th>1941</th>\n",
       "      <td>Della Mason (Earth-616)</td>\n",
       "      <td>Злой персонаж</td>\n",
       "      <td>NaN</td>\n",
       "      <td>Черные волосы</td>\n",
       "      <td>Женский персонаж</td>\n",
       "      <td>18.0</td>\n",
       "      <td>1948.0</td>\n",
       "    </tr>\n",
       "    <tr>\n",
       "      <th>1942</th>\n",
       "      <td>Lance Temple (Texas Kid) (Earth-616)</td>\n",
       "      <td>Добрый персонаж</td>\n",
       "      <td>Голубые глаза</td>\n",
       "      <td>Оранжевые волосы</td>\n",
       "      <td>Мужской персонаж</td>\n",
       "      <td>18.0</td>\n",
       "      <td>1951.0</td>\n",
       "    </tr>\n",
       "    <tr>\n",
       "      <th>1943</th>\n",
       "      <td>Fenris Wolf (Earth-616)</td>\n",
       "      <td>Злой персонаж</td>\n",
       "      <td>Красные глаза</td>\n",
       "      <td>Черные волосы</td>\n",
       "      <td>Мужской персонаж</td>\n",
       "      <td>18.0</td>\n",
       "      <td>1965.0</td>\n",
       "    </tr>\n",
       "    <tr>\n",
       "      <th>1944</th>\n",
       "      <td>Norton McCoy (Earth-616)</td>\n",
       "      <td>Добрый персонаж</td>\n",
       "      <td>Голубые глаза</td>\n",
       "      <td>Каштановые волосы</td>\n",
       "      <td>Мужской персонаж</td>\n",
       "      <td>18.0</td>\n",
       "      <td>1965.0</td>\n",
       "    </tr>\n",
       "    <tr>\n",
       "      <th>1945</th>\n",
       "      <td>Bast (Goddess) (Earth-616)</td>\n",
       "      <td>Нейтральный персонаж</td>\n",
       "      <td>Зеленые глаза</td>\n",
       "      <td>Черные волосы</td>\n",
       "      <td>Женский персонаж</td>\n",
       "      <td>18.0</td>\n",
       "      <td>1966.0</td>\n",
       "    </tr>\n",
       "    <tr>\n",
       "      <th>1946</th>\n",
       "      <td>Theodore Roberts (Earth-616)</td>\n",
       "      <td>Нейтральный персонаж</td>\n",
       "      <td>Голубые глаза</td>\n",
       "      <td>Каштановые волосы</td>\n",
       "      <td>Мужской персонаж</td>\n",
       "      <td>18.0</td>\n",
       "      <td>1966.0</td>\n",
       "    </tr>\n",
       "    <tr>\n",
       "      <th>1947</th>\n",
       "      <td>Franz Cadavus (Earth-616)</td>\n",
       "      <td>Злой персонаж</td>\n",
       "      <td>NaN</td>\n",
       "      <td>Русые волосы</td>\n",
       "      <td>Мужской персонаж</td>\n",
       "      <td>18.0</td>\n",
       "      <td>1968.0</td>\n",
       "    </tr>\n",
       "    <tr>\n",
       "      <th>1948</th>\n",
       "      <td>Paul Destine (Earth-616)</td>\n",
       "      <td>Злой персонаж</td>\n",
       "      <td>Голубые глаза</td>\n",
       "      <td>Каштановые волосы</td>\n",
       "      <td>Мужской персонаж</td>\n",
       "      <td>18.0</td>\n",
       "      <td>1968.0</td>\n",
       "    </tr>\n",
       "    <tr>\n",
       "      <th>1949</th>\n",
       "      <td>Alex Nevsky (Earth-616)</td>\n",
       "      <td>Злой персонаж</td>\n",
       "      <td>Темно-карие глаза</td>\n",
       "      <td>Каштановые волосы</td>\n",
       "      <td>Мужской персонаж</td>\n",
       "      <td>18.0</td>\n",
       "      <td>1969.0</td>\n",
       "    </tr>\n",
       "    <tr>\n",
       "      <th>1950</th>\n",
       "      <td>Mindy McPherson (Earth-616)</td>\n",
       "      <td>Нейтральный персонаж</td>\n",
       "      <td>NaN</td>\n",
       "      <td>Черные волосы</td>\n",
       "      <td>Женский персонаж</td>\n",
       "      <td>18.0</td>\n",
       "      <td>1969.0</td>\n",
       "    </tr>\n",
       "    <tr>\n",
       "      <th>1951</th>\n",
       "      <td>Clark Savage, Jr. (Earth-616)</td>\n",
       "      <td>Добрый персонаж</td>\n",
       "      <td>NaN</td>\n",
       "      <td>Бронзовые волосы</td>\n",
       "      <td>Мужской персонаж</td>\n",
       "      <td>18.0</td>\n",
       "      <td>1972.0</td>\n",
       "    </tr>\n",
       "    <tr>\n",
       "      <th>1952</th>\n",
       "      <td>Dakimh (Earth-616)</td>\n",
       "      <td>Добрый персонаж</td>\n",
       "      <td>NaN</td>\n",
       "      <td>Белые волосы</td>\n",
       "      <td>Мужской персонаж</td>\n",
       "      <td>18.0</td>\n",
       "      <td>1973.0</td>\n",
       "    </tr>\n",
       "    <tr>\n",
       "      <th>1953</th>\n",
       "      <td>John D. Armbruster (Earth-616)</td>\n",
       "      <td>Добрый персонаж</td>\n",
       "      <td>NaN</td>\n",
       "      <td>NaN</td>\n",
       "      <td>Мужской персонаж</td>\n",
       "      <td>18.0</td>\n",
       "      <td>1973.0</td>\n",
       "    </tr>\n",
       "    <tr>\n",
       "      <th>1954</th>\n",
       "      <td>Dweller-in-Darkness (Earth-616)</td>\n",
       "      <td>Злой персонаж</td>\n",
       "      <td>Желтые глаза</td>\n",
       "      <td>Без волос</td>\n",
       "      <td>Мужской персонаж</td>\n",
       "      <td>18.0</td>\n",
       "      <td>1974.0</td>\n",
       "    </tr>\n",
       "    <tr>\n",
       "      <th>1955</th>\n",
       "      <td>Lloyd Bloch (Earth-616)</td>\n",
       "      <td>NaN</td>\n",
       "      <td>Голубые глаза</td>\n",
       "      <td>Русые волосы</td>\n",
       "      <td>Мужской персонаж</td>\n",
       "      <td>18.0</td>\n",
       "      <td>1974.0</td>\n",
       "    </tr>\n",
       "    <tr>\n",
       "      <th>1956</th>\n",
       "      <td>Yagzan (Earth-616)</td>\n",
       "      <td>Злой персонаж</td>\n",
       "      <td>Черные глаза</td>\n",
       "      <td>Без волос</td>\n",
       "      <td>Мужской персонаж</td>\n",
       "      <td>18.0</td>\n",
       "      <td>1974.0</td>\n",
       "    </tr>\n",
       "    <tr>\n",
       "      <th>1957</th>\n",
       "      <td>Alexandra Rasputina (Earth-616)</td>\n",
       "      <td>Нейтральный персонаж</td>\n",
       "      <td>Голубые глаза</td>\n",
       "      <td>NaN</td>\n",
       "      <td>Женский персонаж</td>\n",
       "      <td>18.0</td>\n",
       "      <td>1975.0</td>\n",
       "    </tr>\n",
       "  </tbody>\n",
       "</table>\n",
       "</div>"
      ],
      "text/plain": [
       "                                            name                 align  \\\n",
       "1938                             Zar (Earth-616)       Добрый персонаж   \n",
       "1939                     Dynamic Man (Earth-616)         Злой персонаж   \n",
       "1940  John Steele (American Soldier) (Earth-616)       Добрый персонаж   \n",
       "1941                     Della Mason (Earth-616)         Злой персонаж   \n",
       "1942        Lance Temple (Texas Kid) (Earth-616)       Добрый персонаж   \n",
       "1943                     Fenris Wolf (Earth-616)         Злой персонаж   \n",
       "1944                    Norton McCoy (Earth-616)       Добрый персонаж   \n",
       "1945                  Bast (Goddess) (Earth-616)  Нейтральный персонаж   \n",
       "1946                Theodore Roberts (Earth-616)  Нейтральный персонаж   \n",
       "1947                   Franz Cadavus (Earth-616)         Злой персонаж   \n",
       "1948                    Paul Destine (Earth-616)         Злой персонаж   \n",
       "1949                     Alex Nevsky (Earth-616)         Злой персонаж   \n",
       "1950                 Mindy McPherson (Earth-616)  Нейтральный персонаж   \n",
       "1951               Clark Savage, Jr. (Earth-616)       Добрый персонаж   \n",
       "1952                          Dakimh (Earth-616)       Добрый персонаж   \n",
       "1953              John D. Armbruster (Earth-616)       Добрый персонаж   \n",
       "1954             Dweller-in-Darkness (Earth-616)         Злой персонаж   \n",
       "1955                     Lloyd Bloch (Earth-616)                   NaN   \n",
       "1956                          Yagzan (Earth-616)         Злой персонаж   \n",
       "1957             Alexandra Rasputina (Earth-616)  Нейтральный персонаж   \n",
       "\n",
       "                    eye               hair               sex  appearances  \\\n",
       "1938       Черные глаза  Каштановые волосы  Мужской персонаж         18.0   \n",
       "1939      Голубые глаза       Русые волосы  Мужской персонаж         18.0   \n",
       "1940  Темно-карие глаза      Черные волосы  Мужской персонаж         18.0   \n",
       "1941                NaN      Черные волосы  Женский персонаж         18.0   \n",
       "1942      Голубые глаза   Оранжевые волосы  Мужской персонаж         18.0   \n",
       "1943      Красные глаза      Черные волосы  Мужской персонаж         18.0   \n",
       "1944      Голубые глаза  Каштановые волосы  Мужской персонаж         18.0   \n",
       "1945      Зеленые глаза      Черные волосы  Женский персонаж         18.0   \n",
       "1946      Голубые глаза  Каштановые волосы  Мужской персонаж         18.0   \n",
       "1947                NaN       Русые волосы  Мужской персонаж         18.0   \n",
       "1948      Голубые глаза  Каштановые волосы  Мужской персонаж         18.0   \n",
       "1949  Темно-карие глаза  Каштановые волосы  Мужской персонаж         18.0   \n",
       "1950                NaN      Черные волосы  Женский персонаж         18.0   \n",
       "1951                NaN   Бронзовые волосы  Мужской персонаж         18.0   \n",
       "1952                NaN       Белые волосы  Мужской персонаж         18.0   \n",
       "1953                NaN                NaN  Мужской персонаж         18.0   \n",
       "1954       Желтые глаза          Без волос  Мужской персонаж         18.0   \n",
       "1955      Голубые глаза       Русые волосы  Мужской персонаж         18.0   \n",
       "1956       Черные глаза          Без волос  Мужской персонаж         18.0   \n",
       "1957      Голубые глаза                NaN  Женский персонаж         18.0   \n",
       "\n",
       "      first_appearance  \n",
       "1938            1939.0  \n",
       "1939            1940.0  \n",
       "1940            1940.0  \n",
       "1941            1948.0  \n",
       "1942            1951.0  \n",
       "1943            1965.0  \n",
       "1944            1965.0  \n",
       "1945            1966.0  \n",
       "1946            1966.0  \n",
       "1947            1968.0  \n",
       "1948            1968.0  \n",
       "1949            1969.0  \n",
       "1950            1969.0  \n",
       "1951            1972.0  \n",
       "1952            1973.0  \n",
       "1953            1973.0  \n",
       "1954            1974.0  \n",
       "1955            1974.0  \n",
       "1956            1974.0  \n",
       "1957            1975.0  "
      ]
     },
     "execution_count": 119,
     "metadata": {},
     "output_type": "execute_result"
    }
   ],
   "source": [
    "df2_filt_without_IQR_outliers = df2_filt.drop(outliers.index, axis=0)\n",
    "df2_filt_without_IQR_outliers.head(20)"
   ]
  },
  {
   "cell_type": "markdown",
   "id": "c68eee3b",
   "metadata": {},
   "source": [
    "<H3>Вопрос 4-4.</H3>На основе данных, полученных в третьем номере, укажите, верно ли следующее утверждение: наибольшее количество выбросов по переменной appearances наблюдается у добрых персонажей."
   ]
  },
  {
   "cell_type": "code",
   "execution_count": 90,
   "id": "369f9474",
   "metadata": {},
   "outputs": [
    {
     "data": {
      "text/plain": [
       "align\n",
       "Добрый персонаж         944\n",
       "Злой персонаж           551\n",
       "Нейтральный персонаж    285\n",
       "Name: appearances, dtype: int64"
      ]
     },
     "execution_count": 90,
     "metadata": {},
     "output_type": "execute_result"
    }
   ],
   "source": [
    "outliers.groupby('align')['appearances'].count()"
   ]
  },
  {
   "cell_type": "markdown",
   "id": "0a92d70c",
   "metadata": {},
   "source": [
    "<H3>Вопрос 4-5.</H3>Создайте новую переменную, которая будет представлять собой прологарифмированную переменную appearances. Сколько выбросов получится по новой переменной? Работайте с исходными данными, предварительно удалите пропущенные значения по новому столбцу, используйте для нахождения выбросов три среднеквадратичных отклонения от среднего."
   ]
  },
  {
   "cell_type": "code",
   "execution_count": 95,
   "id": "bd6fb372",
   "metadata": {},
   "outputs": [
    {
     "name": "stderr",
     "output_type": "stream",
     "text": [
      "C:\\Users\\KDK\\AppData\\Local\\Temp\\ipykernel_9552\\1569312606.py:1: SettingWithCopyWarning: \n",
      "A value is trying to be set on a copy of a slice from a DataFrame.\n",
      "Try using .loc[row_indexer,col_indexer] = value instead\n",
      "\n",
      "See the caveats in the documentation: https://pandas.pydata.org/pandas-docs/stable/user_guide/indexing.html#returning-a-view-versus-a-copy\n",
      "  df2_filt['log_appearances'] = df2_filt['appearances'].apply(lambda x: np.log(x))\n"
     ]
    },
    {
     "data": {
      "text/plain": [
       "195"
      ]
     },
     "execution_count": 95,
     "metadata": {},
     "output_type": "execute_result"
    }
   ],
   "source": [
    "df2_filt['log_appearances'] = df2_filt['appearances'].apply(lambda x: np.log(x))\n",
    "mean = df2_filt['log_appearances'].mean()\n",
    "std = df2_filt['log_appearances'].std()\n",
    "log_outlier_bottom_threshold = mean - 3 * std\n",
    "log_outlier_top_threshold = mean + 3 * std\n",
    "log_outliers = df2_filt[(df2_filt['log_appearances'] < log_outlier_bottom_threshold) |\n",
    "         (df2_filt['log_appearances'] > log_outlier_top_threshold)]\n",
    "log_outliers['log_appearances'].count()"
   ]
  },
  {
   "cell_type": "markdown",
   "id": "cd1a0462",
   "metadata": {},
   "source": [
    "<H3>Вопрос 4-6.</H3>Сколько выбросов получится по переменной appearances? Работайте с исходными данными, предварительно удалите пропущенные значения по столбцу appearances, используйте для нахождения выбросов три среднеквадратичных отклонения от среднего. "
   ]
  },
  {
   "cell_type": "code",
   "execution_count": 96,
   "id": "4d95fba0",
   "metadata": {},
   "outputs": [
    {
     "data": {
      "text/plain": [
       "128"
      ]
     },
     "execution_count": 96,
     "metadata": {},
     "output_type": "execute_result"
    }
   ],
   "source": [
    "mean = df2_filt['appearances'].mean()\n",
    "std = df2_filt['appearances'].std()\n",
    "maverick_bottom_threshold = mean - 3 * std\n",
    "maverick_top_threshold = mean + 3 * std\n",
    "mavericks = df2_filt[(df2_filt['appearances'] < maverick_bottom_threshold) |\n",
    "         (df2_filt['appearances'] > maverick_top_threshold)]\n",
    "mavericks['appearances'].count()"
   ]
  },
  {
   "cell_type": "markdown",
   "id": "25b4b083",
   "metadata": {},
   "source": [
    "<H3>Вопрос 4-7.</H3>Сколько выбросов получится по переменной appearancs, если выбраны только женские персонажи? Работайте с исходными данными, выберите женских персонажей, удалите пропущенные значения по столбцу appearancs, используйте для нахождения выбросов z-оценку и три среднеквадратичных отклонения"
   ]
  },
  {
   "cell_type": "code",
   "execution_count": 106,
   "id": "6cd60f94",
   "metadata": {},
   "outputs": [
    {
     "name": "stderr",
     "output_type": "stream",
     "text": [
      "C:\\Users\\KDK\\AppData\\Local\\Temp\\ipykernel_9552\\2101207485.py:2: SettingWithCopyWarning: \n",
      "A value is trying to be set on a copy of a slice from a DataFrame.\n",
      "Try using .loc[row_indexer,col_indexer] = value instead\n",
      "\n",
      "See the caveats in the documentation: https://pandas.pydata.org/pandas-docs/stable/user_guide/indexing.html#returning-a-view-versus-a-copy\n",
      "  df2_filt2['appearances_zscore'] = scipy.stats.zscore(df2_filt2['appearances'])\n"
     ]
    },
    {
     "data": {
      "text/plain": [
       "48"
      ]
     },
     "execution_count": 106,
     "metadata": {},
     "output_type": "execute_result"
    }
   ],
   "source": [
    "df2_filt2 = df2[(df2['sex'] == 'Женский персонаж') & (df2['appearances'].notna())]\n",
    "df2_filt2['appearances_zscore'] = scipy.stats.zscore(df2_filt2['appearances'])\n",
    "outliers = df2_filt2[(df2_filt2['appearances_zscore'] > 3) | (df2_filt2['appearances_zscore'] < -3)]\n",
    "outliers['appearances_zscore'].count()"
   ]
  },
  {
   "cell_type": "code",
   "execution_count": 107,
   "id": "379cd252",
   "metadata": {},
   "outputs": [
    {
     "data": {
      "text/plain": [
       "48"
      ]
     },
     "execution_count": 107,
     "metadata": {},
     "output_type": "execute_result"
    }
   ],
   "source": [
    "mean = df2_filt2['appearances'].mean()\n",
    "std = df2_filt2['appearances'].std()\n",
    "outliers = df2_filt2[(df2_filt2['appearances'] < (mean - 3 * std)) | (df2_filt2['appearances'] > (mean + 3 * std))]\n",
    "outliers['appearances'].count()"
   ]
  },
  {
   "cell_type": "markdown",
   "id": "ae1d4798",
   "metadata": {},
   "source": [
    "<H3>Вопрос 4-8.</H3>Сравните среднее значение по переменной appearancs в двух датафреймах — без выбросов, определенных по межквартильному размаху, и без выбросов, определенных по трем среднеквадратичным отклонениям от среднего. Будем считать, что границы датафреймов без выбросов содержат значения верхних и нижних границ, определенных по межквартильному размаху или среднеквадратичному отклонению от среднего. В ответ запишите число (наибольшее среднее из двух), округлите до целого."
   ]
  },
  {
   "cell_type": "code",
   "execution_count": 120,
   "id": "f2a13321",
   "metadata": {},
   "outputs": [
    {
     "data": {
      "text/plain": [
       "3.9579523309848597"
      ]
     },
     "execution_count": 120,
     "metadata": {},
     "output_type": "execute_result"
    }
   ],
   "source": [
    "df2_filt_without_IQR_outliers['appearances'].mean()"
   ]
  },
  {
   "cell_type": "code",
   "execution_count": 123,
   "id": "8df130f1",
   "metadata": {},
   "outputs": [
    {
     "data": {
      "text/plain": [
       "10.509701689545935"
      ]
     },
     "execution_count": 123,
     "metadata": {},
     "output_type": "execute_result"
    }
   ],
   "source": [
    "df2_filt_without_3std_outliers = df2_filt.drop(mavericks.index, axis=0)\n",
    "df2_filt_without_3std_outliers['appearances'].mean()"
   ]
  },
  {
   "cell_type": "markdown",
   "id": "b855ba2b",
   "metadata": {},
   "source": [
    "<H3>Вопрос 4-9.</H3>Укажите, верно ли следующее утверждение: в датафрейме для добрых женских персонажей мода по переменной hair не изменится, если удалить выбросы по переменной appearances. Работайте с исходными данными, предварительно удалите пропущенные значения по столбцу appearances, используйте для нахождения выбросов межквартильный размах."
   ]
  },
  {
   "cell_type": "code",
   "execution_count": 125,
   "id": "c27033b5",
   "metadata": {},
   "outputs": [
    {
     "data": {
      "text/plain": [
       "0    Черные волосы\n",
       "Name: hair, dtype: object"
      ]
     },
     "execution_count": 125,
     "metadata": {},
     "output_type": "execute_result"
    }
   ],
   "source": [
    "selected = df2[(df2['sex'] == 'Женский персонаж') & (df2['appearances'].notna()) & (df2['align'] == 'Добрый персонаж')]\n",
    "selected['hair'].mode()"
   ]
  },
  {
   "cell_type": "code",
   "execution_count": 127,
   "id": "7bea23a4",
   "metadata": {},
   "outputs": [
    {
     "data": {
      "text/plain": [
       "0    Черные волосы\n",
       "Name: hair, dtype: object"
      ]
     },
     "execution_count": 127,
     "metadata": {},
     "output_type": "execute_result"
    }
   ],
   "source": [
    "without_outliers = selected.drop(outliers.index, axis=0, errors='ignore')\n",
    "without_outliers['hair'].mode()"
   ]
  },
  {
   "cell_type": "markdown",
   "id": "2c239655",
   "metadata": {},
   "source": [
    "<H3>Вопрос 4-10.</H3>Выберите только злых персонажей. Сравните медиану по переменной appearances в двух датафреймах — с выбросами и без выбросов, определенных по межквартильному размаху. В ответ запишите число (наибольшее среднее из двух), округлите до целого."
   ]
  },
  {
   "cell_type": "code",
   "execution_count": 128,
   "id": "34cdaa60",
   "metadata": {},
   "outputs": [
    {
     "data": {
      "text/plain": [
       "3.0"
      ]
     },
     "execution_count": 128,
     "metadata": {},
     "output_type": "execute_result"
    }
   ],
   "source": [
    "df2_filt[df2_filt['align'] == 'Злой персонаж']['appearances'].median()"
   ]
  },
  {
   "cell_type": "code",
   "execution_count": 129,
   "id": "cd96bc30",
   "metadata": {},
   "outputs": [
    {
     "data": {
      "text/plain": [
       "2.0"
      ]
     },
     "execution_count": 129,
     "metadata": {},
     "output_type": "execute_result"
    }
   ],
   "source": [
    "df2_filt_without_IQR_outliers['appearances'].median()"
   ]
  },
  {
   "cell_type": "code",
   "execution_count": null,
   "id": "fcae3a68",
   "metadata": {},
   "outputs": [],
   "source": []
  },
  {
   "cell_type": "markdown",
   "id": "719dbfa1",
   "metadata": {},
   "source": [
    "<H3>Вопрос.</H3>"
   ]
  },
  {
   "cell_type": "code",
   "execution_count": 136,
   "id": "660cf63f",
   "metadata": {},
   "outputs": [
    {
     "data": {
      "text/html": [
       "<div>\n",
       "<style scoped>\n",
       "    .dataframe tbody tr th:only-of-type {\n",
       "        vertical-align: middle;\n",
       "    }\n",
       "\n",
       "    .dataframe tbody tr th {\n",
       "        vertical-align: top;\n",
       "    }\n",
       "\n",
       "    .dataframe thead th {\n",
       "        text-align: right;\n",
       "    }\n",
       "</style>\n",
       "<table border=\"1\" class=\"dataframe\">\n",
       "  <thead>\n",
       "    <tr style=\"text-align: right;\">\n",
       "      <th></th>\n",
       "      <th>X</th>\n",
       "      <th>Y</th>\n",
       "    </tr>\n",
       "  </thead>\n",
       "  <tbody>\n",
       "    <tr>\n",
       "      <th>X</th>\n",
       "      <td>1.000000</td>\n",
       "      <td>-0.506545</td>\n",
       "    </tr>\n",
       "    <tr>\n",
       "      <th>Y</th>\n",
       "      <td>-0.506545</td>\n",
       "      <td>1.000000</td>\n",
       "    </tr>\n",
       "  </tbody>\n",
       "</table>\n",
       "</div>"
      ],
      "text/plain": [
       "          X         Y\n",
       "X  1.000000 -0.506545\n",
       "Y -0.506545  1.000000"
      ]
     },
     "execution_count": 136,
     "metadata": {},
     "output_type": "execute_result"
    }
   ],
   "source": [
    "df3 = pd.DataFrame({'X': [13, 21, 30, 65, 50], 'Y': [200, 90, 10, 83, 12]})\n",
    "df3.corr()"
   ]
  },
  {
   "cell_type": "code",
   "execution_count": null,
   "id": "a5b0b8df",
   "metadata": {},
   "outputs": [],
   "source": []
  }
 ],
 "metadata": {
  "kernelspec": {
   "display_name": "Python 3 (ipykernel)",
   "language": "python",
   "name": "python3"
  },
  "language_info": {
   "codemirror_mode": {
    "name": "ipython",
    "version": 3
   },
   "file_extension": ".py",
   "mimetype": "text/x-python",
   "name": "python",
   "nbconvert_exporter": "python",
   "pygments_lexer": "ipython3",
   "version": "3.8.10"
  }
 },
 "nbformat": 4,
 "nbformat_minor": 5
}
