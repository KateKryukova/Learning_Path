{
 "cells": [
  {
   "cell_type": "code",
   "execution_count": 2,
   "id": "cb3105e6",
   "metadata": {},
   "outputs": [],
   "source": [
    "import numpy as np"
   ]
  },
  {
   "cell_type": "markdown",
   "id": "c6e2fd7d",
   "metadata": {},
   "source": [
    "# Chapter 1\n",
    "\n",
    "## Binary search"
   ]
  },
  {
   "cell_type": "markdown",
   "id": "2f3a1972",
   "metadata": {},
   "source": [
    "### Algorithm realization"
   ]
  },
  {
   "cell_type": "code",
   "execution_count": 1,
   "id": "1eee589a",
   "metadata": {},
   "outputs": [
    {
     "name": "stdout",
     "output_type": "stream",
     "text": [
      "1\n",
      "None\n"
     ]
    }
   ],
   "source": [
    "def binary_search(lst, item):\n",
    "    low = 0\n",
    "    high = len(lst) - 1\n",
    "    \n",
    "    while low <= high:\n",
    "        mid = (low + high)\n",
    "        guess = lst[mid]\n",
    "        if guess == item:\n",
    "            return mid\n",
    "        elif guess > item:\n",
    "            high = mid - 1\n",
    "        else:\n",
    "            low = mid + 1\n",
    "    return None\n",
    "\n",
    "my_list = [1, 3, 5, 7, 9]\n",
    "print(binary_search(my_list, 3))\n",
    "print(binary_search(my_list, -1))    "
   ]
  },
  {
   "cell_type": "markdown",
   "id": "e9ec635b",
   "metadata": {},
   "source": [
    "### Exercises\n",
    "#### 1.1 Suppose you have a sorted list of 128 names, and you’re searching  through it using binary search. What’s the maximum number of steps it would take?"
   ]
  },
  {
   "cell_type": "code",
   "execution_count": 6,
   "id": "efc0c702",
   "metadata": {},
   "outputs": [
    {
     "data": {
      "text/plain": [
       "7.0"
      ]
     },
     "execution_count": 6,
     "metadata": {},
     "output_type": "execute_result"
    }
   ],
   "source": [
    "n = np.log2(128)\n",
    "n"
   ]
  },
  {
   "cell_type": "markdown",
   "id": "664b83df",
   "metadata": {},
   "source": [
    "#### 1.2 Suppose you double the size of the list. What’s the maximum number of steps now?"
   ]
  },
  {
   "cell_type": "code",
   "execution_count": 7,
   "id": "973c031b",
   "metadata": {},
   "outputs": [
    {
     "data": {
      "text/plain": [
       "8.0"
      ]
     },
     "execution_count": 7,
     "metadata": {},
     "output_type": "execute_result"
    }
   ],
   "source": [
    "np.log2(256)"
   ]
  },
  {
   "cell_type": "markdown",
   "id": "afac999f",
   "metadata": {},
   "source": [
    "<b><font color='red'>\n",
    "Simple search - O(n) - linear time\n",
    "    <br>\n",
    "    <br>\n",
    "Binary search - O(log(n)) - logarithmic time\n",
    "</b>"
   ]
  },
  {
   "cell_type": "markdown",
   "id": "2ce2aa61",
   "metadata": {},
   "source": [
    "compare time for simple and binary search with 1 billion (10**9) elements"
   ]
  },
  {
   "cell_type": "code",
   "execution_count": 13,
   "id": "1c1b75ab",
   "metadata": {},
   "outputs": [
    {
     "data": {
      "text/plain": [
       "11.574074074074074"
      ]
     },
     "execution_count": 13,
     "metadata": {},
     "output_type": "execute_result"
    }
   ],
   "source": [
    "#simple search\n",
    "10**9 / (1000 * 60 * 60 * 24) #days "
   ]
  },
  {
   "cell_type": "code",
   "execution_count": 14,
   "id": "63ca135b",
   "metadata": {},
   "outputs": [
    {
     "data": {
      "text/plain": [
       "29.897352853986263"
      ]
     },
     "execution_count": 14,
     "metadata": {},
     "output_type": "execute_result"
    }
   ],
   "source": [
    "#binary search\n",
    "np.log2(10**9) #milliseconds"
   ]
  },
  {
   "cell_type": "markdown",
   "id": "df8ef81c",
   "metadata": {},
   "source": [
    "#### Give the run time for each of these scenarios in terms of Big O.\n",
    "#### 1.3 You have a name, and you want to find the person’s phone number in the phone book. "
   ]
  },
  {
   "cell_type": "code",
   "execution_count": 15,
   "id": "bf5bc0eb",
   "metadata": {},
   "outputs": [],
   "source": [
    "#O(log(n))"
   ]
  },
  {
   "cell_type": "markdown",
   "id": "bc913894",
   "metadata": {},
   "source": [
    "#### 1.4 You have a phone number, and you want to find the person’s name in the phone book. (Hint: You’ll have to search through the whole book!)"
   ]
  },
  {
   "cell_type": "code",
   "execution_count": 16,
   "id": "baf68e82",
   "metadata": {},
   "outputs": [],
   "source": [
    "#O(n)"
   ]
  },
  {
   "cell_type": "markdown",
   "id": "aba26220",
   "metadata": {},
   "source": [
    "#### 1.5 You want to read the numbers of every person in the phone book."
   ]
  },
  {
   "cell_type": "code",
   "execution_count": 17,
   "id": "021e2ccf",
   "metadata": {},
   "outputs": [],
   "source": [
    "#O(n)"
   ]
  },
  {
   "cell_type": "markdown",
   "id": "39fb6397",
   "metadata": {},
   "source": [
    "#### 1.6 You want to read the numbers of just the As. This is a tricky one! It involves concepts that are covered more in chapter 4."
   ]
  },
  {
   "cell_type": "code",
   "execution_count": 18,
   "id": "9df31585",
   "metadata": {},
   "outputs": [],
   "source": [
    "#O(n)"
   ]
  },
  {
   "cell_type": "markdown",
   "id": "fda17811",
   "metadata": {},
   "source": [
    "# Chapter 2\n",
    "\n",
    "## Selection Sort"
   ]
  },
  {
   "cell_type": "markdown",
   "id": "2b2cfdb3",
   "metadata": {},
   "source": [
    "In <b>Array</b> all elements are stored riht next to each other. All elements are of the same type (all ints, chars, etc)\n",
    "\n",
    "In <b>Linked List</b> elements are stored randomly and one element stores the address of the next one\n",
    "\n",
    "<table>\n",
    "    <tr></tr>\n",
    "        <td>Operation</td>\n",
    "        <td>Array</td>\n",
    "        <td>Linked List</td>\n",
    "    <tr></tr>\n",
    "        <td>Read</td>\n",
    "        <td>O(1)</td>\n",
    "        <td>O(n)</td>\n",
    "    <tr></tr>\n",
    "        <td>Insert</td>\n",
    "        <td>O(n)</td>\n",
    "        <td>O(1)</td>\n",
    "    <tr></tr>\n",
    "        <td>Delete</td>\n",
    "        <td>O(n)</td>\n",
    "        <td>O(1)</td>\n",
    "</table>"
   ]
  },
  {
   "cell_type": "markdown",
   "id": "aece366f",
   "metadata": {},
   "source": [
    "#### 2.2Suppose you’re building an app for restaurants to take customer orders. Your app needs to store a list of orders. Servers keep adding orders to this list, and chefs take orders of the list and make them. It’s an order queue: servers add orders to the back of the queue, and the chef takes the irst order of the queue and cooks it. Would you use an array or a linked list to implement this queue? "
   ]
  },
  {
   "cell_type": "code",
   "execution_count": 19,
   "id": "70578330",
   "metadata": {},
   "outputs": [],
   "source": [
    "#Linked List is better suited as Linked lists are good for inserts/deletes, and arrays are good for random access"
   ]
  },
  {
   "cell_type": "code",
   "execution_count": null,
   "id": "9935072a",
   "metadata": {},
   "outputs": [],
   "source": []
  },
  {
   "cell_type": "markdown",
   "id": "6b1ea35f",
   "metadata": {},
   "source": [
    "<b><font color='red'>\n",
    "Selection Sort - O($n^2$)\n",
    "</b>"
   ]
  },
  {
   "cell_type": "code",
   "execution_count": 20,
   "id": "5b02f005",
   "metadata": {},
   "outputs": [
    {
     "name": "stdout",
     "output_type": "stream",
     "text": [
      "[2, 3, 5, 6, 10]\n"
     ]
    }
   ],
   "source": [
    "def findSmallest(arr):\n",
    "    smallest = arr[0]\n",
    "    smallest_index = 0\n",
    "    for i in range(1, len(arr)):\n",
    "        if arr[i] < smallest:\n",
    "            smallest = arr[i]\n",
    "            smallest_index = i\n",
    "    return smallest_index\n",
    "\n",
    "def selectionSort(arr):\n",
    "    newArr = []\n",
    "    for i in range(len(arr)):\n",
    "        smallest = findSmallest(arr)\n",
    "        newArr.append(arr.pop(smallest))\n",
    "    return newArr\n",
    "\n",
    "print(selectionSort([5, 3, 6, 2, 10]))"
   ]
  },
  {
   "cell_type": "markdown",
   "id": "53890585",
   "metadata": {},
   "source": [
    "# Chapter 4\n",
    "\n",
    "## Quicksort"
   ]
  },
  {
   "cell_type": "markdown",
   "id": "32736955",
   "metadata": {},
   "source": [
    "4.1  Write the code for recursive sum function."
   ]
  },
  {
   "cell_type": "code",
   "execution_count": 22,
   "id": "6bb59d52",
   "metadata": {},
   "outputs": [
    {
     "data": {
      "text/plain": [
       "6"
      ]
     },
     "execution_count": 22,
     "metadata": {},
     "output_type": "execute_result"
    }
   ],
   "source": [
    "def my_sum(arr):\n",
    "    if arr == []:\n",
    "        return 0\n",
    "    return arr[0] + my_sum(arr[1:])\n",
    "    \n",
    "my_sum([1, 2, 3])"
   ]
  },
  {
   "cell_type": "markdown",
   "id": "862734d2",
   "metadata": {},
   "source": [
    "4.2  Write a recursive function to count the number of items in a list."
   ]
  },
  {
   "cell_type": "code",
   "execution_count": 24,
   "id": "d59d110c",
   "metadata": {},
   "outputs": [
    {
     "data": {
      "text/plain": [
       "4"
      ]
     },
     "execution_count": 24,
     "metadata": {},
     "output_type": "execute_result"
    }
   ],
   "source": [
    "def lst_len(lst):\n",
    "    if lst == []:\n",
    "        return 0\n",
    "    return 1 + lst_len(lst[1:])\n",
    "\n",
    "lst_len([1, 2, 4, 5])\n",
    "    "
   ]
  },
  {
   "cell_type": "markdown",
   "id": "68a82ec7",
   "metadata": {},
   "source": [
    "4.3  Find the maximum number in a list."
   ]
  },
  {
   "cell_type": "markdown",
   "id": "934d21d2",
   "metadata": {},
   "source": [
    "4.4  Remember binary search from chapter 1? It’s a divide-and-conquer \n",
    "algorithm, too. Can you come up with the base case and recursive \n",
    "case for binary search?"
   ]
  },
  {
   "cell_type": "code",
   "execution_count": null,
   "id": "738b3d15",
   "metadata": {},
   "outputs": [],
   "source": [
    "#base case - 1 item\n",
    "#recursive case - call binary search for half of items"
   ]
  },
  {
   "cell_type": "code",
   "execution_count": null,
   "id": "c069ced7",
   "metadata": {},
   "outputs": [],
   "source": []
  },
  {
   "cell_type": "code",
   "execution_count": 27,
   "id": "1cdbd0d3",
   "metadata": {},
   "outputs": [
    {
     "name": "stdout",
     "output_type": "stream",
     "text": [
      "[2, 3, 5, 10]\n"
     ]
    }
   ],
   "source": [
    "#quicksort realization\n",
    "def quicksort(arr):\n",
    "    if len(arr) < 2:\n",
    "        return arr # Base case: arrays with 0 or 1 element are already “sorted.”\n",
    "    else:\n",
    "        pivot = arr[0] # Recursive case\n",
    "        less = [i for i in arr[1:] if i <= pivot]  # Sub-array of all the elements less than the pivot\n",
    "        greater = [i for i in arr[1:] if i > pivot]  # Sub-array of all the elements greater than the pivot\n",
    "        return quicksort(less) + [pivot] + quicksort(greater)\n",
    "\n",
    "print(quicksort([10, 5, 2, 3]))"
   ]
  },
  {
   "cell_type": "code",
   "execution_count": null,
   "id": "1f4de730",
   "metadata": {},
   "outputs": [],
   "source": []
  },
  {
   "cell_type": "markdown",
   "id": "1c2c0529",
   "metadata": {},
   "source": [
    "**How long would each of these operations take in Big O notation?**"
   ]
  },
  {
   "cell_type": "markdown",
   "id": "1e01254b",
   "metadata": {},
   "source": [
    "4.5 Printing the value of each element in an array. "
   ]
  },
  {
   "cell_type": "code",
   "execution_count": null,
   "id": "d6fbf790",
   "metadata": {},
   "outputs": [],
   "source": [
    "#O(n)"
   ]
  },
  {
   "cell_type": "markdown",
   "id": "fdd8fce2",
   "metadata": {},
   "source": [
    "4.6  Doubling the value of each element in an array."
   ]
  },
  {
   "cell_type": "code",
   "execution_count": null,
   "id": "eb7fffa0",
   "metadata": {},
   "outputs": [],
   "source": [
    "#O(n)"
   ]
  },
  {
   "cell_type": "markdown",
   "id": "d7877eac",
   "metadata": {},
   "source": [
    "4.7 Doubling the value of just the first element in an array. "
   ]
  },
  {
   "cell_type": "code",
   "execution_count": null,
   "id": "2c62d27b",
   "metadata": {},
   "outputs": [],
   "source": [
    "#O(1)"
   ]
  },
  {
   "cell_type": "markdown",
   "id": "018fbf1b",
   "metadata": {},
   "source": [
    "4.8 Creating a multiplication table with all the elements in the array. So \n",
    "if your array is [2, 3, 7, 8, 10], you first multiply every element by 2, \n",
    "then multiply every element by 3, then by 7, and so on."
   ]
  },
  {
   "cell_type": "markdown",
   "id": "278edff4",
   "metadata": {},
   "source": [
    "O($n^2$)"
   ]
  },
  {
   "cell_type": "code",
   "execution_count": null,
   "id": "c518fac1",
   "metadata": {},
   "outputs": [],
   "source": []
  },
  {
   "cell_type": "markdown",
   "id": "6e32727c",
   "metadata": {},
   "source": [
    "# Chapter 5\n",
    "\n",
    "## Hash Tables"
   ]
  },
  {
   "cell_type": "markdown",
   "id": "93bac44b",
   "metadata": {},
   "source": [
    "\n",
    "<table >\n",
    "    <tr style=\"border: 1px;\"></tr>\n",
    "        <td style=\"border: 1px;\">Operation</td>\n",
    "        <td>Hash Tables (average)</td>\n",
    "        <td>Hash Tables (worst)</td>\n",
    "        <td>Array</td>\n",
    "        <td>Linked List</td>\n",
    "    <tr></tr>\n",
    "        <td>Search</td>\n",
    "        <td>O(1)</td>\n",
    "        <td>O(n)</td>\n",
    "        <td>O(1)</td>\n",
    "        <td>O(n)</td>\n",
    "    <tr></tr>\n",
    "        <td>Insert</td>\n",
    "        <td>O(1)</td>\n",
    "        <td>O(n)</td>    \n",
    "        <td>O(n)</td>\n",
    "        <td>O(1)</td>\n",
    "    <tr></tr>\n",
    "        <td>Delete</td>\n",
    "        <td>O(1)</td>\n",
    "        <td>O(n)</td>    \n",
    "        <td>O(n)</td>\n",
    "        <td>O(1)</td>\n",
    "</table>"
   ]
  },
  {
   "cell_type": "markdown",
   "id": "095f80e1",
   "metadata": {},
   "source": [
    "<br>•  You can make a hash table by combining a hash function \n",
    "with an array.\n",
    "<br>•  Collisions are bad. You need a hash function that \n",
    "minimizes collisions.\n",
    "<br>•  Hash tables have really fast search, insert, and delete.\n",
    "<br>•  Hash tables are good for modeling relationships from one \n",
    "item to another item.\n",
    "<br>•  Once your load factor is greater than .07, it’s time to resize \n",
    "your hash table (means that > 70% of slots are occupied with data)\n",
    "<br>•  Hash tables are used for caching data (for example, with \n",
    "a web server).\n",
    "<br>•  Hash tables are great for catching duplicates.\n",
    "<br>•  In python hash tables are dictionaries\n",
    "<br>•  good hash function should distribute input values evenly across all array"
   ]
  },
  {
   "cell_type": "markdown",
   "id": "93cbdcae",
   "metadata": {},
   "source": [
    "# Chapter 6\n",
    "\n",
    "## Breadth-first search"
   ]
  },
  {
   "cell_type": "markdown",
   "id": "6673f3db",
   "metadata": {},
   "source": [
    "Queue - FIFO (first in - first out) - очередь\n",
    "\n",
    "Stack - LIFO (last in - first out) - стек"
   ]
  },
  {
   "cell_type": "code",
   "execution_count": 31,
   "id": "4acac691",
   "metadata": {},
   "outputs": [
    {
     "name": "stdout",
     "output_type": "stream",
     "text": [
      "Mango seller in your network is peggy\n"
     ]
    }
   ],
   "source": [
    "#breadth-first search realization\n",
    "graph = {}\n",
    "graph['you'] = ['alice', 'bob', 'claire']\n",
    "graph['bob'] = ['anuj', 'peggy']\n",
    "graph['alice'] = ['peggy']\n",
    "graph['claire'] = ['thom', 'jonny']\n",
    "graph['anuj'] = []\n",
    "graph['peggy'] = []\n",
    "graph['thom'] = []\n",
    "graph['jonny'] = []\n",
    "\n",
    "def is_mango_seller(name):\n",
    "    if len(name) == 5:\n",
    "        return True\n",
    "    return False\n",
    "\n",
    "from collections import deque\n",
    "def search(name):\n",
    "    search_queue = deque()\n",
    "    search_queue += graph[name]\n",
    "    searched = []\n",
    "    while search_queue:\n",
    "        person = search_queue.popleft()\n",
    "        if person not in searched:\n",
    "            if is_mango_seller(person):\n",
    "                print(f'Mango seller in your network is {person}')\n",
    "                return\n",
    "            else:\n",
    "                search_queue += graph[person]\n",
    "                searched.append(person)\n",
    "    return print('No mango seller in your network')\n",
    "\n",
    "search('bob')"
   ]
  },
  {
   "cell_type": "code",
   "execution_count": null,
   "id": "ec7d6a28",
   "metadata": {},
   "outputs": [],
   "source": []
  },
  {
   "cell_type": "markdown",
   "id": "703c7d5d",
   "metadata": {},
   "source": [
    "# Chapter 7\n",
    "\n",
    "## Dijkstra's algorithm"
   ]
  },
  {
   "cell_type": "markdown",
   "id": "4bd40be1",
   "metadata": {},
   "source": [
    "•  Breadth-first search is used to calculate the shortest path for an unweighted graph.\n",
    "<br>•  Dijkstra’s algorithm is used to calculate the shortest path for \n",
    "a weighted graph.\n",
    "<br>•  Dijkstra’s algorithm works when all the weights are positive and there are no cycles in the graph.\n",
    "<br>•  If you have negative weights, use the Bellman-Ford algorithm"
   ]
  },
  {
   "attachments": {
    "image.png": {
     "image/png": "[encoded data removed]"
    }
   },
   "cell_type": "markdown",
   "id": "463d9940",
   "metadata": {},
   "source": [
    "![image.png](attachment:image.png)"
   ]
  },
  {
   "cell_type": "code",
   "execution_count": 44,
   "id": "f2e32a49",
   "metadata": {},
   "outputs": [],
   "source": [
    "graph = {}\n",
    "graph['start'] = {}\n",
    "graph['start']['A'] = 6\n",
    "graph['start']['B'] = 2\n",
    "graph['A'] = {}\n",
    "graph['A']['Fin'] = 1\n",
    "graph['B'] = {}\n",
    "graph['B']['A'] = 3\n",
    "graph['B']['Fin'] = 5\n",
    "graph['Fin'] = {}"
   ]
  },
  {
   "cell_type": "code",
   "execution_count": 45,
   "id": "0fc1947f",
   "metadata": {},
   "outputs": [],
   "source": [
    "infinity = float('inf')"
   ]
  },
  {
   "cell_type": "code",
   "execution_count": 46,
   "id": "4027a42f",
   "metadata": {},
   "outputs": [],
   "source": [
    "costs = {}\n",
    "costs['A'] = 6\n",
    "costs['B'] = 2\n",
    "costs['Fin'] = infinity"
   ]
  },
  {
   "cell_type": "code",
   "execution_count": 47,
   "id": "62122e66",
   "metadata": {},
   "outputs": [],
   "source": [
    "parents = {}\n",
    "parents['A'] = 'start'\n",
    "parents['B'] = 'start'\n",
    "parents['Fin'] = None"
   ]
  },
  {
   "cell_type": "code",
   "execution_count": 48,
   "id": "13b6727a",
   "metadata": {},
   "outputs": [
    {
     "data": {
      "text/plain": [
       "{'A': 6, 'B': 2, 'Fin': inf}"
      ]
     },
     "execution_count": 48,
     "metadata": {},
     "output_type": "execute_result"
    }
   ],
   "source": [
    "processed = []\n",
    "costs"
   ]
  },
  {
   "cell_type": "code",
   "execution_count": 49,
   "id": "f879f6f8",
   "metadata": {},
   "outputs": [
    {
     "name": "stdout",
     "output_type": "stream",
     "text": [
      "6\n",
      "{'A': 'B', 'B': 'start', 'Fin': 'A'}\n"
     ]
    }
   ],
   "source": [
    "def find_lowest_cost_node(costs):\n",
    "    lowest_cost = float('inf')\n",
    "    lowest_cost_node = None\n",
    "    for node in costs:\n",
    "        cost = costs[node]\n",
    "        if cost < lowest_cost and node not in processed:\n",
    "            lowest_cost = cost\n",
    "            lowest_cost_node = node\n",
    "    return lowest_cost_node\n",
    "\n",
    "node = find_lowest_cost_node(costs)\n",
    "while node is not None:\n",
    "    cost = costs[node]\n",
    "    neighbors = graph[node]\n",
    "    for n in neighbors.keys():\n",
    "        new_cost = cost + neighbors[n]\n",
    "        if costs[n] > new_cost:\n",
    "            costs[n] = new_cost\n",
    "            parents[n] = node\n",
    "    processed.append(node)\n",
    "    node = find_lowest_cost_node(costs)\n",
    "    \n",
    "print(cost)\n",
    "print(parents)"
   ]
  },
  {
   "cell_type": "code",
   "execution_count": null,
   "id": "2a3660e6",
   "metadata": {},
   "outputs": [],
   "source": []
  },
  {
   "cell_type": "markdown",
   "id": "c46e4277",
   "metadata": {},
   "source": [
    "# Chapter 8\n",
    "\n",
    "## Greedy algorithms"
   ]
  },
  {
   "cell_type": "markdown",
   "id": "5b58d2e3",
   "metadata": {},
   "source": [
    "•  Greedy algorithms optimize locally, hoping to end up with a global \n",
    "optimum. \n",
    "<br>•  NP-complete problems have no known fast solution. (e.g. Knapsack problem, Travelling Salesman problem)\n",
    "<br>•  If you have an NP-complete problem, your best bet is to use an \n",
    "approximation algorithm. \n",
    "<br>•  Greedy algorithms are easy to write and fast to run, so they make \n",
    "good approximation algorithms"
   ]
  },
  {
   "cell_type": "code",
   "execution_count": null,
   "id": "f0fbb712",
   "metadata": {},
   "outputs": [],
   "source": []
  },
  {
   "cell_type": "markdown",
   "id": "c34abe83",
   "metadata": {},
   "source": [
    "# Chapter 9\n",
    "\n",
    "## Dynamic programming"
   ]
  },
  {
   "cell_type": "markdown",
   "id": "49eece82",
   "metadata": {},
   "source": [
    "•  Dynamic programming is useful when you’re trying to optimize \n",
    "something given a constraint. \n",
    "<br>•  You can use dynamic programming when the problem can be \n",
    "broken into discrete subproblems.\n",
    "<br>•  Every dynamic-programming solution involves a grid.\n",
    "<br>•  he values in the cells are usually what you’re trying to optimize.\n",
    "<br>•  Each cell is a subproblem, so think about how you can divide your \n",
    "problem into subproblems.\n",
    "<br>•  here’s no single formula for calculating a dynamic-programming \n",
    "solution."
   ]
  },
  {
   "cell_type": "code",
   "execution_count": null,
   "id": "7f1cccc6",
   "metadata": {},
   "outputs": [],
   "source": []
  },
  {
   "cell_type": "markdown",
   "id": "f03c1ab7",
   "metadata": {},
   "source": [
    "# Chapter 10\n",
    "\n",
    "## K-nearest neighbors"
   ]
  },
  {
   "cell_type": "code",
   "execution_count": null,
   "id": "a98b6854",
   "metadata": {},
   "outputs": [],
   "source": []
  }
 ],
 "metadata": {
  "kernelspec": {
   "display_name": "Python 3 (ipykernel)",
   "language": "python",
   "name": "python3"
  },
  "language_info": {
   "codemirror_mode": {
    "name": "ipython",
    "version": 3
   },
   "file_extension": ".py",
   "mimetype": "text/x-python",
   "name": "python",
   "nbconvert_exporter": "python",
   "pygments_lexer": "ipython3",
   "version": "3.8.10"
  }
 },
 "nbformat": 4,
 "nbformat_minor": 5
}
